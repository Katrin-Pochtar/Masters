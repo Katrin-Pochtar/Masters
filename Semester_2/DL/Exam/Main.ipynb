{
 "cells": [
  {
   "cell_type": "code",
   "execution_count": null,
   "id": "2e574cbf",
   "metadata": {},
   "outputs": [],
   "source": [
    "import os\n",
    "import json\n",
    "import pandas as pd\n",
    "import cv2\n",
    "import numpy as np"
   ]
  },
  {
   "cell_type": "code",
   "execution_count": null,
   "id": "4fd78b54",
   "metadata": {},
   "outputs": [],
   "source": [
    "with open('/Users/katrindar/MIPT/Masters/kaggle/kaggle.json', \"r\") as f:\n",
    "    kaggle_token = json.load(f)\n",
    "ß\n",
    "os.environ['KAGGLE_USERNAME'] = kaggle_token['username']\n",
    "os.environ['KAGGLE_KEY'] = kaggle_token['key']"
   ]
  },
  {
   "cell_type": "code",
   "execution_count": 25,
   "id": "d1a1e313",
   "metadata": {},
   "outputs": [
    {
     "name": "stdout",
     "output_type": "stream",
     "text": [
      "Dataset URL: https://www.kaggle.com/datasets/paultimothymooney/chest-xray-pneumonia\n",
      "License(s): other\n",
      "Downloading chest-xray-pneumonia.zip to /Users/katrindar/MIPT/Masters/Semester_2/DL/Exam\n",
      " 96%|████████████████████████████████████▎ | 2.19G/2.29G [00:01<00:00, 1.72GB/s]\n",
      "100%|██████████████████████████████████████| 2.29G/2.29G [00:01<00:00, 1.60GB/s]\n"
     ]
    }
   ],
   "source": [
    "!kaggle datasets download -d paultimothymooney/chest-xray-pneumonia"
   ]
  },
  {
   "cell_type": "code",
   "execution_count": null,
   "id": "b7a01ac8",
   "metadata": {},
   "outputs": [],
   "source": [
    "import zipfile\n",
    "\n",
    "with zipfile.ZipFile(\"chest-xray-pneumonia.zip\", 'r') as zip_ref:\n",
    "    zip_ref.extractall(\"chest_xray_data\")"
   ]
  },
  {
   "cell_type": "code",
   "execution_count": null,
   "id": "5a388206",
   "metadata": {},
   "outputs": [],
   "source": [
    "train_dir = 'chest_xray_data/chest_xray/train/'\n",
    "valid_dir = 'chest_xray_data/chest_xray/test/'\n",
    "test_dir = 'chest_xray_data/chest_xray/val/'\n",
    "\n",
    "model_path = 'test_model.keras'"
   ]
  },
  {
   "cell_type": "code",
   "execution_count": null,
   "id": "a692b367",
   "metadata": {},
   "outputs": [],
   "source": [
    "# 2090 × 1858"
   ]
  },
  {
   "cell_type": "code",
   "execution_count": null,
   "id": "594f05d6",
   "metadata": {},
   "outputs": [],
   "source": [
    "# install cv\n",
    "# resize"
   ]
  },
  {
   "cell_type": "code",
   "execution_count": null,
   "id": "d639a205",
   "metadata": {},
   "outputs": [],
   "source": [
    "def load_data(directory, img_size=(32, 32)):\n",
    "    X, Y = [], []\n",
    "    for direct in os.listdir(directory):\n",
    "        direct_path = os.path.join(directory, direct)\n",
    "        if not os.path.isdir(direct_path):\n",
    "            continue\n",
    "        for filename in os.listdir(direct_path):\n",
    "            img_path = os.path.join(direct_path, filename)\n",
    "            img = cv2.imread(img_path)\n",
    "            if img is None:\n",
    "                continue\n",
    "            img = cv2.resize(img, img_size)\n",
    "            img = img.astype(np.float32) / 255.0\n",
    "            X.append(img)\n",
    "            Y.append(direct)\n",
    "    return np.array(X), np.array(Y)\n",
    "\n",
    "x_train, y_train = load_data(train_dir)\n",
    "x_val, y_val = load_data(valid_dir)\n",
    "x_test, y_test = load_data(test_dir)\n",
    "\n",
    "# Convert labels to binary\n",
    "y_train = np.array([1 if label == 'PNEUMONIA' else 0 for label in y_train])\n",
    "y_val = np.array([1 if label == 'PNEUMONIA' else 0 for label in y_val])\n",
    "y_test = np.array([1 if label == 'PNEUMONIA' else 0 for label in y_test])\n",
    "\n",
    "print(\"x_train shape:\", x_train.shape)\n",
    "print(\"x_val shape:\", x_val.shape)\n",
    "print(\"x_test shape:\", x_test.shape)\n",
    "print(\"y_train shape:\", y_train.shape)\n",
    "print(\"y_val shape:\", y_val.shape)\n",
    "print(\"y_test shape:\", y_test.shape)"
   ]
  }
 ],
 "metadata": {
  "kernelspec": {
   "display_name": "base",
   "language": "python",
   "name": "python3"
  },
  "language_info": {
   "codemirror_mode": {
    "name": "ipython",
    "version": 3
   },
   "file_extension": ".py",
   "mimetype": "text/x-python",
   "name": "python",
   "nbconvert_exporter": "python",
   "pygments_lexer": "ipython3",
   "version": "3.12.4"
  }
 },
 "nbformat": 4,
 "nbformat_minor": 5
}
