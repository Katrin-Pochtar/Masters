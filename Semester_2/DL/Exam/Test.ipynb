{
 "cells": [
  {
   "cell_type": "code",
   "execution_count": null,
   "id": "2e574cbf",
   "metadata": {},
   "outputs": [],
   "source": [
    "import os\n",
    "import json"
   ]
  },
  {
   "cell_type": "code",
   "execution_count": 24,
   "id": "4fd78b54",
   "metadata": {},
   "outputs": [],
   "source": [
    "with open('/Users/katrindar/MIPT/Masters/kaggle/kaggle.json', \"r\") as f:\n",
    "    kaggle_token = json.load(f)\n",
    "\n",
    "os.environ['KAGGLE_USERNAME'] = kaggle_token['username']\n",
    "os.environ['KAGGLE_KEY'] = kaggle_token['key']"
   ]
  },
  {
   "cell_type": "code",
   "execution_count": 25,
   "id": "d1a1e313",
   "metadata": {},
   "outputs": [
    {
     "name": "stdout",
     "output_type": "stream",
     "text": [
      "Dataset URL: https://www.kaggle.com/datasets/paultimothymooney/chest-xray-pneumonia\n",
      "License(s): other\n",
      "Downloading chest-xray-pneumonia.zip to /Users/katrindar/MIPT/Masters/Semester_2/DL/Exam\n",
      " 96%|████████████████████████████████████▎ | 2.19G/2.29G [00:01<00:00, 1.72GB/s]\n",
      "100%|██████████████████████████████████████| 2.29G/2.29G [00:01<00:00, 1.60GB/s]\n"
     ]
    }
   ],
   "source": [
    "!kaggle datasets download -d paultimothymooney/chest-xray-pneumonia"
   ]
  },
  {
   "cell_type": "code",
   "execution_count": 27,
   "id": "b7a01ac8",
   "metadata": {},
   "outputs": [],
   "source": [
    "import zipfile\n",
    "\n",
    "with zipfile.ZipFile(\"chest-xray-pneumonia.zip\", 'r') as zip_ref:\n",
    "    zip_ref.extractall(\"chest_xray_data\")  # or use \".\" to extract here"
   ]
  },
  {
   "cell_type": "code",
   "execution_count": 26,
   "id": "b8bb39a6",
   "metadata": {},
   "outputs": [
    {
     "name": "stdout",
     "output_type": "stream",
     "text": [
      "ref                                                             title                                                     size  lastUpdated                 downloadCount  voteCount  usabilityRating  \n",
      "--------------------------------------------------------------  -------------------------------------------------  -----------  --------------------------  -------------  ---------  ---------------  \n",
      "rakeshkapilavai/extrovert-vs-introvert-behavior-data            Extrovert vs. Introvert Behavior Data                    31277  2025-06-13 14:26:48.303000          18096        397  1.0              \n",
      "bismasajjad/global-ai-job-market-and-salary-trends-2025         Global AI Job Market & Salary Trends 2025               529004  2025-06-01 07:20:49.537000           6494        106  0.9411765        \n",
      "adilshamim8/social-media-addiction-vs-relationships             Students' Social Media Addiction                          7851  2025-05-10 14:38:02.713000          17359        265  1.0              \n",
      "prajwaldongre/loan-application-and-transaction-fraud-detection  Loan Application & Transaction: Fraud Detection        8339124  2025-06-10 08:44:19.813000           1096         24  1.0              \n",
      "therohithanand/used-car-price-prediction                        Used Car Price Prediction                               144387  2025-06-09 08:04:12.570000           1891         27  1.0              \n",
      "brendanartley/openfwi-preprocessed-72x72                        OpenFWI Preprocessed 72x72                         22114565718  2025-06-02 17:25:58.957000           3690         60  1.0              \n",
      "sahilislam007/shopping-trends-and-customer-behaviour-dataset    Shopping Trends And Customer Behaviour Dataset           79891  2025-05-25 13:51:18.823000           1832         29  0.9411765        \n",
      "sahilislam007/sales-dataset                                     Sales Dataset                                             9016  2025-05-27 07:28:19.667000           1711         30  1.0              \n",
      "adilshamim8/rock-paper-scissors                                 Rock Paper Scissors SXSW: Hand Gesture Detection     210940029  2025-05-28 04:09:22.500000           1754         77  1.0              \n",
      "shalmamuji/personality-prediction-data-introvert-extrovert      Personality prediction data | introvert extrovert       164292  2025-06-12 10:38:45.273000            664         25  1.0              \n",
      "samanfatima7/2020-2025-apple-stock-dataset                      2020-2025 Apple Stock Dataset                            52546  2025-06-03 11:57:03.600000            928         22  0.9411765        \n",
      "abhishekdave9/digital-habits-vs-mental-health-dataset           Screen Time Impact on Mental Health                     559014  2025-06-13 11:42:28.647000            448         24  0.9411765        \n",
      "aritra100/world-university-ranking                              World University Ranking                                195305  2025-05-17 04:57:33.757000           1279         21  1.0              \n",
      "chaitu20/ipl-dataset2008-2025                                   IPL Dataset(2008-2025)                                 6688937  2025-06-06 17:04:29.517000           1209         28  1.0              \n",
      "hbugrae/best-selling-steam-games-of-all-time                    Best-Selling Steam Games of All Time                    158051  2025-06-12 11:24:15.477000            771         22  1.0              \n",
      "siddharth0935/video-game-sales                                  Video Game Sales                                       1991731  2025-06-04 04:26:30.680000           1634         30  1.0              \n",
      "dansbecker/melbourne-housing-snapshot                           Melbourne Housing Snapshot                              461423  2018-06-05 12:52:24.087000         182389       1638  0.7058824        \n",
      "makslypko/large-cars-dataset                                    Large Dataset of Cars 🚗🏎                                 11473  2025-06-06 08:10:37.170000            544         24  1.0              \n",
      "datasnaek/youtube-new                                           Trending YouTube Video Statistics                    210575746  2019-06-03 00:56:47.177000         273833       5687  0.7941176        \n",
      "zynicide/wine-reviews                                           Wine Reviews                                          53336293  2017-11-27 17:08:04.700000         327350       3739  0.7941176        \n"
     ]
    }
   ],
   "source": [
    "!kaggle datasets list\n"
   ]
  },
  {
   "cell_type": "code",
   "execution_count": null,
   "id": "3ea23000",
   "metadata": {},
   "outputs": [],
   "source": []
  }
 ],
 "metadata": {
  "kernelspec": {
   "display_name": "base",
   "language": "python",
   "name": "python3"
  },
  "language_info": {
   "codemirror_mode": {
    "name": "ipython",
    "version": 3
   },
   "file_extension": ".py",
   "mimetype": "text/x-python",
   "name": "python",
   "nbconvert_exporter": "python",
   "pygments_lexer": "ipython3",
   "version": "3.12.4"
  }
 },
 "nbformat": 4,
 "nbformat_minor": 5
}
