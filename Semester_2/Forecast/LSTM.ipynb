{
 "cells": [
  {
   "cell_type": "code",
   "execution_count": 2,
   "id": "bad7e03c",
   "metadata": {},
   "outputs": [],
   "source": [
    "import pandas as pd"
   ]
  },
  {
   "cell_type": "code",
   "execution_count": 3,
   "id": "c7e842f0",
   "metadata": {},
   "outputs": [],
   "source": [
    "df = pd.read_csv('data/data_for_modeling.csv')"
   ]
  },
  {
   "cell_type": "code",
   "execution_count": 6,
   "id": "8edd41f1",
   "metadata": {},
   "outputs": [
    {
     "name": "stdout",
     "output_type": "stream",
     "text": [
      "Max date:      2014-10-31\n",
      "Cutoff date:   2014-10-09\n",
      "Train rows:    231404\n",
      "Holdout rows:  4634\n"
     ]
    }
   ],
   "source": [
    "import pandas as pd\n",
    "\n",
    "df = pd.read_csv('data/data_for_modeling.csv')\n",
    "\n",
    "# 1) Parse the date column (convert strings → datetime)\n",
    "df['date'] = pd.to_datetime(df['date'])\n",
    "\n",
    "# 2) Sort by date and compute cutoff\n",
    "df = df.sort_values('date')\n",
    "max_date = df['date'].max()\n",
    "cutoff_date = max_date - pd.Timedelta(days=22)\n",
    "\n",
    "# 3) Split\n",
    "train    = df[df['date'] <= cutoff_date]\n",
    "holdout  = df[df['date'] >  cutoff_date]\n",
    "\n",
    "print(f\"Max date:      {max_date.date()}\")\n",
    "print(f\"Cutoff date:   {cutoff_date.date()}\")\n",
    "print(f\"Train rows:    {train.shape[0]}\")\n",
    "print(f\"Holdout rows:  {holdout.shape[0]}\")\n"
   ]
  },
  {
   "cell_type": "code",
   "execution_count": null,
   "id": "0581413c",
   "metadata": {},
   "outputs": [],
   "source": []
  }
 ],
 "metadata": {
  "kernelspec": {
   "display_name": "base",
   "language": "python",
   "name": "python3"
  },
  "language_info": {
   "codemirror_mode": {
    "name": "ipython",
    "version": 3
   },
   "file_extension": ".py",
   "mimetype": "text/x-python",
   "name": "python",
   "nbconvert_exporter": "python",
   "pygments_lexer": "ipython3",
   "version": "3.12.4"
  }
 },
 "nbformat": 4,
 "nbformat_minor": 5
}
