{
 "cells": [
  {
   "attachments": {},
   "cell_type": "markdown",
   "metadata": {},
   "source": [
    "## Домашнее задание №7\n",
    "\n",
    "##### Автор: [Радослав Нейчев](https://www.linkedin.com/in/radoslav-neychev/), @neychev"
   ]
  },
  {
   "cell_type": "code",
   "execution_count": 1,
   "metadata": {},
   "outputs": [],
   "source": [
    "import numpy as np\n",
    "\n",
    "import torch\n",
    "from torch import nn\n",
    "from torch.nn import functional as F\n",
    "\n",
    "import torchvision\n",
    "from torchvision.datasets import MNIST\n",
    "\n",
    "from matplotlib import pyplot as plt\n",
    "from IPython.display import clear_output"
   ]
  },
  {
   "attachments": {},
   "cell_type": "markdown",
   "metadata": {},
   "source": [
    "### Задача №1: \n",
    "Обратимся к классической задаче распознавания рукописных цифр. Мы будем работать с набором данных [MNIST](http://yann.lecun.com/exdb/mnist/). В данном задании воспользуемся всем датасетом целиком.\n",
    "\n",
    "__Ваша основная задача: реализовать весь пайплан обучения модели и добиться качества $\\geq 92\\%$ на тестовой выборке.__\n",
    "\n",
    "Код для обучения модели в данном задании отсутствует. Присутствует лишь несколько тестов, которые помогут вам отладить свое решение. За примером можно обратиться к ноутбуку первого занятия.\n",
    "\n",
    "Настоятельно рекомендуем написать код \"с нуля\", лишь поглядывая на готовые примеры, а не просто \"скопировать-вставить\". Это поможет вам в дальнейшем."
   ]
  },
  {
   "cell_type": "code",
   "execution_count": null,
   "metadata": {},
   "outputs": [],
   "source": [
    "# do not change the code in the block below\n",
    "# __________start of block__________\n",
    "\n",
    "train_mnist_data = MNIST(\n",
    "    \".\", train=True, transform=torchvision.transforms.ToTensor(), download=True\n",
    ")\n",
    "test_mnist_data = MNIST(\n",
    "    \".\", train=False, transform=torchvision.transforms.ToTensor(), download=True\n",
    ")\n",
    "\n",
    "\n",
    "train_data_loader = torch.utils.data.DataLoader(\n",
    "    train_mnist_data, batch_size=32, shuffle=True, num_workers=2\n",
    ")\n",
    "\n",
    "test_data_loader = torch.utils.data.DataLoader(\n",
    "    test_mnist_data, batch_size=32, shuffle=False, num_workers=2\n",
    ")\n",
    "\n",
    "random_batch = next(iter(train_data_loader))\n",
    "_image, _label = random_batch[0][0], random_batch[1][0]\n",
    "plt.figure()\n",
    "plt.imshow(_image.reshape(28, 28))\n",
    "plt.title(f\"Image label: {_label}\")\n",
    "# __________end of block__________"
   ]
  },
  {
   "attachments": {},
   "cell_type": "markdown",
   "metadata": {},
   "source": [
    "Постройте модель ниже. Пожалуйста, не стройте переусложненную сеть, не стоит делать ее глубже четырех слоев (можно и меньше). Ваша основная задача – обучить модель и получить качество на отложенной (тестовой выборке) не менее 92% accuracy.\n",
    "\n",
    "*Комментарий: для этого достаточно линейных слоев и функций активации.*\n",
    "\n",
    "__Внимание, ваша модель должна быть представлена именно переменной `model`.__"
   ]
  },
  {
   "cell_type": "code",
   "execution_count": null,
   "metadata": {},
   "outputs": [],
   "source": [
    "# Creating model instance\n",
    "model = None  # your code here"
   ]
  },
  {
   "cell_type": "code",
   "execution_count": 2,
   "metadata": {},
   "outputs": [
    {
     "name": "stderr",
     "output_type": "stream",
     "text": [
      "100%|██████████| 9.91M/9.91M [00:01<00:00, 5.44MB/s]\n",
      "100%|██████████| 28.9k/28.9k [00:00<00:00, 308kB/s]\n",
      "100%|██████████| 1.65M/1.65M [00:00<00:00, 2.82MB/s]\n",
      "100%|██████████| 4.54k/4.54k [00:00<00:00, 3.84MB/s]\n"
     ]
    },
    {
     "name": "stdout",
     "output_type": "stream",
     "text": [
      "Epoch 1/5 — Test accuracy: 0.9345\n",
      "Epoch 2/5 — Test accuracy: 0.9501\n",
      "Epoch 3/5 — Test accuracy: 0.9639\n",
      "Epoch 4/5 — Test accuracy: 0.9690\n",
      "Epoch 5/5 — Test accuracy: 0.9701\n",
      "File saved to `submission_dict_hw07.json` and `submission_dict_hw07.npy`\n"
     ]
    }
   ],
   "source": [
    "import os\n",
    "import json\n",
    "import numpy as np\n",
    "import torch\n",
    "import torch.nn as nn\n",
    "import torch.optim as optim\n",
    "from torchvision import datasets, transforms\n",
    "\n",
    "from torch.utils.data import DataLoader\n",
    "\n",
    "# 1. Set device to CPU to avoid CUDA issues\n",
    "device = torch.device('cpu')\n",
    "\n",
    "# 2. Load MNIST dataset\n",
    "transform = transforms.ToTensor()\n",
    "train_ds = datasets.MNIST(root='.', train=True, download=True, transform=transform)\n",
    "test_ds = datasets.MNIST(root='.', train=False, download=True, transform=transform)\n",
    "train_loader = DataLoader(train_ds, batch_size=128, shuffle=True)\n",
    "test_loader = DataLoader(test_ds, batch_size=1000, shuffle=False)\n",
    "\n",
    "# 3. Define a simple neural network\n",
    "class Net(nn.Module):\n",
    "    def __init__(self):\n",
    "        super(Net, self).__init__()\n",
    "        self.fc1 = nn.Linear(28*28, 128)\n",
    "        self.relu = nn.ReLU()\n",
    "        self.fc2 = nn.Linear(128, 10)\n",
    "    def forward(self, x):\n",
    "        x = x.view(-1, 28*28)\n",
    "        x = self.relu(self.fc1(x))\n",
    "        x = self.fc2(x)\n",
    "        return x\n",
    "\n",
    "model = Net().to(device)\n",
    "\n",
    "# 4. Train the model to reach ≥92% accuracy\n",
    "criterion = nn.CrossEntropyLoss()\n",
    "optimizer = optim.Adam(model.parameters(), lr=0.001)\n",
    "epochs = 5\n",
    "\n",
    "for epoch in range(1, epochs + 1):\n",
    "    model.train()\n",
    "    for data, target in train_loader:\n",
    "        data, target = data.to(device), target.to(device)\n",
    "        optimizer.zero_grad()\n",
    "        output = model(data)\n",
    "        loss = criterion(output, target)\n",
    "        loss.backward()\n",
    "        optimizer.step()\n",
    "    # Evaluate on MNIST test set\n",
    "    model.eval()\n",
    "    correct = 0\n",
    "    total = 0\n",
    "    with torch.no_grad():\n",
    "        for data, target in test_loader:\n",
    "            data, target = data.to(device), target.to(device)\n",
    "            pred = model(data).argmax(dim=1)\n",
    "            correct += (pred == target).sum().item()\n",
    "            total += target.size(0)\n",
    "    acc = correct / total\n",
    "    print(f\"Epoch {epoch}/{epochs} — Test accuracy: {acc:.4f}\")\n",
    "\n",
    "# 5. Load hw07_data_dict.npy and generate submission\n",
    "assert os.path.exists(\"hw07_data_dict.npy\"), \\\n",
    "    \"Please download `hw07_data_dict.npy` and place it in the working directory.\"\n",
    "\n",
    "data_dict = np.load(\"hw07_data_dict.npy\", allow_pickle=True).item()\n",
    "\n",
    "def get_predictions(mdl, eval_data, step=100):\n",
    "    preds = []\n",
    "    mdl.eval()\n",
    "    with torch.no_grad():\n",
    "        for idx in range(0, len(eval_data), step):\n",
    "            batch = torch.tensor(eval_data[idx:idx+step], dtype=torch.float32).to(device)\n",
    "            output = mdl(batch)\n",
    "            preds.append(output.argmax(dim=1).cpu())\n",
    "    return torch.cat(preds).numpy()\n",
    "\n",
    "train_preds = get_predictions(model, data_dict[\"train\"])\n",
    "test_preds  = get_predictions(model, data_dict[\"test\"])\n",
    "\n",
    "# Convert to NumPy and string lists\n",
    "train_labels_np = np.array(train_preds, dtype=np.int32)\n",
    "test_labels_np  = np.array(test_preds, dtype=np.int32)\n",
    "train_labels_str = [str(int(x)) for x in train_preds]\n",
    "test_labels_str  = [str(int(x)) for x in test_preds]\n",
    "\n",
    "# Prepare submission dicts\n",
    "submission_dict_np  = {\"train\": train_labels_np, \"test\": test_labels_np}\n",
    "submission_dict_str = {\"train\": train_labels_str,      \"test\": test_labels_str}\n",
    "\n",
    "# Save submission files\n",
    "np.save(\"submission_dict_hw07.npy\", submission_dict_np, allow_pickle=True)\n",
    "with open(\"submission_dict_hw07.json\", \"w\") as f:\n",
    "    json.dump(submission_dict_str, f)\n",
    "\n",
    "print(\"File saved to `submission_dict_hw07.json` and `submission_dict_hw07.npy`\")\n"
   ]
  },
  {
   "attachments": {},
   "cell_type": "markdown",
   "metadata": {},
   "source": [
    "Локальные тесты для проверки вашей модели доступны ниже:"
   ]
  },
  {
   "cell_type": "code",
   "execution_count": null,
   "metadata": {},
   "outputs": [],
   "source": [
    "# do not change the code in the block below\n",
    "# __________start of block__________\n",
    "assert model is not None, \"Please, use `model` variable to store your model\"\n",
    "\n",
    "try:\n",
    "    x = random_batch[0].reshape(-1, 784)\n",
    "    y = random_batch[1]\n",
    "\n",
    "    # compute outputs given inputs, both are variables\n",
    "    y_predicted = model(x)\n",
    "except Exception as e:\n",
    "    print(\"Something is wrong with the model\")\n",
    "    raise e\n",
    "\n",
    "\n",
    "assert y_predicted.shape[-1] == 10, \"Model should predict 10 logits/probas\"\n",
    "\n",
    "print(\"Everything seems fine!\")\n",
    "# __________end of block__________"
   ]
  },
  {
   "attachments": {},
   "cell_type": "markdown",
   "metadata": {},
   "source": [
    "Настройте параметры модели на обучающей выборке. Рекомендуем поработать с различными оптимизаторами."
   ]
  },
  {
   "cell_type": "code",
   "execution_count": null,
   "metadata": {},
   "outputs": [],
   "source": [
    "# your code here"
   ]
  },
  {
   "attachments": {},
   "cell_type": "markdown",
   "metadata": {},
   "source": [
    "Также, напоминаем, что в любой момент можно обратиться к замечательной [документации](https://pytorch.org/docs/stable/index.html) и [обучающим примерам](https://pytorch.org/tutorials/).  "
   ]
  },
  {
   "attachments": {},
   "cell_type": "markdown",
   "metadata": {},
   "source": [
    "Оценим качество классификации:"
   ]
  },
  {
   "cell_type": "code",
   "execution_count": null,
   "metadata": {},
   "outputs": [],
   "source": [
    "predicted_labels = []\n",
    "real_labels = []\n",
    "model.eval()\n",
    "with torch.no_grad():\n",
    "    for batch in train_data_loader:\n",
    "        y_predicted = model(batch[0].reshape(-1, 784))\n",
    "        predicted_labels.append(y_predicted.argmax(dim=1))\n",
    "        real_labels.append(batch[1])\n",
    "\n",
    "predicted_labels = torch.cat(predicted_labels)\n",
    "real_labels = torch.cat(real_labels)\n",
    "train_acc = (predicted_labels == real_labels).type(torch.FloatTensor).mean()"
   ]
  },
  {
   "cell_type": "code",
   "execution_count": null,
   "metadata": {},
   "outputs": [],
   "source": [
    "print(f\"Neural network accuracy on train set: {train_acc:3.5}\")"
   ]
  },
  {
   "cell_type": "code",
   "execution_count": null,
   "metadata": {},
   "outputs": [],
   "source": [
    "predicted_labels = []\n",
    "real_labels = []\n",
    "model.eval()\n",
    "with torch.no_grad():\n",
    "    for batch in test_data_loader:\n",
    "        y_predicted = model(batch[0].reshape(-1, 784))\n",
    "        predicted_labels.append(y_predicted.argmax(dim=1))\n",
    "        real_labels.append(batch[1])\n",
    "\n",
    "predicted_labels = torch.cat(predicted_labels)\n",
    "real_labels = torch.cat(real_labels)\n",
    "test_acc = (predicted_labels == real_labels).type(torch.FloatTensor).mean()"
   ]
  },
  {
   "cell_type": "code",
   "execution_count": null,
   "metadata": {},
   "outputs": [],
   "source": [
    "print(f\"Neural network accuracy on test set: {test_acc:3.5}\")"
   ]
  },
  {
   "attachments": {},
   "cell_type": "markdown",
   "metadata": {},
   "source": [
    "Проверка, что необходимые пороги пройдены:"
   ]
  },
  {
   "cell_type": "code",
   "execution_count": null,
   "metadata": {},
   "outputs": [],
   "source": [
    "assert test_acc >= 0.92, \"Test accuracy is below 0.92 threshold\"\n",
    "assert (\n",
    "    train_acc >= 0.91\n",
    "), \"Train accuracy is below 0.91 while test accuracy is fine. We recommend to check your model and data flow\""
   ]
  },
  {
   "attachments": {},
   "cell_type": "markdown",
   "metadata": {},
   "source": [
    "### Сдача задания\n",
    "Загрузите файл `hw07_data_dict.npy` (ссылка есть на странице с заданием) и запустите код ниже для генерации посылки."
   ]
  },
  {
   "cell_type": "code",
   "execution_count": null,
   "metadata": {},
   "outputs": [],
   "source": [
    "# do not change the code in the block below\n",
    "# __________start of block__________\n",
    "import os\n",
    "import json\n",
    "\n",
    "assert os.path.exists(\n",
    "    \"hw07_data_dict.npy\"\n",
    "), \"Please, download `hw07_data_dict.npy` and place it in the working directory\"\n",
    "\n",
    "\n",
    "def get_predictions(model, eval_data, step=10):\n",
    "\n",
    "    predicted_labels = []\n",
    "    model.eval()\n",
    "    with torch.no_grad():\n",
    "        for idx in range(0, len(eval_data), step):\n",
    "            y_predicted = model(eval_data[idx : idx + step].reshape(-1, 784))\n",
    "            predicted_labels.append(y_predicted.argmax(dim=1))\n",
    "\n",
    "    predicted_labels_np = torch.cat(predicted_labels).numpy()\n",
    "    predicted_labels_str = \",\".join([str(x) for x in list(predicted_labels)])\n",
    "    return predicted_labels_np, predicted_labels_str\n",
    "\n",
    "\n",
    "loaded_data_dict = np.load(\"hw07_data_dict.npy\", allow_pickle=True)\n",
    "\n",
    "train_labels_np, train_labels_str = get_predictions(\n",
    "    model, torch.FloatTensor(loaded_data_dict.item()[\"train\"])\n",
    ")\n",
    "test_labels_np, test_labels_str = get_predictions(\n",
    "    model, torch.FloatTensor(loaded_data_dict.item()[\"test\"])\n",
    ")\n",
    "\n",
    "submission_dict_str = {\n",
    "    \"train\": train_labels_str,\n",
    "    \"test\": test_labels_str,\n",
    "}\n",
    "\n",
    "submission_dict_np = {\n",
    "    \"train\": train_labels_np,\n",
    "    \"test\": test_labels_np,\n",
    "}\n",
    "\n",
    "np.save(\"submission_dict_hw07.npy\", submission_dict_np, allow_pickle=True)\n",
    "with open(\"submission_dict_hw07.json\", \"w\") as iofile:\n",
    "    json.dump(submission_dict_str, iofile)\n",
    "print(\"File saved to `submission_dict_hw07.json` and `submission_dict_hw07.npy`\")\n",
    "# __________end of block__________"
   ]
  },
  {
   "attachments": {},
   "cell_type": "markdown",
   "metadata": {},
   "source": [
    "На этом задание завершено. Поздравляем!"
   ]
  }
 ],
 "metadata": {
  "kernelspec": {
   "display_name": "base",
   "language": "python",
   "name": "python3"
  },
  "language_info": {
   "codemirror_mode": {
    "name": "ipython",
    "version": 3
   },
   "file_extension": ".py",
   "mimetype": "text/x-python",
   "name": "python",
   "nbconvert_exporter": "python",
   "pygments_lexer": "ipython3",
   "version": "3.12.4"
  }
 },
 "nbformat": 4,
 "nbformat_minor": 4
}
