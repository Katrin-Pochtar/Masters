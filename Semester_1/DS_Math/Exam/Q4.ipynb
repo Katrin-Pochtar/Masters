{
 "cells": [
  {
   "cell_type": "code",
   "execution_count": 10,
   "metadata": {},
   "outputs": [],
   "source": [
    "import numpy as np"
   ]
  },
  {
   "cell_type": "code",
   "execution_count": 11,
   "metadata": {},
   "outputs": [],
   "source": [
    "A = [[3, 2], [1, 4]]\n",
    "B = [[2, 0], [1, 6]]"
   ]
  },
  {
   "cell_type": "markdown",
   "metadata": {},
   "source": [
    "# Dot product"
   ]
  },
  {
   "cell_type": "code",
   "execution_count": 12,
   "metadata": {},
   "outputs": [
    {
     "name": "stdout",
     "output_type": "stream",
     "text": [
      "Произведение:\n",
      "[[ 8 12]\n",
      " [ 6 24]]\n"
     ]
    }
   ],
   "source": [
    "print(\"Произведение:\")\n",
    "print(np.dot(A, B))"
   ]
  },
  {
   "cell_type": "markdown",
   "metadata": {},
   "source": [
    "# Vector norm"
   ]
  },
  {
   "cell_type": "code",
   "execution_count": 13,
   "metadata": {},
   "outputs": [
    {
     "name": "stdout",
     "output_type": "stream",
     "text": [
      "L1-норма = 12.0\n",
      "L2-норма = 7.0710678118654755\n"
     ]
    }
   ],
   "source": [
    "v = [3, 4, 5]\n",
    "\n",
    "norm_l1 = np.linalg.norm(v, 1)\n",
    "norm_l2 = np.linalg.norm(v, 2)\n",
    "\n",
    "print(\"L1-норма =\", norm_l1)\n",
    "print(\"L2-норма =\", norm_l2)"
   ]
  },
  {
   "cell_type": "markdown",
   "metadata": {},
   "source": [
    "# Determinant and inverse matrix"
   ]
  },
  {
   "cell_type": "code",
   "execution_count": 14,
   "metadata": {},
   "outputs": [
    {
     "name": "stdout",
     "output_type": "stream",
     "text": [
      "Определитель матрицы A: 10.000000000000002\n",
      "Обратная матрица:\n",
      "[[ 0.4 -0.2]\n",
      " [-0.1  0.3]]\n"
     ]
    }
   ],
   "source": [
    "print(\"Определитель матрицы A:\", np.linalg.det(A))\n",
    "print(\"Обратная матрица:\")\n",
    "print(np.linalg.inv(A))"
   ]
  }
 ],
 "metadata": {
  "kernelspec": {
   "display_name": "Python 3",
   "language": "python",
   "name": "python3"
  },
  "language_info": {
   "codemirror_mode": {
    "name": "ipython",
    "version": 3
   },
   "file_extension": ".py",
   "mimetype": "text/x-python",
   "name": "python",
   "nbconvert_exporter": "python",
   "pygments_lexer": "ipython3",
   "version": "3.12.6"
  }
 },
 "nbformat": 4,
 "nbformat_minor": 2
}
