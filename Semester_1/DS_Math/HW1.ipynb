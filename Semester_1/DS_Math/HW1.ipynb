{
  "cells": [
    {
      "cell_type": "markdown",
      "id": "b054bd88",
      "metadata": {
        "id": "b054bd88"
      },
      "source": [
        "# <center> Линейная алгебра в контексте линейных методов. Практика.\n",
        "\n",
        "## <center> Прогнозирование выработки газа на скважинах."
      ]
    },
    {
      "cell_type": "markdown",
      "id": "325bc80b",
      "metadata": {
        "id": "325bc80b"
      },
      "source": [
        "## Постановка задачи"
      ]
    },
    {
      "cell_type": "markdown",
      "id": "8247bd54",
      "metadata": {
        "id": "8247bd54"
      },
      "source": [
        "У Василия, основателя компании «Газ-Таз-Ваз-Нефть», дела идут в гору: у него уже функционирует 200 скважин для добычи газа. В этом году он открывает 30 новых скважин. Однако в целях оптимизации расходов и повышения дохода Василию необходимо оценить, сколько денег будет приносить ему каждая из скважин, а также понять, какие факторы (параметры скважин) потенциально сильнее всего повлияют на объём добычи газа. Для этого Василий решил нанять вас как специалиста в области Data Science.\n",
        "\n",
        "Василий представляет вам набор данных о добыче газа на своих скважинах. Файл с данными вы можете скачать на платформе.\n",
        "\n",
        "**Признаки в данных:**\n",
        "\n",
        "* Well — идентификатор скважины;\n",
        "* Por — пористость скважины (%);\n",
        "* Perm — проницаемость скважины;\n",
        "* AI — акустический импеданс ($кг/м^2 * 10^6$);\n",
        "* Brittle — коэффициент хрупкости скважины (%);\n",
        "* TOC — общий органический углерод (%);\n",
        "* VR — коэффициент отражения витринита (%);\n",
        "* Prod — добыча газа в сутки (млн. кубических футов).\n",
        "\n",
        "**Ваша задача** — построить регрессионную модель, которая прогнозирует выработку газа на скважине (целевой признак — Prod) на основе остальных характеристик скважины, и проинтерпретировать результаты вашей модели.\n",
        "\n",
        "Разделим задачу на две части:\n",
        "* В первой мы построим простейшую модель линейной регрессии, проанализируем результаты её работы и выберем наиболее значимые факторы для прогнозирования.\n",
        "* Во второй мы займёмся построением модели полиномиальной регрессии с регуляризацией и посмотрим на итоговые результаты моделирования.\n"
      ]
    },
    {
      "cell_type": "markdown",
      "id": "d67d069e",
      "metadata": {
        "id": "d67d069e"
      },
      "source": [
        "Импортируем необходимые библиотеки:"
      ]
    },
    {
      "cell_type": "code",
      "execution_count": 72,
      "id": "83a555bc-8dff-4b7e-bba1-cd4f4a9e69b2",
      "metadata": {
        "id": "83a555bc-8dff-4b7e-bba1-cd4f4a9e69b2"
      },
      "outputs": [],
      "source": [
        "# Импорт библиотек\n",
        "import numpy as np # для работы с массивами\n",
        "import pandas as pd # для работы с DataFrame \n",
        "import plotly.express as px\n",
        "import plotly.graph_objects as go\n",
        "import statsmodels.api as sm"
      ]
    },
    {
      "cell_type": "code",
      "execution_count": 73,
      "id": "c496c29e",
      "metadata": {},
      "outputs": [],
      "source": [
        "# plot_format = 'png'\n",
        "plot_format = ''"
      ]
    },
    {
      "cell_type": "markdown",
      "id": "e689ddaf",
      "metadata": {
        "id": "e689ddaf"
      },
      "source": [
        "Прочитаем исходные данные:"
      ]
    },
    {
      "cell_type": "code",
      "execution_count": 74,
      "id": "b7b5cd9b-703f-4dbc-a6e3-61d583eafcac",
      "metadata": {
        "colab": {
          "base_uri": "https://localhost:8080/",
          "height": 206
        },
        "id": "b7b5cd9b-703f-4dbc-a6e3-61d583eafcac",
        "outputId": "d4e99a48-2a0d-4edd-f86c-617c44bf36d2"
      },
      "outputs": [
        {
          "data": {
            "text/html": [
              "<div>\n",
              "<style scoped>\n",
              "    .dataframe tbody tr th:only-of-type {\n",
              "        vertical-align: middle;\n",
              "    }\n",
              "\n",
              "    .dataframe tbody tr th {\n",
              "        vertical-align: top;\n",
              "    }\n",
              "\n",
              "    .dataframe thead th {\n",
              "        text-align: right;\n",
              "    }\n",
              "</style>\n",
              "<table border=\"1\" class=\"dataframe\">\n",
              "  <thead>\n",
              "    <tr style=\"text-align: right;\">\n",
              "      <th></th>\n",
              "      <th>Well</th>\n",
              "      <th>Por</th>\n",
              "      <th>Perm</th>\n",
              "      <th>AI</th>\n",
              "      <th>Brittle</th>\n",
              "      <th>TOC</th>\n",
              "      <th>VR</th>\n",
              "      <th>Prod</th>\n",
              "    </tr>\n",
              "  </thead>\n",
              "  <tbody>\n",
              "    <tr>\n",
              "      <th>0</th>\n",
              "      <td>1</td>\n",
              "      <td>12.08</td>\n",
              "      <td>2.92</td>\n",
              "      <td>2.80</td>\n",
              "      <td>81.40</td>\n",
              "      <td>1.16</td>\n",
              "      <td>2.31</td>\n",
              "      <td>4165.196191</td>\n",
              "    </tr>\n",
              "    <tr>\n",
              "      <th>1</th>\n",
              "      <td>2</td>\n",
              "      <td>12.38</td>\n",
              "      <td>3.53</td>\n",
              "      <td>3.22</td>\n",
              "      <td>46.17</td>\n",
              "      <td>0.89</td>\n",
              "      <td>1.88</td>\n",
              "      <td>3561.146205</td>\n",
              "    </tr>\n",
              "    <tr>\n",
              "      <th>2</th>\n",
              "      <td>3</td>\n",
              "      <td>14.02</td>\n",
              "      <td>2.59</td>\n",
              "      <td>4.01</td>\n",
              "      <td>72.80</td>\n",
              "      <td>0.89</td>\n",
              "      <td>2.72</td>\n",
              "      <td>4284.348574</td>\n",
              "    </tr>\n",
              "    <tr>\n",
              "      <th>3</th>\n",
              "      <td>4</td>\n",
              "      <td>17.67</td>\n",
              "      <td>6.75</td>\n",
              "      <td>2.63</td>\n",
              "      <td>39.81</td>\n",
              "      <td>1.08</td>\n",
              "      <td>1.88</td>\n",
              "      <td>5098.680869</td>\n",
              "    </tr>\n",
              "    <tr>\n",
              "      <th>4</th>\n",
              "      <td>5</td>\n",
              "      <td>17.52</td>\n",
              "      <td>4.57</td>\n",
              "      <td>3.18</td>\n",
              "      <td>10.94</td>\n",
              "      <td>1.51</td>\n",
              "      <td>1.90</td>\n",
              "      <td>3406.132832</td>\n",
              "    </tr>\n",
              "  </tbody>\n",
              "</table>\n",
              "</div>"
            ],
            "text/plain": [
              "   Well    Por  Perm    AI  Brittle   TOC    VR         Prod\n",
              "0     1  12.08  2.92  2.80    81.40  1.16  2.31  4165.196191\n",
              "1     2  12.38  3.53  3.22    46.17  0.89  1.88  3561.146205\n",
              "2     3  14.02  2.59  4.01    72.80  0.89  2.72  4284.348574\n",
              "3     4  17.67  6.75  2.63    39.81  1.08  1.88  5098.680869\n",
              "4     5  17.52  4.57  3.18    10.94  1.51  1.90  3406.132832"
            ]
          },
          "execution_count": 74,
          "metadata": {},
          "output_type": "execute_result"
        }
      ],
      "source": [
        "data = pd.read_csv('unconv.csv')\n",
        "data.head()"
      ]
    },
    {
      "cell_type": "markdown",
      "id": "58639b40",
      "metadata": {
        "id": "58639b40"
      },
      "source": [
        "## Практика: линейная регрессия по методу наименьших квадратов"
      ]
    },
    {
      "cell_type": "markdown",
      "id": "a90535b8",
      "metadata": {
        "id": "a90535b8"
      },
      "source": [
        "Для начала построим простейшую модель линейной регрессии, проанализируем результаты её работы и выберем наиболее значимые факторы для прогнозирования.\n",
        "\n",
        "В первой части вам предстоит выполнить задания 5.0–5.6. Максимальное количество баллов, которое можно получить, — 9."
      ]
    },
    {
      "cell_type": "markdown",
      "id": "4061b706",
      "metadata": {
        "id": "4061b706"
      },
      "source": [
        "### Задание 5.0. (не оценивается)\n",
        "\n",
        "Проведите небольшой разведывательный анализ, чтобы поближе познакомиться с исходными данными. Постройте несколько визуализаций, которые помогут вам понять, как устроены исходные признаки, а также смогут продемонстрировать взаимосвязь факторов. \n",
        "\n",
        "Сделайте промежуточные выводы из проведённого разведывательного анализа."
      ]
    },
    {
      "cell_type": "code",
      "execution_count": 75,
      "id": "daf1ccc7",
      "metadata": {
        "id": "daf1ccc7"
      },
      "outputs": [
        {
          "data": {
            "text/html": [
              "<div>\n",
              "<style scoped>\n",
              "    .dataframe tbody tr th:only-of-type {\n",
              "        vertical-align: middle;\n",
              "    }\n",
              "\n",
              "    .dataframe tbody tr th {\n",
              "        vertical-align: top;\n",
              "    }\n",
              "\n",
              "    .dataframe thead th {\n",
              "        text-align: right;\n",
              "    }\n",
              "</style>\n",
              "<table border=\"1\" class=\"dataframe\">\n",
              "  <thead>\n",
              "    <tr style=\"text-align: right;\">\n",
              "      <th></th>\n",
              "      <th>Well</th>\n",
              "      <th>Por</th>\n",
              "      <th>Perm</th>\n",
              "      <th>AI</th>\n",
              "      <th>Brittle</th>\n",
              "      <th>TOC</th>\n",
              "      <th>VR</th>\n",
              "      <th>Prod</th>\n",
              "    </tr>\n",
              "  </thead>\n",
              "  <tbody>\n",
              "    <tr>\n",
              "      <th>count</th>\n",
              "      <td>200.000000</td>\n",
              "      <td>200.000000</td>\n",
              "      <td>200.000000</td>\n",
              "      <td>200.000000</td>\n",
              "      <td>200.000000</td>\n",
              "      <td>200.000000</td>\n",
              "      <td>200.000000</td>\n",
              "      <td>200.000000</td>\n",
              "    </tr>\n",
              "    <tr>\n",
              "      <th>mean</th>\n",
              "      <td>100.500000</td>\n",
              "      <td>14.991150</td>\n",
              "      <td>4.330750</td>\n",
              "      <td>2.968850</td>\n",
              "      <td>48.161950</td>\n",
              "      <td>0.990450</td>\n",
              "      <td>1.964300</td>\n",
              "      <td>4311.219852</td>\n",
              "    </tr>\n",
              "    <tr>\n",
              "      <th>std</th>\n",
              "      <td>57.879185</td>\n",
              "      <td>2.971176</td>\n",
              "      <td>1.731014</td>\n",
              "      <td>0.566885</td>\n",
              "      <td>14.129455</td>\n",
              "      <td>0.481588</td>\n",
              "      <td>0.300827</td>\n",
              "      <td>992.038414</td>\n",
              "    </tr>\n",
              "    <tr>\n",
              "      <th>min</th>\n",
              "      <td>1.000000</td>\n",
              "      <td>6.550000</td>\n",
              "      <td>1.130000</td>\n",
              "      <td>1.280000</td>\n",
              "      <td>10.940000</td>\n",
              "      <td>-0.190000</td>\n",
              "      <td>0.930000</td>\n",
              "      <td>2107.139414</td>\n",
              "    </tr>\n",
              "    <tr>\n",
              "      <th>25%</th>\n",
              "      <td>50.750000</td>\n",
              "      <td>12.912500</td>\n",
              "      <td>3.122500</td>\n",
              "      <td>2.547500</td>\n",
              "      <td>37.755000</td>\n",
              "      <td>0.617500</td>\n",
              "      <td>1.770000</td>\n",
              "      <td>3618.064513</td>\n",
              "    </tr>\n",
              "    <tr>\n",
              "      <th>50%</th>\n",
              "      <td>100.500000</td>\n",
              "      <td>15.070000</td>\n",
              "      <td>4.035000</td>\n",
              "      <td>2.955000</td>\n",
              "      <td>49.510000</td>\n",
              "      <td>1.030000</td>\n",
              "      <td>1.960000</td>\n",
              "      <td>4284.687348</td>\n",
              "    </tr>\n",
              "    <tr>\n",
              "      <th>75%</th>\n",
              "      <td>150.250000</td>\n",
              "      <td>17.402500</td>\n",
              "      <td>5.287500</td>\n",
              "      <td>3.345000</td>\n",
              "      <td>58.262500</td>\n",
              "      <td>1.350000</td>\n",
              "      <td>2.142500</td>\n",
              "      <td>5086.089761</td>\n",
              "    </tr>\n",
              "    <tr>\n",
              "      <th>max</th>\n",
              "      <td>200.000000</td>\n",
              "      <td>23.550000</td>\n",
              "      <td>9.870000</td>\n",
              "      <td>4.630000</td>\n",
              "      <td>84.330000</td>\n",
              "      <td>2.180000</td>\n",
              "      <td>2.870000</td>\n",
              "      <td>6662.622385</td>\n",
              "    </tr>\n",
              "  </tbody>\n",
              "</table>\n",
              "</div>"
            ],
            "text/plain": [
              "             Well         Por        Perm          AI     Brittle         TOC  \\\n",
              "count  200.000000  200.000000  200.000000  200.000000  200.000000  200.000000   \n",
              "mean   100.500000   14.991150    4.330750    2.968850   48.161950    0.990450   \n",
              "std     57.879185    2.971176    1.731014    0.566885   14.129455    0.481588   \n",
              "min      1.000000    6.550000    1.130000    1.280000   10.940000   -0.190000   \n",
              "25%     50.750000   12.912500    3.122500    2.547500   37.755000    0.617500   \n",
              "50%    100.500000   15.070000    4.035000    2.955000   49.510000    1.030000   \n",
              "75%    150.250000   17.402500    5.287500    3.345000   58.262500    1.350000   \n",
              "max    200.000000   23.550000    9.870000    4.630000   84.330000    2.180000   \n",
              "\n",
              "               VR         Prod  \n",
              "count  200.000000   200.000000  \n",
              "mean     1.964300  4311.219852  \n",
              "std      0.300827   992.038414  \n",
              "min      0.930000  2107.139414  \n",
              "25%      1.770000  3618.064513  \n",
              "50%      1.960000  4284.687348  \n",
              "75%      2.142500  5086.089761  \n",
              "max      2.870000  6662.622385  "
            ]
          },
          "execution_count": 75,
          "metadata": {},
          "output_type": "execute_result"
        }
      ],
      "source": [
        "data.describe()"
      ]
    },
    {
      "cell_type": "code",
      "execution_count": 76,
      "id": "5bfb261f",
      "metadata": {},
      "outputs": [
        {
          "name": "stdout",
          "output_type": "stream",
          "text": [
            "<class 'pandas.core.frame.DataFrame'>\n",
            "RangeIndex: 200 entries, 0 to 199\n",
            "Data columns (total 8 columns):\n",
            " #   Column   Non-Null Count  Dtype  \n",
            "---  ------   --------------  -----  \n",
            " 0   Well     200 non-null    int64  \n",
            " 1   Por      200 non-null    float64\n",
            " 2   Perm     200 non-null    float64\n",
            " 3   AI       200 non-null    float64\n",
            " 4   Brittle  200 non-null    float64\n",
            " 5   TOC      200 non-null    float64\n",
            " 6   VR       200 non-null    float64\n",
            " 7   Prod     200 non-null    float64\n",
            "dtypes: float64(7), int64(1)\n",
            "memory usage: 12.6 KB\n"
          ]
        }
      ],
      "source": [
        "data.info()"
      ]
    },
    {
      "cell_type": "code",
      "execution_count": 77,
      "id": "065271b9",
      "metadata": {},
      "outputs": [
        {
          "data": {
            "application/vnd.plotly.v1+json": {
              "config": {
                "plotlyServerURL": "https://plot.ly"
              },
              "data": [
                {
                  "alignmentgroup": "True",
                  "bingroup": "x",
                  "hovertemplate": "Porosity (%)=%{x}<br>count=%{y}<extra></extra>",
                  "legendgroup": "",
                  "marker": {
                    "color": "#636efa",
                    "pattern": {
                      "shape": ""
                    }
                  },
                  "name": "",
                  "offsetgroup": "",
                  "orientation": "v",
                  "showlegend": false,
                  "type": "histogram",
                  "x": [
                    12.08,
                    12.38,
                    14.02,
                    17.67,
                    17.52,
                    14.53,
                    13.49,
                    11.58,
                    12.52,
                    13.25,
                    15.04,
                    16.19,
                    16.82,
                    17.39,
                    13.83,
                    11.34,
                    19.55,
                    15.58,
                    14.73,
                    12.47,
                    18.08,
                    16.32,
                    12.62,
                    10.03,
                    18.66,
                    7.27,
                    15.78,
                    15.73,
                    12.38,
                    12.89,
                    18.48,
                    14.74,
                    12.55,
                    13.58,
                    11.76,
                    11.98,
                    13.56,
                    16.55,
                    15.22,
                    14.54,
                    14.37,
                    15.4,
                    10.14,
                    11.09,
                    18.37,
                    14.71,
                    9.29,
                    11.85,
                    18.59,
                    18.18,
                    18.72,
                    20.96,
                    15.31,
                    11.98,
                    18.16,
                    13.61,
                    13.67,
                    15.21,
                    16.1,
                    13,
                    18.32,
                    14.96,
                    18.21,
                    15.07,
                    17.75,
                    15.77,
                    14.19,
                    13.8,
                    14.84,
                    12.54,
                    10.13,
                    14.17,
                    14.85,
                    16.62,
                    17.85,
                    18.73,
                    17.2,
                    10.49,
                    13.53,
                    18.04,
                    14.97,
                    16.18,
                    15.07,
                    13.69,
                    10.15,
                    13.45,
                    15.94,
                    14.88,
                    11.12,
                    13.5,
                    13.72,
                    7.38,
                    20.21,
                    10.69,
                    15.75,
                    17.96,
                    16.95,
                    19.73,
                    11.91,
                    15.53,
                    14.44,
                    13.37,
                    10.5,
                    18.9,
                    17.89,
                    15.32,
                    13.48,
                    17.17,
                    20.86,
                    15.19,
                    14.95,
                    12.1,
                    18.24,
                    19.86,
                    19.54,
                    18.37,
                    12.89,
                    15.2,
                    12.23,
                    17.88,
                    15.79,
                    12.38,
                    18.98,
                    13.76,
                    23.55,
                    14.86,
                    16.43,
                    15.86,
                    12.98,
                    17.21,
                    15.34,
                    17.57,
                    10.74,
                    18.79,
                    12.83,
                    15.35,
                    14.88,
                    14.69,
                    7.77,
                    15.87,
                    18.75,
                    15.63,
                    18.06,
                    12.05,
                    14.44,
                    16.69,
                    15.8,
                    16.84,
                    13.46,
                    14.63,
                    12.2,
                    10.5,
                    18.68,
                    16.88,
                    15.42,
                    13.01,
                    17.92,
                    15.97,
                    13.32,
                    18.1,
                    16.21,
                    18,
                    17.86,
                    11.6,
                    17.98,
                    16.61,
                    19.06,
                    12.83,
                    18.96,
                    11.71,
                    11.91,
                    17.44,
                    10.95,
                    12.94,
                    15.72,
                    14.02,
                    14.49,
                    11.8,
                    19.29,
                    7.22,
                    15.7,
                    14.48,
                    9.88,
                    18.8,
                    18.07,
                    15.68,
                    15.28,
                    10.88,
                    16.14,
                    16.12,
                    13.52,
                    6.55,
                    20.37,
                    12.92,
                    17.13,
                    11.95,
                    17.99,
                    12.12,
                    15.55,
                    20.89
                  ],
                  "xaxis": "x",
                  "yaxis": "y"
                }
              ],
              "layout": {
                "barmode": "relative",
                "legend": {
                  "tracegroupgap": 0
                },
                "template": {
                  "data": {
                    "bar": [
                      {
                        "error_x": {
                          "color": "#2a3f5f"
                        },
                        "error_y": {
                          "color": "#2a3f5f"
                        },
                        "marker": {
                          "line": {
                            "color": "#E5ECF6",
                            "width": 0.5
                          },
                          "pattern": {
                            "fillmode": "overlay",
                            "size": 10,
                            "solidity": 0.2
                          }
                        },
                        "type": "bar"
                      }
                    ],
                    "barpolar": [
                      {
                        "marker": {
                          "line": {
                            "color": "#E5ECF6",
                            "width": 0.5
                          },
                          "pattern": {
                            "fillmode": "overlay",
                            "size": 10,
                            "solidity": 0.2
                          }
                        },
                        "type": "barpolar"
                      }
                    ],
                    "carpet": [
                      {
                        "aaxis": {
                          "endlinecolor": "#2a3f5f",
                          "gridcolor": "white",
                          "linecolor": "white",
                          "minorgridcolor": "white",
                          "startlinecolor": "#2a3f5f"
                        },
                        "baxis": {
                          "endlinecolor": "#2a3f5f",
                          "gridcolor": "white",
                          "linecolor": "white",
                          "minorgridcolor": "white",
                          "startlinecolor": "#2a3f5f"
                        },
                        "type": "carpet"
                      }
                    ],
                    "choropleth": [
                      {
                        "colorbar": {
                          "outlinewidth": 0,
                          "ticks": ""
                        },
                        "type": "choropleth"
                      }
                    ],
                    "contour": [
                      {
                        "colorbar": {
                          "outlinewidth": 0,
                          "ticks": ""
                        },
                        "colorscale": [
                          [
                            0,
                            "#0d0887"
                          ],
                          [
                            0.1111111111111111,
                            "#46039f"
                          ],
                          [
                            0.2222222222222222,
                            "#7201a8"
                          ],
                          [
                            0.3333333333333333,
                            "#9c179e"
                          ],
                          [
                            0.4444444444444444,
                            "#bd3786"
                          ],
                          [
                            0.5555555555555556,
                            "#d8576b"
                          ],
                          [
                            0.6666666666666666,
                            "#ed7953"
                          ],
                          [
                            0.7777777777777778,
                            "#fb9f3a"
                          ],
                          [
                            0.8888888888888888,
                            "#fdca26"
                          ],
                          [
                            1,
                            "#f0f921"
                          ]
                        ],
                        "type": "contour"
                      }
                    ],
                    "contourcarpet": [
                      {
                        "colorbar": {
                          "outlinewidth": 0,
                          "ticks": ""
                        },
                        "type": "contourcarpet"
                      }
                    ],
                    "heatmap": [
                      {
                        "colorbar": {
                          "outlinewidth": 0,
                          "ticks": ""
                        },
                        "colorscale": [
                          [
                            0,
                            "#0d0887"
                          ],
                          [
                            0.1111111111111111,
                            "#46039f"
                          ],
                          [
                            0.2222222222222222,
                            "#7201a8"
                          ],
                          [
                            0.3333333333333333,
                            "#9c179e"
                          ],
                          [
                            0.4444444444444444,
                            "#bd3786"
                          ],
                          [
                            0.5555555555555556,
                            "#d8576b"
                          ],
                          [
                            0.6666666666666666,
                            "#ed7953"
                          ],
                          [
                            0.7777777777777778,
                            "#fb9f3a"
                          ],
                          [
                            0.8888888888888888,
                            "#fdca26"
                          ],
                          [
                            1,
                            "#f0f921"
                          ]
                        ],
                        "type": "heatmap"
                      }
                    ],
                    "heatmapgl": [
                      {
                        "colorbar": {
                          "outlinewidth": 0,
                          "ticks": ""
                        },
                        "colorscale": [
                          [
                            0,
                            "#0d0887"
                          ],
                          [
                            0.1111111111111111,
                            "#46039f"
                          ],
                          [
                            0.2222222222222222,
                            "#7201a8"
                          ],
                          [
                            0.3333333333333333,
                            "#9c179e"
                          ],
                          [
                            0.4444444444444444,
                            "#bd3786"
                          ],
                          [
                            0.5555555555555556,
                            "#d8576b"
                          ],
                          [
                            0.6666666666666666,
                            "#ed7953"
                          ],
                          [
                            0.7777777777777778,
                            "#fb9f3a"
                          ],
                          [
                            0.8888888888888888,
                            "#fdca26"
                          ],
                          [
                            1,
                            "#f0f921"
                          ]
                        ],
                        "type": "heatmapgl"
                      }
                    ],
                    "histogram": [
                      {
                        "marker": {
                          "pattern": {
                            "fillmode": "overlay",
                            "size": 10,
                            "solidity": 0.2
                          }
                        },
                        "type": "histogram"
                      }
                    ],
                    "histogram2d": [
                      {
                        "colorbar": {
                          "outlinewidth": 0,
                          "ticks": ""
                        },
                        "colorscale": [
                          [
                            0,
                            "#0d0887"
                          ],
                          [
                            0.1111111111111111,
                            "#46039f"
                          ],
                          [
                            0.2222222222222222,
                            "#7201a8"
                          ],
                          [
                            0.3333333333333333,
                            "#9c179e"
                          ],
                          [
                            0.4444444444444444,
                            "#bd3786"
                          ],
                          [
                            0.5555555555555556,
                            "#d8576b"
                          ],
                          [
                            0.6666666666666666,
                            "#ed7953"
                          ],
                          [
                            0.7777777777777778,
                            "#fb9f3a"
                          ],
                          [
                            0.8888888888888888,
                            "#fdca26"
                          ],
                          [
                            1,
                            "#f0f921"
                          ]
                        ],
                        "type": "histogram2d"
                      }
                    ],
                    "histogram2dcontour": [
                      {
                        "colorbar": {
                          "outlinewidth": 0,
                          "ticks": ""
                        },
                        "colorscale": [
                          [
                            0,
                            "#0d0887"
                          ],
                          [
                            0.1111111111111111,
                            "#46039f"
                          ],
                          [
                            0.2222222222222222,
                            "#7201a8"
                          ],
                          [
                            0.3333333333333333,
                            "#9c179e"
                          ],
                          [
                            0.4444444444444444,
                            "#bd3786"
                          ],
                          [
                            0.5555555555555556,
                            "#d8576b"
                          ],
                          [
                            0.6666666666666666,
                            "#ed7953"
                          ],
                          [
                            0.7777777777777778,
                            "#fb9f3a"
                          ],
                          [
                            0.8888888888888888,
                            "#fdca26"
                          ],
                          [
                            1,
                            "#f0f921"
                          ]
                        ],
                        "type": "histogram2dcontour"
                      }
                    ],
                    "mesh3d": [
                      {
                        "colorbar": {
                          "outlinewidth": 0,
                          "ticks": ""
                        },
                        "type": "mesh3d"
                      }
                    ],
                    "parcoords": [
                      {
                        "line": {
                          "colorbar": {
                            "outlinewidth": 0,
                            "ticks": ""
                          }
                        },
                        "type": "parcoords"
                      }
                    ],
                    "pie": [
                      {
                        "automargin": true,
                        "type": "pie"
                      }
                    ],
                    "scatter": [
                      {
                        "fillpattern": {
                          "fillmode": "overlay",
                          "size": 10,
                          "solidity": 0.2
                        },
                        "type": "scatter"
                      }
                    ],
                    "scatter3d": [
                      {
                        "line": {
                          "colorbar": {
                            "outlinewidth": 0,
                            "ticks": ""
                          }
                        },
                        "marker": {
                          "colorbar": {
                            "outlinewidth": 0,
                            "ticks": ""
                          }
                        },
                        "type": "scatter3d"
                      }
                    ],
                    "scattercarpet": [
                      {
                        "marker": {
                          "colorbar": {
                            "outlinewidth": 0,
                            "ticks": ""
                          }
                        },
                        "type": "scattercarpet"
                      }
                    ],
                    "scattergeo": [
                      {
                        "marker": {
                          "colorbar": {
                            "outlinewidth": 0,
                            "ticks": ""
                          }
                        },
                        "type": "scattergeo"
                      }
                    ],
                    "scattergl": [
                      {
                        "marker": {
                          "colorbar": {
                            "outlinewidth": 0,
                            "ticks": ""
                          }
                        },
                        "type": "scattergl"
                      }
                    ],
                    "scattermapbox": [
                      {
                        "marker": {
                          "colorbar": {
                            "outlinewidth": 0,
                            "ticks": ""
                          }
                        },
                        "type": "scattermapbox"
                      }
                    ],
                    "scatterpolar": [
                      {
                        "marker": {
                          "colorbar": {
                            "outlinewidth": 0,
                            "ticks": ""
                          }
                        },
                        "type": "scatterpolar"
                      }
                    ],
                    "scatterpolargl": [
                      {
                        "marker": {
                          "colorbar": {
                            "outlinewidth": 0,
                            "ticks": ""
                          }
                        },
                        "type": "scatterpolargl"
                      }
                    ],
                    "scatterternary": [
                      {
                        "marker": {
                          "colorbar": {
                            "outlinewidth": 0,
                            "ticks": ""
                          }
                        },
                        "type": "scatterternary"
                      }
                    ],
                    "surface": [
                      {
                        "colorbar": {
                          "outlinewidth": 0,
                          "ticks": ""
                        },
                        "colorscale": [
                          [
                            0,
                            "#0d0887"
                          ],
                          [
                            0.1111111111111111,
                            "#46039f"
                          ],
                          [
                            0.2222222222222222,
                            "#7201a8"
                          ],
                          [
                            0.3333333333333333,
                            "#9c179e"
                          ],
                          [
                            0.4444444444444444,
                            "#bd3786"
                          ],
                          [
                            0.5555555555555556,
                            "#d8576b"
                          ],
                          [
                            0.6666666666666666,
                            "#ed7953"
                          ],
                          [
                            0.7777777777777778,
                            "#fb9f3a"
                          ],
                          [
                            0.8888888888888888,
                            "#fdca26"
                          ],
                          [
                            1,
                            "#f0f921"
                          ]
                        ],
                        "type": "surface"
                      }
                    ],
                    "table": [
                      {
                        "cells": {
                          "fill": {
                            "color": "#EBF0F8"
                          },
                          "line": {
                            "color": "white"
                          }
                        },
                        "header": {
                          "fill": {
                            "color": "#C8D4E3"
                          },
                          "line": {
                            "color": "white"
                          }
                        },
                        "type": "table"
                      }
                    ]
                  },
                  "layout": {
                    "annotationdefaults": {
                      "arrowcolor": "#2a3f5f",
                      "arrowhead": 0,
                      "arrowwidth": 1
                    },
                    "autotypenumbers": "strict",
                    "coloraxis": {
                      "colorbar": {
                        "outlinewidth": 0,
                        "ticks": ""
                      }
                    },
                    "colorscale": {
                      "diverging": [
                        [
                          0,
                          "#8e0152"
                        ],
                        [
                          0.1,
                          "#c51b7d"
                        ],
                        [
                          0.2,
                          "#de77ae"
                        ],
                        [
                          0.3,
                          "#f1b6da"
                        ],
                        [
                          0.4,
                          "#fde0ef"
                        ],
                        [
                          0.5,
                          "#f7f7f7"
                        ],
                        [
                          0.6,
                          "#e6f5d0"
                        ],
                        [
                          0.7,
                          "#b8e186"
                        ],
                        [
                          0.8,
                          "#7fbc41"
                        ],
                        [
                          0.9,
                          "#4d9221"
                        ],
                        [
                          1,
                          "#276419"
                        ]
                      ],
                      "sequential": [
                        [
                          0,
                          "#0d0887"
                        ],
                        [
                          0.1111111111111111,
                          "#46039f"
                        ],
                        [
                          0.2222222222222222,
                          "#7201a8"
                        ],
                        [
                          0.3333333333333333,
                          "#9c179e"
                        ],
                        [
                          0.4444444444444444,
                          "#bd3786"
                        ],
                        [
                          0.5555555555555556,
                          "#d8576b"
                        ],
                        [
                          0.6666666666666666,
                          "#ed7953"
                        ],
                        [
                          0.7777777777777778,
                          "#fb9f3a"
                        ],
                        [
                          0.8888888888888888,
                          "#fdca26"
                        ],
                        [
                          1,
                          "#f0f921"
                        ]
                      ],
                      "sequentialminus": [
                        [
                          0,
                          "#0d0887"
                        ],
                        [
                          0.1111111111111111,
                          "#46039f"
                        ],
                        [
                          0.2222222222222222,
                          "#7201a8"
                        ],
                        [
                          0.3333333333333333,
                          "#9c179e"
                        ],
                        [
                          0.4444444444444444,
                          "#bd3786"
                        ],
                        [
                          0.5555555555555556,
                          "#d8576b"
                        ],
                        [
                          0.6666666666666666,
                          "#ed7953"
                        ],
                        [
                          0.7777777777777778,
                          "#fb9f3a"
                        ],
                        [
                          0.8888888888888888,
                          "#fdca26"
                        ],
                        [
                          1,
                          "#f0f921"
                        ]
                      ]
                    },
                    "colorway": [
                      "#636efa",
                      "#EF553B",
                      "#00cc96",
                      "#ab63fa",
                      "#FFA15A",
                      "#19d3f3",
                      "#FF6692",
                      "#B6E880",
                      "#FF97FF",
                      "#FECB52"
                    ],
                    "font": {
                      "color": "#2a3f5f"
                    },
                    "geo": {
                      "bgcolor": "white",
                      "lakecolor": "white",
                      "landcolor": "#E5ECF6",
                      "showlakes": true,
                      "showland": true,
                      "subunitcolor": "white"
                    },
                    "hoverlabel": {
                      "align": "left"
                    },
                    "hovermode": "closest",
                    "mapbox": {
                      "style": "light"
                    },
                    "paper_bgcolor": "white",
                    "plot_bgcolor": "#E5ECF6",
                    "polar": {
                      "angularaxis": {
                        "gridcolor": "white",
                        "linecolor": "white",
                        "ticks": ""
                      },
                      "bgcolor": "#E5ECF6",
                      "radialaxis": {
                        "gridcolor": "white",
                        "linecolor": "white",
                        "ticks": ""
                      }
                    },
                    "scene": {
                      "xaxis": {
                        "backgroundcolor": "#E5ECF6",
                        "gridcolor": "white",
                        "gridwidth": 2,
                        "linecolor": "white",
                        "showbackground": true,
                        "ticks": "",
                        "zerolinecolor": "white"
                      },
                      "yaxis": {
                        "backgroundcolor": "#E5ECF6",
                        "gridcolor": "white",
                        "gridwidth": 2,
                        "linecolor": "white",
                        "showbackground": true,
                        "ticks": "",
                        "zerolinecolor": "white"
                      },
                      "zaxis": {
                        "backgroundcolor": "#E5ECF6",
                        "gridcolor": "white",
                        "gridwidth": 2,
                        "linecolor": "white",
                        "showbackground": true,
                        "ticks": "",
                        "zerolinecolor": "white"
                      }
                    },
                    "shapedefaults": {
                      "line": {
                        "color": "#2a3f5f"
                      }
                    },
                    "ternary": {
                      "aaxis": {
                        "gridcolor": "white",
                        "linecolor": "white",
                        "ticks": ""
                      },
                      "baxis": {
                        "gridcolor": "white",
                        "linecolor": "white",
                        "ticks": ""
                      },
                      "bgcolor": "#E5ECF6",
                      "caxis": {
                        "gridcolor": "white",
                        "linecolor": "white",
                        "ticks": ""
                      }
                    },
                    "title": {
                      "x": 0.05
                    },
                    "xaxis": {
                      "automargin": true,
                      "gridcolor": "white",
                      "linecolor": "white",
                      "ticks": "",
                      "title": {
                        "standoff": 15
                      },
                      "zerolinecolor": "white",
                      "zerolinewidth": 2
                    },
                    "yaxis": {
                      "automargin": true,
                      "gridcolor": "white",
                      "linecolor": "white",
                      "ticks": "",
                      "title": {
                        "standoff": 15
                      },
                      "zerolinecolor": "white",
                      "zerolinewidth": 2
                    }
                  }
                },
                "title": {
                  "text": "Distribution of Porosity"
                },
                "xaxis": {
                  "anchor": "y",
                  "domain": [
                    0,
                    1
                  ],
                  "title": {
                    "text": "Porosity (%)"
                  }
                },
                "yaxis": {
                  "anchor": "x",
                  "domain": [
                    0,
                    1
                  ],
                  "title": {
                    "text": "count"
                  }
                }
              }
            }
          },
          "metadata": {},
          "output_type": "display_data"
        }
      ],
      "source": [
        "# Plot 1: Histogram of Porosity\n",
        "fig1 = px.histogram(data, x='Por', title='Distribution of Porosity', labels={'Por': 'Porosity (%)'})\n",
        "fig1.show(plot_format)"
      ]
    },
    {
      "cell_type": "code",
      "execution_count": 78,
      "id": "4613a598",
      "metadata": {},
      "outputs": [
        {
          "data": {
            "application/vnd.plotly.v1+json": {
              "config": {
                "plotlyServerURL": "https://plot.ly"
              },
              "data": [
                {
                  "hovertemplate": "Porosity (%)=%{x}<br>Permeability (mD)=%{y}<extra></extra>",
                  "legendgroup": "",
                  "marker": {
                    "color": "#636efa",
                    "symbol": "circle"
                  },
                  "mode": "markers",
                  "name": "",
                  "orientation": "v",
                  "showlegend": false,
                  "type": "scatter",
                  "x": [
                    12.08,
                    12.38,
                    14.02,
                    17.67,
                    17.52,
                    14.53,
                    13.49,
                    11.58,
                    12.52,
                    13.25,
                    15.04,
                    16.19,
                    16.82,
                    17.39,
                    13.83,
                    11.34,
                    19.55,
                    15.58,
                    14.73,
                    12.47,
                    18.08,
                    16.32,
                    12.62,
                    10.03,
                    18.66,
                    7.27,
                    15.78,
                    15.73,
                    12.38,
                    12.89,
                    18.48,
                    14.74,
                    12.55,
                    13.58,
                    11.76,
                    11.98,
                    13.56,
                    16.55,
                    15.22,
                    14.54,
                    14.37,
                    15.4,
                    10.14,
                    11.09,
                    18.37,
                    14.71,
                    9.29,
                    11.85,
                    18.59,
                    18.18,
                    18.72,
                    20.96,
                    15.31,
                    11.98,
                    18.16,
                    13.61,
                    13.67,
                    15.21,
                    16.1,
                    13,
                    18.32,
                    14.96,
                    18.21,
                    15.07,
                    17.75,
                    15.77,
                    14.19,
                    13.8,
                    14.84,
                    12.54,
                    10.13,
                    14.17,
                    14.85,
                    16.62,
                    17.85,
                    18.73,
                    17.2,
                    10.49,
                    13.53,
                    18.04,
                    14.97,
                    16.18,
                    15.07,
                    13.69,
                    10.15,
                    13.45,
                    15.94,
                    14.88,
                    11.12,
                    13.5,
                    13.72,
                    7.38,
                    20.21,
                    10.69,
                    15.75,
                    17.96,
                    16.95,
                    19.73,
                    11.91,
                    15.53,
                    14.44,
                    13.37,
                    10.5,
                    18.9,
                    17.89,
                    15.32,
                    13.48,
                    17.17,
                    20.86,
                    15.19,
                    14.95,
                    12.1,
                    18.24,
                    19.86,
                    19.54,
                    18.37,
                    12.89,
                    15.2,
                    12.23,
                    17.88,
                    15.79,
                    12.38,
                    18.98,
                    13.76,
                    23.55,
                    14.86,
                    16.43,
                    15.86,
                    12.98,
                    17.21,
                    15.34,
                    17.57,
                    10.74,
                    18.79,
                    12.83,
                    15.35,
                    14.88,
                    14.69,
                    7.77,
                    15.87,
                    18.75,
                    15.63,
                    18.06,
                    12.05,
                    14.44,
                    16.69,
                    15.8,
                    16.84,
                    13.46,
                    14.63,
                    12.2,
                    10.5,
                    18.68,
                    16.88,
                    15.42,
                    13.01,
                    17.92,
                    15.97,
                    13.32,
                    18.1,
                    16.21,
                    18,
                    17.86,
                    11.6,
                    17.98,
                    16.61,
                    19.06,
                    12.83,
                    18.96,
                    11.71,
                    11.91,
                    17.44,
                    10.95,
                    12.94,
                    15.72,
                    14.02,
                    14.49,
                    11.8,
                    19.29,
                    7.22,
                    15.7,
                    14.48,
                    9.88,
                    18.8,
                    18.07,
                    15.68,
                    15.28,
                    10.88,
                    16.14,
                    16.12,
                    13.52,
                    6.55,
                    20.37,
                    12.92,
                    17.13,
                    11.95,
                    17.99,
                    12.12,
                    15.55,
                    20.89
                  ],
                  "xaxis": "x",
                  "y": [
                    2.92,
                    3.53,
                    2.59,
                    6.75,
                    4.57,
                    4.81,
                    3.6,
                    3.03,
                    2.72,
                    3.94,
                    4.39,
                    6.3,
                    5.42,
                    4.95,
                    5.26,
                    2.72,
                    8.41,
                    3.67,
                    5,
                    2.53,
                    5.7,
                    4.06,
                    2.39,
                    1.88,
                    5.37,
                    2.01,
                    5,
                    6.42,
                    2.18,
                    2.41,
                    5.93,
                    3.1,
                    3.22,
                    2.39,
                    2.94,
                    3.67,
                    3.13,
                    5.7,
                    3.67,
                    3.67,
                    5.93,
                    3.9,
                    3.78,
                    2.56,
                    5.93,
                    4.35,
                    1.67,
                    3.46,
                    5.1,
                    4.39,
                    5.75,
                    9.21,
                    3.35,
                    2.75,
                    7.1,
                    3.53,
                    3.13,
                    4.1,
                    3.25,
                    4.66,
                    5.7,
                    2.16,
                    5.7,
                    5.42,
                    4.66,
                    7.03,
                    3.29,
                    3.29,
                    3.97,
                    3.49,
                    2.39,
                    3.94,
                    5,
                    4.62,
                    5.81,
                    7.46,
                    6.36,
                    1.62,
                    4.53,
                    3.9,
                    2.75,
                    4.01,
                    3.39,
                    3.86,
                    1.72,
                    2.51,
                    3.82,
                    4.81,
                    1.88,
                    2.66,
                    4.01,
                    1.88,
                    8.33,
                    2.66,
                    3.6,
                    4.26,
                    4.14,
                    7.85,
                    4.48,
                    5.42,
                    2.92,
                    4.66,
                    3.22,
                    4.57,
                    4.22,
                    3.71,
                    2.61,
                    3.82,
                    6.3,
                    5.05,
                    3.29,
                    5.1,
                    4.31,
                    6.82,
                    5.93,
                    4.95,
                    4.26,
                    3.49,
                    2.39,
                    5.58,
                    4.22,
                    2.48,
                    9.78,
                    3.86,
                    8.25,
                    3.9,
                    5.99,
                    2.94,
                    5.26,
                    4.62,
                    3.06,
                    4.44,
                    1.72,
                    4.48,
                    2.69,
                    4.66,
                    5.16,
                    3.63,
                    1.48,
                    6.82,
                    5.16,
                    4.66,
                    8,
                    2.36,
                    4.53,
                    5.05,
                    2.72,
                    5.1,
                    4.57,
                    7.1,
                    2.92,
                    2.56,
                    6.17,
                    6.62,
                    4.06,
                    3.6,
                    5.37,
                    3.19,
                    3.19,
                    9.58,
                    4.01,
                    5.58,
                    6.96,
                    1.73,
                    4.26,
                    3.49,
                    9.49,
                    3.56,
                    5.81,
                    1.88,
                    5.42,
                    5.7,
                    2.23,
                    2.64,
                    3.78,
                    4.48,
                    4.85,
                    2.92,
                    5,
                    1.42,
                    3,
                    3.82,
                    2.72,
                    6.05,
                    3.78,
                    5.37,
                    3.49,
                    3.32,
                    5.05,
                    4.1,
                    3.86,
                    1.13,
                    6.69,
                    3.9,
                    5.99,
                    3.13,
                    9.87,
                    2.27,
                    4.48,
                    7.54
                  ],
                  "yaxis": "y"
                }
              ],
              "layout": {
                "legend": {
                  "tracegroupgap": 0
                },
                "template": {
                  "data": {
                    "bar": [
                      {
                        "error_x": {
                          "color": "#2a3f5f"
                        },
                        "error_y": {
                          "color": "#2a3f5f"
                        },
                        "marker": {
                          "line": {
                            "color": "#E5ECF6",
                            "width": 0.5
                          },
                          "pattern": {
                            "fillmode": "overlay",
                            "size": 10,
                            "solidity": 0.2
                          }
                        },
                        "type": "bar"
                      }
                    ],
                    "barpolar": [
                      {
                        "marker": {
                          "line": {
                            "color": "#E5ECF6",
                            "width": 0.5
                          },
                          "pattern": {
                            "fillmode": "overlay",
                            "size": 10,
                            "solidity": 0.2
                          }
                        },
                        "type": "barpolar"
                      }
                    ],
                    "carpet": [
                      {
                        "aaxis": {
                          "endlinecolor": "#2a3f5f",
                          "gridcolor": "white",
                          "linecolor": "white",
                          "minorgridcolor": "white",
                          "startlinecolor": "#2a3f5f"
                        },
                        "baxis": {
                          "endlinecolor": "#2a3f5f",
                          "gridcolor": "white",
                          "linecolor": "white",
                          "minorgridcolor": "white",
                          "startlinecolor": "#2a3f5f"
                        },
                        "type": "carpet"
                      }
                    ],
                    "choropleth": [
                      {
                        "colorbar": {
                          "outlinewidth": 0,
                          "ticks": ""
                        },
                        "type": "choropleth"
                      }
                    ],
                    "contour": [
                      {
                        "colorbar": {
                          "outlinewidth": 0,
                          "ticks": ""
                        },
                        "colorscale": [
                          [
                            0,
                            "#0d0887"
                          ],
                          [
                            0.1111111111111111,
                            "#46039f"
                          ],
                          [
                            0.2222222222222222,
                            "#7201a8"
                          ],
                          [
                            0.3333333333333333,
                            "#9c179e"
                          ],
                          [
                            0.4444444444444444,
                            "#bd3786"
                          ],
                          [
                            0.5555555555555556,
                            "#d8576b"
                          ],
                          [
                            0.6666666666666666,
                            "#ed7953"
                          ],
                          [
                            0.7777777777777778,
                            "#fb9f3a"
                          ],
                          [
                            0.8888888888888888,
                            "#fdca26"
                          ],
                          [
                            1,
                            "#f0f921"
                          ]
                        ],
                        "type": "contour"
                      }
                    ],
                    "contourcarpet": [
                      {
                        "colorbar": {
                          "outlinewidth": 0,
                          "ticks": ""
                        },
                        "type": "contourcarpet"
                      }
                    ],
                    "heatmap": [
                      {
                        "colorbar": {
                          "outlinewidth": 0,
                          "ticks": ""
                        },
                        "colorscale": [
                          [
                            0,
                            "#0d0887"
                          ],
                          [
                            0.1111111111111111,
                            "#46039f"
                          ],
                          [
                            0.2222222222222222,
                            "#7201a8"
                          ],
                          [
                            0.3333333333333333,
                            "#9c179e"
                          ],
                          [
                            0.4444444444444444,
                            "#bd3786"
                          ],
                          [
                            0.5555555555555556,
                            "#d8576b"
                          ],
                          [
                            0.6666666666666666,
                            "#ed7953"
                          ],
                          [
                            0.7777777777777778,
                            "#fb9f3a"
                          ],
                          [
                            0.8888888888888888,
                            "#fdca26"
                          ],
                          [
                            1,
                            "#f0f921"
                          ]
                        ],
                        "type": "heatmap"
                      }
                    ],
                    "heatmapgl": [
                      {
                        "colorbar": {
                          "outlinewidth": 0,
                          "ticks": ""
                        },
                        "colorscale": [
                          [
                            0,
                            "#0d0887"
                          ],
                          [
                            0.1111111111111111,
                            "#46039f"
                          ],
                          [
                            0.2222222222222222,
                            "#7201a8"
                          ],
                          [
                            0.3333333333333333,
                            "#9c179e"
                          ],
                          [
                            0.4444444444444444,
                            "#bd3786"
                          ],
                          [
                            0.5555555555555556,
                            "#d8576b"
                          ],
                          [
                            0.6666666666666666,
                            "#ed7953"
                          ],
                          [
                            0.7777777777777778,
                            "#fb9f3a"
                          ],
                          [
                            0.8888888888888888,
                            "#fdca26"
                          ],
                          [
                            1,
                            "#f0f921"
                          ]
                        ],
                        "type": "heatmapgl"
                      }
                    ],
                    "histogram": [
                      {
                        "marker": {
                          "pattern": {
                            "fillmode": "overlay",
                            "size": 10,
                            "solidity": 0.2
                          }
                        },
                        "type": "histogram"
                      }
                    ],
                    "histogram2d": [
                      {
                        "colorbar": {
                          "outlinewidth": 0,
                          "ticks": ""
                        },
                        "colorscale": [
                          [
                            0,
                            "#0d0887"
                          ],
                          [
                            0.1111111111111111,
                            "#46039f"
                          ],
                          [
                            0.2222222222222222,
                            "#7201a8"
                          ],
                          [
                            0.3333333333333333,
                            "#9c179e"
                          ],
                          [
                            0.4444444444444444,
                            "#bd3786"
                          ],
                          [
                            0.5555555555555556,
                            "#d8576b"
                          ],
                          [
                            0.6666666666666666,
                            "#ed7953"
                          ],
                          [
                            0.7777777777777778,
                            "#fb9f3a"
                          ],
                          [
                            0.8888888888888888,
                            "#fdca26"
                          ],
                          [
                            1,
                            "#f0f921"
                          ]
                        ],
                        "type": "histogram2d"
                      }
                    ],
                    "histogram2dcontour": [
                      {
                        "colorbar": {
                          "outlinewidth": 0,
                          "ticks": ""
                        },
                        "colorscale": [
                          [
                            0,
                            "#0d0887"
                          ],
                          [
                            0.1111111111111111,
                            "#46039f"
                          ],
                          [
                            0.2222222222222222,
                            "#7201a8"
                          ],
                          [
                            0.3333333333333333,
                            "#9c179e"
                          ],
                          [
                            0.4444444444444444,
                            "#bd3786"
                          ],
                          [
                            0.5555555555555556,
                            "#d8576b"
                          ],
                          [
                            0.6666666666666666,
                            "#ed7953"
                          ],
                          [
                            0.7777777777777778,
                            "#fb9f3a"
                          ],
                          [
                            0.8888888888888888,
                            "#fdca26"
                          ],
                          [
                            1,
                            "#f0f921"
                          ]
                        ],
                        "type": "histogram2dcontour"
                      }
                    ],
                    "mesh3d": [
                      {
                        "colorbar": {
                          "outlinewidth": 0,
                          "ticks": ""
                        },
                        "type": "mesh3d"
                      }
                    ],
                    "parcoords": [
                      {
                        "line": {
                          "colorbar": {
                            "outlinewidth": 0,
                            "ticks": ""
                          }
                        },
                        "type": "parcoords"
                      }
                    ],
                    "pie": [
                      {
                        "automargin": true,
                        "type": "pie"
                      }
                    ],
                    "scatter": [
                      {
                        "fillpattern": {
                          "fillmode": "overlay",
                          "size": 10,
                          "solidity": 0.2
                        },
                        "type": "scatter"
                      }
                    ],
                    "scatter3d": [
                      {
                        "line": {
                          "colorbar": {
                            "outlinewidth": 0,
                            "ticks": ""
                          }
                        },
                        "marker": {
                          "colorbar": {
                            "outlinewidth": 0,
                            "ticks": ""
                          }
                        },
                        "type": "scatter3d"
                      }
                    ],
                    "scattercarpet": [
                      {
                        "marker": {
                          "colorbar": {
                            "outlinewidth": 0,
                            "ticks": ""
                          }
                        },
                        "type": "scattercarpet"
                      }
                    ],
                    "scattergeo": [
                      {
                        "marker": {
                          "colorbar": {
                            "outlinewidth": 0,
                            "ticks": ""
                          }
                        },
                        "type": "scattergeo"
                      }
                    ],
                    "scattergl": [
                      {
                        "marker": {
                          "colorbar": {
                            "outlinewidth": 0,
                            "ticks": ""
                          }
                        },
                        "type": "scattergl"
                      }
                    ],
                    "scattermapbox": [
                      {
                        "marker": {
                          "colorbar": {
                            "outlinewidth": 0,
                            "ticks": ""
                          }
                        },
                        "type": "scattermapbox"
                      }
                    ],
                    "scatterpolar": [
                      {
                        "marker": {
                          "colorbar": {
                            "outlinewidth": 0,
                            "ticks": ""
                          }
                        },
                        "type": "scatterpolar"
                      }
                    ],
                    "scatterpolargl": [
                      {
                        "marker": {
                          "colorbar": {
                            "outlinewidth": 0,
                            "ticks": ""
                          }
                        },
                        "type": "scatterpolargl"
                      }
                    ],
                    "scatterternary": [
                      {
                        "marker": {
                          "colorbar": {
                            "outlinewidth": 0,
                            "ticks": ""
                          }
                        },
                        "type": "scatterternary"
                      }
                    ],
                    "surface": [
                      {
                        "colorbar": {
                          "outlinewidth": 0,
                          "ticks": ""
                        },
                        "colorscale": [
                          [
                            0,
                            "#0d0887"
                          ],
                          [
                            0.1111111111111111,
                            "#46039f"
                          ],
                          [
                            0.2222222222222222,
                            "#7201a8"
                          ],
                          [
                            0.3333333333333333,
                            "#9c179e"
                          ],
                          [
                            0.4444444444444444,
                            "#bd3786"
                          ],
                          [
                            0.5555555555555556,
                            "#d8576b"
                          ],
                          [
                            0.6666666666666666,
                            "#ed7953"
                          ],
                          [
                            0.7777777777777778,
                            "#fb9f3a"
                          ],
                          [
                            0.8888888888888888,
                            "#fdca26"
                          ],
                          [
                            1,
                            "#f0f921"
                          ]
                        ],
                        "type": "surface"
                      }
                    ],
                    "table": [
                      {
                        "cells": {
                          "fill": {
                            "color": "#EBF0F8"
                          },
                          "line": {
                            "color": "white"
                          }
                        },
                        "header": {
                          "fill": {
                            "color": "#C8D4E3"
                          },
                          "line": {
                            "color": "white"
                          }
                        },
                        "type": "table"
                      }
                    ]
                  },
                  "layout": {
                    "annotationdefaults": {
                      "arrowcolor": "#2a3f5f",
                      "arrowhead": 0,
                      "arrowwidth": 1
                    },
                    "autotypenumbers": "strict",
                    "coloraxis": {
                      "colorbar": {
                        "outlinewidth": 0,
                        "ticks": ""
                      }
                    },
                    "colorscale": {
                      "diverging": [
                        [
                          0,
                          "#8e0152"
                        ],
                        [
                          0.1,
                          "#c51b7d"
                        ],
                        [
                          0.2,
                          "#de77ae"
                        ],
                        [
                          0.3,
                          "#f1b6da"
                        ],
                        [
                          0.4,
                          "#fde0ef"
                        ],
                        [
                          0.5,
                          "#f7f7f7"
                        ],
                        [
                          0.6,
                          "#e6f5d0"
                        ],
                        [
                          0.7,
                          "#b8e186"
                        ],
                        [
                          0.8,
                          "#7fbc41"
                        ],
                        [
                          0.9,
                          "#4d9221"
                        ],
                        [
                          1,
                          "#276419"
                        ]
                      ],
                      "sequential": [
                        [
                          0,
                          "#0d0887"
                        ],
                        [
                          0.1111111111111111,
                          "#46039f"
                        ],
                        [
                          0.2222222222222222,
                          "#7201a8"
                        ],
                        [
                          0.3333333333333333,
                          "#9c179e"
                        ],
                        [
                          0.4444444444444444,
                          "#bd3786"
                        ],
                        [
                          0.5555555555555556,
                          "#d8576b"
                        ],
                        [
                          0.6666666666666666,
                          "#ed7953"
                        ],
                        [
                          0.7777777777777778,
                          "#fb9f3a"
                        ],
                        [
                          0.8888888888888888,
                          "#fdca26"
                        ],
                        [
                          1,
                          "#f0f921"
                        ]
                      ],
                      "sequentialminus": [
                        [
                          0,
                          "#0d0887"
                        ],
                        [
                          0.1111111111111111,
                          "#46039f"
                        ],
                        [
                          0.2222222222222222,
                          "#7201a8"
                        ],
                        [
                          0.3333333333333333,
                          "#9c179e"
                        ],
                        [
                          0.4444444444444444,
                          "#bd3786"
                        ],
                        [
                          0.5555555555555556,
                          "#d8576b"
                        ],
                        [
                          0.6666666666666666,
                          "#ed7953"
                        ],
                        [
                          0.7777777777777778,
                          "#fb9f3a"
                        ],
                        [
                          0.8888888888888888,
                          "#fdca26"
                        ],
                        [
                          1,
                          "#f0f921"
                        ]
                      ]
                    },
                    "colorway": [
                      "#636efa",
                      "#EF553B",
                      "#00cc96",
                      "#ab63fa",
                      "#FFA15A",
                      "#19d3f3",
                      "#FF6692",
                      "#B6E880",
                      "#FF97FF",
                      "#FECB52"
                    ],
                    "font": {
                      "color": "#2a3f5f"
                    },
                    "geo": {
                      "bgcolor": "white",
                      "lakecolor": "white",
                      "landcolor": "#E5ECF6",
                      "showlakes": true,
                      "showland": true,
                      "subunitcolor": "white"
                    },
                    "hoverlabel": {
                      "align": "left"
                    },
                    "hovermode": "closest",
                    "mapbox": {
                      "style": "light"
                    },
                    "paper_bgcolor": "white",
                    "plot_bgcolor": "#E5ECF6",
                    "polar": {
                      "angularaxis": {
                        "gridcolor": "white",
                        "linecolor": "white",
                        "ticks": ""
                      },
                      "bgcolor": "#E5ECF6",
                      "radialaxis": {
                        "gridcolor": "white",
                        "linecolor": "white",
                        "ticks": ""
                      }
                    },
                    "scene": {
                      "xaxis": {
                        "backgroundcolor": "#E5ECF6",
                        "gridcolor": "white",
                        "gridwidth": 2,
                        "linecolor": "white",
                        "showbackground": true,
                        "ticks": "",
                        "zerolinecolor": "white"
                      },
                      "yaxis": {
                        "backgroundcolor": "#E5ECF6",
                        "gridcolor": "white",
                        "gridwidth": 2,
                        "linecolor": "white",
                        "showbackground": true,
                        "ticks": "",
                        "zerolinecolor": "white"
                      },
                      "zaxis": {
                        "backgroundcolor": "#E5ECF6",
                        "gridcolor": "white",
                        "gridwidth": 2,
                        "linecolor": "white",
                        "showbackground": true,
                        "ticks": "",
                        "zerolinecolor": "white"
                      }
                    },
                    "shapedefaults": {
                      "line": {
                        "color": "#2a3f5f"
                      }
                    },
                    "ternary": {
                      "aaxis": {
                        "gridcolor": "white",
                        "linecolor": "white",
                        "ticks": ""
                      },
                      "baxis": {
                        "gridcolor": "white",
                        "linecolor": "white",
                        "ticks": ""
                      },
                      "bgcolor": "#E5ECF6",
                      "caxis": {
                        "gridcolor": "white",
                        "linecolor": "white",
                        "ticks": ""
                      }
                    },
                    "title": {
                      "x": 0.05
                    },
                    "xaxis": {
                      "automargin": true,
                      "gridcolor": "white",
                      "linecolor": "white",
                      "ticks": "",
                      "title": {
                        "standoff": 15
                      },
                      "zerolinecolor": "white",
                      "zerolinewidth": 2
                    },
                    "yaxis": {
                      "automargin": true,
                      "gridcolor": "white",
                      "linecolor": "white",
                      "ticks": "",
                      "title": {
                        "standoff": 15
                      },
                      "zerolinecolor": "white",
                      "zerolinewidth": 2
                    }
                  }
                },
                "title": {
                  "text": "Permeability vs. Porosity"
                },
                "xaxis": {
                  "anchor": "y",
                  "domain": [
                    0,
                    1
                  ],
                  "title": {
                    "text": "Porosity (%)"
                  }
                },
                "yaxis": {
                  "anchor": "x",
                  "domain": [
                    0,
                    1
                  ],
                  "title": {
                    "text": "Permeability (mD)"
                  }
                }
              }
            }
          },
          "metadata": {},
          "output_type": "display_data"
        }
      ],
      "source": [
        "# Plot 2: Scatter plot of Permeability vs. Porosity\n",
        "fig2 = px.scatter(data, x='Por', y='Perm', title='Permeability vs. Porosity',\n",
        "                  labels={'Por': 'Porosity (%)', 'Perm': 'Permeability (mD)'})\n",
        "fig2.show(plot_format)"
      ]
    },
    {
      "cell_type": "code",
      "execution_count": 79,
      "id": "e9be6ae3",
      "metadata": {},
      "outputs": [
        {
          "data": {
            "application/vnd.plotly.v1+json": {
              "config": {
                "plotlyServerURL": "https://plot.ly"
              },
              "data": [
                {
                  "alignmentgroup": "True",
                  "hovertemplate": "Total Organic Carbon (%)=%{y}<extra></extra>",
                  "legendgroup": "",
                  "marker": {
                    "color": "#636efa"
                  },
                  "name": "",
                  "notched": false,
                  "offsetgroup": "",
                  "orientation": "v",
                  "showlegend": false,
                  "type": "box",
                  "x0": " ",
                  "xaxis": "x",
                  "y": [
                    1.16,
                    0.89,
                    0.89,
                    1.08,
                    1.51,
                    0.94,
                    0.8,
                    0.69,
                    0.95,
                    1.14,
                    1.08,
                    1.53,
                    1.17,
                    1.87,
                    0.18,
                    0.57,
                    1.34,
                    1.35,
                    0.9,
                    0.9,
                    1.26,
                    1.21,
                    1,
                    0.38,
                    1.77,
                    -0.04,
                    1.37,
                    1.1,
                    0.72,
                    0.81,
                    1.45,
                    0.92,
                    0.79,
                    1.13,
                    0.43,
                    0.54,
                    0.48,
                    1.33,
                    1.14,
                    0.87,
                    0.97,
                    1.01,
                    -0.19,
                    0.83,
                    2.07,
                    0.66,
                    0.3,
                    0.08,
                    1,
                    1.24,
                    1.59,
                    1.53,
                    0.8,
                    0.76,
                    1.97,
                    0.76,
                    0.62,
                    0.78,
                    1.09,
                    0.2,
                    1.3,
                    1.07,
                    1.12,
                    1.07,
                    1.67,
                    0.04,
                    1.22,
                    1.28,
                    1.04,
                    0.47,
                    0.16,
                    0.91,
                    0.72,
                    1.1,
                    0.48,
                    1.42,
                    1.47,
                    0.46,
                    0.8,
                    1.15,
                    1.17,
                    1.22,
                    0.38,
                    0.6,
                    0.59,
                    1.04,
                    1.36,
                    0.95,
                    0.52,
                    1.17,
                    0.84,
                    0.38,
                    1.47,
                    0.39,
                    0.95,
                    0.92,
                    1.47,
                    1.59,
                    0.84,
                    1.55,
                    0.98,
                    0.86,
                    0.45,
                    1.06,
                    1.75,
                    1.35,
                    0.5,
                    1.43,
                    2.08,
                    1.15,
                    0.58,
                    0.38,
                    1.39,
                    1.33,
                    0.82,
                    1.4,
                    0.81,
                    1.52,
                    1.02,
                    1.23,
                    0.48,
                    1.17,
                    1.11,
                    0.5,
                    2.18,
                    1.33,
                    1.13,
                    1.62,
                    0.93,
                    1.52,
                    1.17,
                    1.46,
                    0.31,
                    0.93,
                    0.61,
                    1.53,
                    0.38,
                    1.04,
                    0.37,
                    0.58,
                    1.37,
                    0.84,
                    1.64,
                    0.5,
                    1.16,
                    1.48,
                    0.43,
                    1.6,
                    0.1,
                    1.26,
                    0.82,
                    0.45,
                    1.66,
                    0.63,
                    1.5,
                    0.48,
                    1.33,
                    1.41,
                    1.05,
                    1.02,
                    1.21,
                    1.74,
                    0.28,
                    0.6,
                    0.9,
                    1.54,
                    1.57,
                    1.09,
                    1.58,
                    0.04,
                    0.38,
                    1.33,
                    0.12,
                    1.25,
                    1.42,
                    1.04,
                    1.08,
                    0.35,
                    1.23,
                    -0.03,
                    0.14,
                    0.67,
                    0.52,
                    1.66,
                    1.52,
                    0.72,
                    1.28,
                    0.81,
                    0.97,
                    1.48,
                    1.51,
                    0.28,
                    1.4,
                    0.11,
                    1.77,
                    0.8,
                    0.98,
                    -0.04,
                    1.89,
                    1.71
                  ],
                  "y0": " ",
                  "yaxis": "y"
                }
              ],
              "layout": {
                "boxmode": "group",
                "legend": {
                  "tracegroupgap": 0
                },
                "template": {
                  "data": {
                    "bar": [
                      {
                        "error_x": {
                          "color": "#2a3f5f"
                        },
                        "error_y": {
                          "color": "#2a3f5f"
                        },
                        "marker": {
                          "line": {
                            "color": "#E5ECF6",
                            "width": 0.5
                          },
                          "pattern": {
                            "fillmode": "overlay",
                            "size": 10,
                            "solidity": 0.2
                          }
                        },
                        "type": "bar"
                      }
                    ],
                    "barpolar": [
                      {
                        "marker": {
                          "line": {
                            "color": "#E5ECF6",
                            "width": 0.5
                          },
                          "pattern": {
                            "fillmode": "overlay",
                            "size": 10,
                            "solidity": 0.2
                          }
                        },
                        "type": "barpolar"
                      }
                    ],
                    "carpet": [
                      {
                        "aaxis": {
                          "endlinecolor": "#2a3f5f",
                          "gridcolor": "white",
                          "linecolor": "white",
                          "minorgridcolor": "white",
                          "startlinecolor": "#2a3f5f"
                        },
                        "baxis": {
                          "endlinecolor": "#2a3f5f",
                          "gridcolor": "white",
                          "linecolor": "white",
                          "minorgridcolor": "white",
                          "startlinecolor": "#2a3f5f"
                        },
                        "type": "carpet"
                      }
                    ],
                    "choropleth": [
                      {
                        "colorbar": {
                          "outlinewidth": 0,
                          "ticks": ""
                        },
                        "type": "choropleth"
                      }
                    ],
                    "contour": [
                      {
                        "colorbar": {
                          "outlinewidth": 0,
                          "ticks": ""
                        },
                        "colorscale": [
                          [
                            0,
                            "#0d0887"
                          ],
                          [
                            0.1111111111111111,
                            "#46039f"
                          ],
                          [
                            0.2222222222222222,
                            "#7201a8"
                          ],
                          [
                            0.3333333333333333,
                            "#9c179e"
                          ],
                          [
                            0.4444444444444444,
                            "#bd3786"
                          ],
                          [
                            0.5555555555555556,
                            "#d8576b"
                          ],
                          [
                            0.6666666666666666,
                            "#ed7953"
                          ],
                          [
                            0.7777777777777778,
                            "#fb9f3a"
                          ],
                          [
                            0.8888888888888888,
                            "#fdca26"
                          ],
                          [
                            1,
                            "#f0f921"
                          ]
                        ],
                        "type": "contour"
                      }
                    ],
                    "contourcarpet": [
                      {
                        "colorbar": {
                          "outlinewidth": 0,
                          "ticks": ""
                        },
                        "type": "contourcarpet"
                      }
                    ],
                    "heatmap": [
                      {
                        "colorbar": {
                          "outlinewidth": 0,
                          "ticks": ""
                        },
                        "colorscale": [
                          [
                            0,
                            "#0d0887"
                          ],
                          [
                            0.1111111111111111,
                            "#46039f"
                          ],
                          [
                            0.2222222222222222,
                            "#7201a8"
                          ],
                          [
                            0.3333333333333333,
                            "#9c179e"
                          ],
                          [
                            0.4444444444444444,
                            "#bd3786"
                          ],
                          [
                            0.5555555555555556,
                            "#d8576b"
                          ],
                          [
                            0.6666666666666666,
                            "#ed7953"
                          ],
                          [
                            0.7777777777777778,
                            "#fb9f3a"
                          ],
                          [
                            0.8888888888888888,
                            "#fdca26"
                          ],
                          [
                            1,
                            "#f0f921"
                          ]
                        ],
                        "type": "heatmap"
                      }
                    ],
                    "heatmapgl": [
                      {
                        "colorbar": {
                          "outlinewidth": 0,
                          "ticks": ""
                        },
                        "colorscale": [
                          [
                            0,
                            "#0d0887"
                          ],
                          [
                            0.1111111111111111,
                            "#46039f"
                          ],
                          [
                            0.2222222222222222,
                            "#7201a8"
                          ],
                          [
                            0.3333333333333333,
                            "#9c179e"
                          ],
                          [
                            0.4444444444444444,
                            "#bd3786"
                          ],
                          [
                            0.5555555555555556,
                            "#d8576b"
                          ],
                          [
                            0.6666666666666666,
                            "#ed7953"
                          ],
                          [
                            0.7777777777777778,
                            "#fb9f3a"
                          ],
                          [
                            0.8888888888888888,
                            "#fdca26"
                          ],
                          [
                            1,
                            "#f0f921"
                          ]
                        ],
                        "type": "heatmapgl"
                      }
                    ],
                    "histogram": [
                      {
                        "marker": {
                          "pattern": {
                            "fillmode": "overlay",
                            "size": 10,
                            "solidity": 0.2
                          }
                        },
                        "type": "histogram"
                      }
                    ],
                    "histogram2d": [
                      {
                        "colorbar": {
                          "outlinewidth": 0,
                          "ticks": ""
                        },
                        "colorscale": [
                          [
                            0,
                            "#0d0887"
                          ],
                          [
                            0.1111111111111111,
                            "#46039f"
                          ],
                          [
                            0.2222222222222222,
                            "#7201a8"
                          ],
                          [
                            0.3333333333333333,
                            "#9c179e"
                          ],
                          [
                            0.4444444444444444,
                            "#bd3786"
                          ],
                          [
                            0.5555555555555556,
                            "#d8576b"
                          ],
                          [
                            0.6666666666666666,
                            "#ed7953"
                          ],
                          [
                            0.7777777777777778,
                            "#fb9f3a"
                          ],
                          [
                            0.8888888888888888,
                            "#fdca26"
                          ],
                          [
                            1,
                            "#f0f921"
                          ]
                        ],
                        "type": "histogram2d"
                      }
                    ],
                    "histogram2dcontour": [
                      {
                        "colorbar": {
                          "outlinewidth": 0,
                          "ticks": ""
                        },
                        "colorscale": [
                          [
                            0,
                            "#0d0887"
                          ],
                          [
                            0.1111111111111111,
                            "#46039f"
                          ],
                          [
                            0.2222222222222222,
                            "#7201a8"
                          ],
                          [
                            0.3333333333333333,
                            "#9c179e"
                          ],
                          [
                            0.4444444444444444,
                            "#bd3786"
                          ],
                          [
                            0.5555555555555556,
                            "#d8576b"
                          ],
                          [
                            0.6666666666666666,
                            "#ed7953"
                          ],
                          [
                            0.7777777777777778,
                            "#fb9f3a"
                          ],
                          [
                            0.8888888888888888,
                            "#fdca26"
                          ],
                          [
                            1,
                            "#f0f921"
                          ]
                        ],
                        "type": "histogram2dcontour"
                      }
                    ],
                    "mesh3d": [
                      {
                        "colorbar": {
                          "outlinewidth": 0,
                          "ticks": ""
                        },
                        "type": "mesh3d"
                      }
                    ],
                    "parcoords": [
                      {
                        "line": {
                          "colorbar": {
                            "outlinewidth": 0,
                            "ticks": ""
                          }
                        },
                        "type": "parcoords"
                      }
                    ],
                    "pie": [
                      {
                        "automargin": true,
                        "type": "pie"
                      }
                    ],
                    "scatter": [
                      {
                        "fillpattern": {
                          "fillmode": "overlay",
                          "size": 10,
                          "solidity": 0.2
                        },
                        "type": "scatter"
                      }
                    ],
                    "scatter3d": [
                      {
                        "line": {
                          "colorbar": {
                            "outlinewidth": 0,
                            "ticks": ""
                          }
                        },
                        "marker": {
                          "colorbar": {
                            "outlinewidth": 0,
                            "ticks": ""
                          }
                        },
                        "type": "scatter3d"
                      }
                    ],
                    "scattercarpet": [
                      {
                        "marker": {
                          "colorbar": {
                            "outlinewidth": 0,
                            "ticks": ""
                          }
                        },
                        "type": "scattercarpet"
                      }
                    ],
                    "scattergeo": [
                      {
                        "marker": {
                          "colorbar": {
                            "outlinewidth": 0,
                            "ticks": ""
                          }
                        },
                        "type": "scattergeo"
                      }
                    ],
                    "scattergl": [
                      {
                        "marker": {
                          "colorbar": {
                            "outlinewidth": 0,
                            "ticks": ""
                          }
                        },
                        "type": "scattergl"
                      }
                    ],
                    "scattermapbox": [
                      {
                        "marker": {
                          "colorbar": {
                            "outlinewidth": 0,
                            "ticks": ""
                          }
                        },
                        "type": "scattermapbox"
                      }
                    ],
                    "scatterpolar": [
                      {
                        "marker": {
                          "colorbar": {
                            "outlinewidth": 0,
                            "ticks": ""
                          }
                        },
                        "type": "scatterpolar"
                      }
                    ],
                    "scatterpolargl": [
                      {
                        "marker": {
                          "colorbar": {
                            "outlinewidth": 0,
                            "ticks": ""
                          }
                        },
                        "type": "scatterpolargl"
                      }
                    ],
                    "scatterternary": [
                      {
                        "marker": {
                          "colorbar": {
                            "outlinewidth": 0,
                            "ticks": ""
                          }
                        },
                        "type": "scatterternary"
                      }
                    ],
                    "surface": [
                      {
                        "colorbar": {
                          "outlinewidth": 0,
                          "ticks": ""
                        },
                        "colorscale": [
                          [
                            0,
                            "#0d0887"
                          ],
                          [
                            0.1111111111111111,
                            "#46039f"
                          ],
                          [
                            0.2222222222222222,
                            "#7201a8"
                          ],
                          [
                            0.3333333333333333,
                            "#9c179e"
                          ],
                          [
                            0.4444444444444444,
                            "#bd3786"
                          ],
                          [
                            0.5555555555555556,
                            "#d8576b"
                          ],
                          [
                            0.6666666666666666,
                            "#ed7953"
                          ],
                          [
                            0.7777777777777778,
                            "#fb9f3a"
                          ],
                          [
                            0.8888888888888888,
                            "#fdca26"
                          ],
                          [
                            1,
                            "#f0f921"
                          ]
                        ],
                        "type": "surface"
                      }
                    ],
                    "table": [
                      {
                        "cells": {
                          "fill": {
                            "color": "#EBF0F8"
                          },
                          "line": {
                            "color": "white"
                          }
                        },
                        "header": {
                          "fill": {
                            "color": "#C8D4E3"
                          },
                          "line": {
                            "color": "white"
                          }
                        },
                        "type": "table"
                      }
                    ]
                  },
                  "layout": {
                    "annotationdefaults": {
                      "arrowcolor": "#2a3f5f",
                      "arrowhead": 0,
                      "arrowwidth": 1
                    },
                    "autotypenumbers": "strict",
                    "coloraxis": {
                      "colorbar": {
                        "outlinewidth": 0,
                        "ticks": ""
                      }
                    },
                    "colorscale": {
                      "diverging": [
                        [
                          0,
                          "#8e0152"
                        ],
                        [
                          0.1,
                          "#c51b7d"
                        ],
                        [
                          0.2,
                          "#de77ae"
                        ],
                        [
                          0.3,
                          "#f1b6da"
                        ],
                        [
                          0.4,
                          "#fde0ef"
                        ],
                        [
                          0.5,
                          "#f7f7f7"
                        ],
                        [
                          0.6,
                          "#e6f5d0"
                        ],
                        [
                          0.7,
                          "#b8e186"
                        ],
                        [
                          0.8,
                          "#7fbc41"
                        ],
                        [
                          0.9,
                          "#4d9221"
                        ],
                        [
                          1,
                          "#276419"
                        ]
                      ],
                      "sequential": [
                        [
                          0,
                          "#0d0887"
                        ],
                        [
                          0.1111111111111111,
                          "#46039f"
                        ],
                        [
                          0.2222222222222222,
                          "#7201a8"
                        ],
                        [
                          0.3333333333333333,
                          "#9c179e"
                        ],
                        [
                          0.4444444444444444,
                          "#bd3786"
                        ],
                        [
                          0.5555555555555556,
                          "#d8576b"
                        ],
                        [
                          0.6666666666666666,
                          "#ed7953"
                        ],
                        [
                          0.7777777777777778,
                          "#fb9f3a"
                        ],
                        [
                          0.8888888888888888,
                          "#fdca26"
                        ],
                        [
                          1,
                          "#f0f921"
                        ]
                      ],
                      "sequentialminus": [
                        [
                          0,
                          "#0d0887"
                        ],
                        [
                          0.1111111111111111,
                          "#46039f"
                        ],
                        [
                          0.2222222222222222,
                          "#7201a8"
                        ],
                        [
                          0.3333333333333333,
                          "#9c179e"
                        ],
                        [
                          0.4444444444444444,
                          "#bd3786"
                        ],
                        [
                          0.5555555555555556,
                          "#d8576b"
                        ],
                        [
                          0.6666666666666666,
                          "#ed7953"
                        ],
                        [
                          0.7777777777777778,
                          "#fb9f3a"
                        ],
                        [
                          0.8888888888888888,
                          "#fdca26"
                        ],
                        [
                          1,
                          "#f0f921"
                        ]
                      ]
                    },
                    "colorway": [
                      "#636efa",
                      "#EF553B",
                      "#00cc96",
                      "#ab63fa",
                      "#FFA15A",
                      "#19d3f3",
                      "#FF6692",
                      "#B6E880",
                      "#FF97FF",
                      "#FECB52"
                    ],
                    "font": {
                      "color": "#2a3f5f"
                    },
                    "geo": {
                      "bgcolor": "white",
                      "lakecolor": "white",
                      "landcolor": "#E5ECF6",
                      "showlakes": true,
                      "showland": true,
                      "subunitcolor": "white"
                    },
                    "hoverlabel": {
                      "align": "left"
                    },
                    "hovermode": "closest",
                    "mapbox": {
                      "style": "light"
                    },
                    "paper_bgcolor": "white",
                    "plot_bgcolor": "#E5ECF6",
                    "polar": {
                      "angularaxis": {
                        "gridcolor": "white",
                        "linecolor": "white",
                        "ticks": ""
                      },
                      "bgcolor": "#E5ECF6",
                      "radialaxis": {
                        "gridcolor": "white",
                        "linecolor": "white",
                        "ticks": ""
                      }
                    },
                    "scene": {
                      "xaxis": {
                        "backgroundcolor": "#E5ECF6",
                        "gridcolor": "white",
                        "gridwidth": 2,
                        "linecolor": "white",
                        "showbackground": true,
                        "ticks": "",
                        "zerolinecolor": "white"
                      },
                      "yaxis": {
                        "backgroundcolor": "#E5ECF6",
                        "gridcolor": "white",
                        "gridwidth": 2,
                        "linecolor": "white",
                        "showbackground": true,
                        "ticks": "",
                        "zerolinecolor": "white"
                      },
                      "zaxis": {
                        "backgroundcolor": "#E5ECF6",
                        "gridcolor": "white",
                        "gridwidth": 2,
                        "linecolor": "white",
                        "showbackground": true,
                        "ticks": "",
                        "zerolinecolor": "white"
                      }
                    },
                    "shapedefaults": {
                      "line": {
                        "color": "#2a3f5f"
                      }
                    },
                    "ternary": {
                      "aaxis": {
                        "gridcolor": "white",
                        "linecolor": "white",
                        "ticks": ""
                      },
                      "baxis": {
                        "gridcolor": "white",
                        "linecolor": "white",
                        "ticks": ""
                      },
                      "bgcolor": "#E5ECF6",
                      "caxis": {
                        "gridcolor": "white",
                        "linecolor": "white",
                        "ticks": ""
                      }
                    },
                    "title": {
                      "x": 0.05
                    },
                    "xaxis": {
                      "automargin": true,
                      "gridcolor": "white",
                      "linecolor": "white",
                      "ticks": "",
                      "title": {
                        "standoff": 15
                      },
                      "zerolinecolor": "white",
                      "zerolinewidth": 2
                    },
                    "yaxis": {
                      "automargin": true,
                      "gridcolor": "white",
                      "linecolor": "white",
                      "ticks": "",
                      "title": {
                        "standoff": 15
                      },
                      "zerolinecolor": "white",
                      "zerolinewidth": 2
                    }
                  }
                },
                "title": {
                  "text": "Box Plot of Total Organic Carbon (TOC)"
                },
                "xaxis": {
                  "anchor": "y",
                  "domain": [
                    0,
                    1
                  ]
                },
                "yaxis": {
                  "anchor": "x",
                  "domain": [
                    0,
                    1
                  ],
                  "title": {
                    "text": "Total Organic Carbon (%)"
                  }
                }
              }
            }
          },
          "metadata": {},
          "output_type": "display_data"
        }
      ],
      "source": [
        "# Plot 3: Box plot of TOC values\n",
        "fig3 = px.box(data, y='TOC', title='Box Plot of Total Organic Carbon (TOC)', labels={'TOC': 'Total Organic Carbon (%)'})\n",
        "fig3.show()"
      ]
    },
    {
      "cell_type": "code",
      "execution_count": 80,
      "id": "63160529",
      "metadata": {},
      "outputs": [
        {
          "data": {
            "application/vnd.plotly.v1+json": {
              "config": {
                "plotlyServerURL": "https://plot.ly"
              },
              "data": [
                {
                  "hovertemplate": "Brittleness (%)=%{x}<br>Production=%{y}<br>Porosity (%)=%{marker.color}<extra></extra>",
                  "legendgroup": "",
                  "marker": {
                    "color": [
                      12.08,
                      12.38,
                      14.02,
                      17.67,
                      17.52,
                      14.53,
                      13.49,
                      11.58,
                      12.52,
                      13.25,
                      15.04,
                      16.19,
                      16.82,
                      17.39,
                      13.83,
                      11.34,
                      19.55,
                      15.58,
                      14.73,
                      12.47,
                      18.08,
                      16.32,
                      12.62,
                      10.03,
                      18.66,
                      7.27,
                      15.78,
                      15.73,
                      12.38,
                      12.89,
                      18.48,
                      14.74,
                      12.55,
                      13.58,
                      11.76,
                      11.98,
                      13.56,
                      16.55,
                      15.22,
                      14.54,
                      14.37,
                      15.4,
                      10.14,
                      11.09,
                      18.37,
                      14.71,
                      9.29,
                      11.85,
                      18.59,
                      18.18,
                      18.72,
                      20.96,
                      15.31,
                      11.98,
                      18.16,
                      13.61,
                      13.67,
                      15.21,
                      16.1,
                      13,
                      18.32,
                      14.96,
                      18.21,
                      15.07,
                      17.75,
                      15.77,
                      14.19,
                      13.8,
                      14.84,
                      12.54,
                      10.13,
                      14.17,
                      14.85,
                      16.62,
                      17.85,
                      18.73,
                      17.2,
                      10.49,
                      13.53,
                      18.04,
                      14.97,
                      16.18,
                      15.07,
                      13.69,
                      10.15,
                      13.45,
                      15.94,
                      14.88,
                      11.12,
                      13.5,
                      13.72,
                      7.38,
                      20.21,
                      10.69,
                      15.75,
                      17.96,
                      16.95,
                      19.73,
                      11.91,
                      15.53,
                      14.44,
                      13.37,
                      10.5,
                      18.9,
                      17.89,
                      15.32,
                      13.48,
                      17.17,
                      20.86,
                      15.19,
                      14.95,
                      12.1,
                      18.24,
                      19.86,
                      19.54,
                      18.37,
                      12.89,
                      15.2,
                      12.23,
                      17.88,
                      15.79,
                      12.38,
                      18.98,
                      13.76,
                      23.55,
                      14.86,
                      16.43,
                      15.86,
                      12.98,
                      17.21,
                      15.34,
                      17.57,
                      10.74,
                      18.79,
                      12.83,
                      15.35,
                      14.88,
                      14.69,
                      7.77,
                      15.87,
                      18.75,
                      15.63,
                      18.06,
                      12.05,
                      14.44,
                      16.69,
                      15.8,
                      16.84,
                      13.46,
                      14.63,
                      12.2,
                      10.5,
                      18.68,
                      16.88,
                      15.42,
                      13.01,
                      17.92,
                      15.97,
                      13.32,
                      18.1,
                      16.21,
                      18,
                      17.86,
                      11.6,
                      17.98,
                      16.61,
                      19.06,
                      12.83,
                      18.96,
                      11.71,
                      11.91,
                      17.44,
                      10.95,
                      12.94,
                      15.72,
                      14.02,
                      14.49,
                      11.8,
                      19.29,
                      7.22,
                      15.7,
                      14.48,
                      9.88,
                      18.8,
                      18.07,
                      15.68,
                      15.28,
                      10.88,
                      16.14,
                      16.12,
                      13.52,
                      6.55,
                      20.37,
                      12.92,
                      17.13,
                      11.95,
                      17.99,
                      12.12,
                      15.55,
                      20.89
                    ],
                    "coloraxis": "coloraxis",
                    "symbol": "circle"
                  },
                  "mode": "markers",
                  "name": "",
                  "orientation": "v",
                  "showlegend": false,
                  "type": "scatter",
                  "x": [
                    81.4,
                    46.17,
                    72.8,
                    39.81,
                    10.94,
                    53.6,
                    63.71,
                    53,
                    65.77,
                    66.2,
                    61.11,
                    49.1,
                    66.65,
                    56.43,
                    66.22,
                    58.03,
                    35.49,
                    29.43,
                    67.42,
                    48.82,
                    53.56,
                    46.78,
                    15.68,
                    37.74,
                    53.35,
                    54.56,
                    52.64,
                    31.9,
                    31.4,
                    51.24,
                    46.89,
                    36.86,
                    56.93,
                    52.16,
                    61.21,
                    27.12,
                    42.96,
                    63.39,
                    42.24,
                    66.27,
                    47.62,
                    46.29,
                    61.89,
                    29.62,
                    44.22,
                    26.33,
                    63.86,
                    24.76,
                    49.2,
                    45.48,
                    44.74,
                    33.84,
                    55.2,
                    60.31,
                    41.55,
                    55.04,
                    28.69,
                    32.37,
                    26.77,
                    64.54,
                    57.18,
                    34.65,
                    51.06,
                    39.39,
                    59.32,
                    44.54,
                    28.7,
                    46.08,
                    48.8,
                    58.03,
                    63.79,
                    59.3,
                    44.93,
                    31.41,
                    59.16,
                    53.39,
                    48.84,
                    52.31,
                    67.51,
                    57.53,
                    54.85,
                    41.4,
                    56.7,
                    69.53,
                    40.51,
                    58.3,
                    37.13,
                    63.31,
                    58.97,
                    36.68,
                    40.24,
                    42.24,
                    23.78,
                    84.33,
                    70.68,
                    49.41,
                    61.43,
                    49.91,
                    47.38,
                    64.49,
                    68.76,
                    52.23,
                    61.09,
                    18.63,
                    34.13,
                    55.99,
                    55.3,
                    38.08,
                    40.57,
                    57.97,
                    75.73,
                    63.24,
                    44.53,
                    45.44,
                    37.4,
                    42.26,
                    66.21,
                    42.63,
                    40.67,
                    49.61,
                    63.24,
                    33.48,
                    46.4,
                    52.36,
                    14.24,
                    60.5,
                    35.5,
                    51.49,
                    60.51,
                    20.12,
                    50.65,
                    44.57,
                    62.94,
                    35.74,
                    17.2,
                    26.63,
                    51.29,
                    62.93,
                    40.24,
                    32.82,
                    58.05,
                    40.83,
                    56.29,
                    42.36,
                    65.32,
                    36.22,
                    42.13,
                    60.43,
                    56.59,
                    21.47,
                    28.87,
                    54.54,
                    43.35,
                    65.82,
                    18.98,
                    50.41,
                    57.84,
                    52.55,
                    57.86,
                    56.09,
                    59.83,
                    28.46,
                    26.22,
                    53.54,
                    25.17,
                    60.13,
                    55.53,
                    29.87,
                    29.28,
                    44.03,
                    28.94,
                    57.33,
                    47.06,
                    38.29,
                    35.09,
                    62.59,
                    22.54,
                    35.35,
                    58.56,
                    63.09,
                    46.86,
                    47.44,
                    55.19,
                    74.07,
                    28.67,
                    57.85,
                    34.78,
                    55.09,
                    38.03,
                    35.84,
                    31.57,
                    56.69,
                    37.76,
                    71.4,
                    51.45,
                    67.18,
                    44.32,
                    57.07,
                    58.25,
                    46.17
                  ],
                  "xaxis": "x",
                  "y": [
                    4165.196191,
                    3561.146205,
                    4284.348574,
                    5098.680869,
                    3406.132832,
                    4395.763259,
                    4104.400989,
                    3496.742701,
                    4025.851153,
                    4285.026122,
                    4691.546305,
                    5128.20297,
                    5113.940775,
                    5546.431951,
                    4323.568513,
                    3539.984263,
                    5425.900608,
                    3796.037029,
                    4534.585915,
                    3803.411386,
                    5778.851488,
                    4771.307836,
                    2486.075498,
                    2515.440716,
                    6046.257538,
                    2351.289487,
                    4971.979256,
                    3999.613909,
                    2760.485982,
                    3825.661812,
                    5859.748328,
                    3775.981178,
                    3907.28923,
                    4118.233273,
                    3621.261108,
                    2718.652945,
                    3608.47473,
                    5249.625543,
                    4239.53187,
                    4471.241364,
                    4363.202854,
                    4495.004769,
                    3098.436639,
                    2677.297348,
                    5779.876876,
                    3210.90138,
                    2967.240201,
                    2415.825125,
                    5563.040771,
                    5337.145786,
                    5670.537767,
                    5899.353594,
                    4601.071319,
                    3741.129167,
                    5605.978153,
                    4079.994302,
                    3146.528143,
                    3691.832452,
                    3542.532883,
                    3969.558019,
                    5851.024387,
                    3733.769597,
                    5620.911404,
                    4319.662079,
                    5620.445827,
                    4431.905847,
                    3376.2837,
                    3999.97933,
                    4336.465709,
                    3767.10242,
                    3180.611366,
                    4320.554389,
                    4220.557084,
                    4087.529805,
                    5321.469922,
                    6053.071368,
                    5446.810082,
                    3190.699612,
                    4276.410007,
                    5518.256409,
                    4555.146788,
                    4489.29306,
                    4319.787412,
                    4113.145433,
                    2734.773959,
                    4142.406714,
                    4208.174933,
                    4519.923344,
                    3364.213781,
                    3562.635128,
                    3806.229207,
                    2119.315516,
                    4877.71473,
                    3591.891958,
                    4700.224408,
                    5350.949293,
                    5278.785405,
                    6455.048131,
                    3671.944944,
                    4948.929165,
                    4464.894985,
                    4003.874956,
                    3376.059883,
                    3856.991967,
                    4689.43224,
                    4748.315024,
                    3890.428004,
                    4733.965648,
                    6480.140811,
                    4751.960471,
                    4429.601197,
                    3695.605482,
                    5334.209437,
                    6171.948872,
                    5188.165252,
                    5429.61122,
                    4190.949492,
                    4321.08436,
                    3278.519165,
                    5568.129512,
                    4761.541276,
                    3096.041435,
                    5984.91987,
                    3987.451637,
                    5107.668954,
                    4590.775041,
                    4394.908724,
                    4801.169597,
                    4118.586934,
                    3762.933398,
                    4583.194189,
                    5257.439724,
                    3258.271193,
                    4896.3969,
                    2508.507049,
                    3655.497757,
                    4300.222781,
                    4566.400754,
                    2107.139414,
                    3989.012964,
                    5903.37822,
                    4260.004869,
                    5996.900444,
                    3196.99447,
                    4476.367366,
                    4605.799987,
                    4180.788056,
                    5400.374809,
                    3950.292582,
                    3418.470532,
                    2705.868622,
                    3219.49199,
                    5607.51549,
                    5083.318118,
                    3341.157722,
                    3867.438514,
                    5629.970179,
                    4859.067707,
                    4092.730535,
                    5898.169102,
                    5085.588965,
                    4470.882859,
                    3923.997348,
                    3458.846102,
                    4013.751035,
                    5175.59912,
                    6395.708841,
                    3182.815944,
                    4862.060183,
                    2940.975811,
                    2791.133133,
                    5449.314018,
                    3031.432666,
                    3460.397749,
                    4158.294202,
                    4441.251847,
                    3333.963492,
                    2819.977847,
                    5880.785643,
                    2362.269336,
                    4290.072266,
                    4144.2208,
                    3141.540928,
                    5692.716924,
                    4319.373276,
                    4807.05583,
                    3899.879873,
                    3413.73739,
                    4385.713419,
                    4291.702607,
                    3407.341602,
                    2187.774422,
                    5899.275409,
                    3855.930544,
                    5489.491177,
                    3847.571003,
                    5601.227131,
                    3409.575363,
                    5087.592149,
                    6662.622385
                  ],
                  "yaxis": "y"
                }
              ],
              "layout": {
                "coloraxis": {
                  "colorbar": {
                    "title": {
                      "text": "Porosity (%)"
                    }
                  },
                  "colorscale": [
                    [
                      0,
                      "#0d0887"
                    ],
                    [
                      0.1111111111111111,
                      "#46039f"
                    ],
                    [
                      0.2222222222222222,
                      "#7201a8"
                    ],
                    [
                      0.3333333333333333,
                      "#9c179e"
                    ],
                    [
                      0.4444444444444444,
                      "#bd3786"
                    ],
                    [
                      0.5555555555555556,
                      "#d8576b"
                    ],
                    [
                      0.6666666666666666,
                      "#ed7953"
                    ],
                    [
                      0.7777777777777778,
                      "#fb9f3a"
                    ],
                    [
                      0.8888888888888888,
                      "#fdca26"
                    ],
                    [
                      1,
                      "#f0f921"
                    ]
                  ]
                },
                "legend": {
                  "tracegroupgap": 0
                },
                "template": {
                  "data": {
                    "bar": [
                      {
                        "error_x": {
                          "color": "#2a3f5f"
                        },
                        "error_y": {
                          "color": "#2a3f5f"
                        },
                        "marker": {
                          "line": {
                            "color": "#E5ECF6",
                            "width": 0.5
                          },
                          "pattern": {
                            "fillmode": "overlay",
                            "size": 10,
                            "solidity": 0.2
                          }
                        },
                        "type": "bar"
                      }
                    ],
                    "barpolar": [
                      {
                        "marker": {
                          "line": {
                            "color": "#E5ECF6",
                            "width": 0.5
                          },
                          "pattern": {
                            "fillmode": "overlay",
                            "size": 10,
                            "solidity": 0.2
                          }
                        },
                        "type": "barpolar"
                      }
                    ],
                    "carpet": [
                      {
                        "aaxis": {
                          "endlinecolor": "#2a3f5f",
                          "gridcolor": "white",
                          "linecolor": "white",
                          "minorgridcolor": "white",
                          "startlinecolor": "#2a3f5f"
                        },
                        "baxis": {
                          "endlinecolor": "#2a3f5f",
                          "gridcolor": "white",
                          "linecolor": "white",
                          "minorgridcolor": "white",
                          "startlinecolor": "#2a3f5f"
                        },
                        "type": "carpet"
                      }
                    ],
                    "choropleth": [
                      {
                        "colorbar": {
                          "outlinewidth": 0,
                          "ticks": ""
                        },
                        "type": "choropleth"
                      }
                    ],
                    "contour": [
                      {
                        "colorbar": {
                          "outlinewidth": 0,
                          "ticks": ""
                        },
                        "colorscale": [
                          [
                            0,
                            "#0d0887"
                          ],
                          [
                            0.1111111111111111,
                            "#46039f"
                          ],
                          [
                            0.2222222222222222,
                            "#7201a8"
                          ],
                          [
                            0.3333333333333333,
                            "#9c179e"
                          ],
                          [
                            0.4444444444444444,
                            "#bd3786"
                          ],
                          [
                            0.5555555555555556,
                            "#d8576b"
                          ],
                          [
                            0.6666666666666666,
                            "#ed7953"
                          ],
                          [
                            0.7777777777777778,
                            "#fb9f3a"
                          ],
                          [
                            0.8888888888888888,
                            "#fdca26"
                          ],
                          [
                            1,
                            "#f0f921"
                          ]
                        ],
                        "type": "contour"
                      }
                    ],
                    "contourcarpet": [
                      {
                        "colorbar": {
                          "outlinewidth": 0,
                          "ticks": ""
                        },
                        "type": "contourcarpet"
                      }
                    ],
                    "heatmap": [
                      {
                        "colorbar": {
                          "outlinewidth": 0,
                          "ticks": ""
                        },
                        "colorscale": [
                          [
                            0,
                            "#0d0887"
                          ],
                          [
                            0.1111111111111111,
                            "#46039f"
                          ],
                          [
                            0.2222222222222222,
                            "#7201a8"
                          ],
                          [
                            0.3333333333333333,
                            "#9c179e"
                          ],
                          [
                            0.4444444444444444,
                            "#bd3786"
                          ],
                          [
                            0.5555555555555556,
                            "#d8576b"
                          ],
                          [
                            0.6666666666666666,
                            "#ed7953"
                          ],
                          [
                            0.7777777777777778,
                            "#fb9f3a"
                          ],
                          [
                            0.8888888888888888,
                            "#fdca26"
                          ],
                          [
                            1,
                            "#f0f921"
                          ]
                        ],
                        "type": "heatmap"
                      }
                    ],
                    "heatmapgl": [
                      {
                        "colorbar": {
                          "outlinewidth": 0,
                          "ticks": ""
                        },
                        "colorscale": [
                          [
                            0,
                            "#0d0887"
                          ],
                          [
                            0.1111111111111111,
                            "#46039f"
                          ],
                          [
                            0.2222222222222222,
                            "#7201a8"
                          ],
                          [
                            0.3333333333333333,
                            "#9c179e"
                          ],
                          [
                            0.4444444444444444,
                            "#bd3786"
                          ],
                          [
                            0.5555555555555556,
                            "#d8576b"
                          ],
                          [
                            0.6666666666666666,
                            "#ed7953"
                          ],
                          [
                            0.7777777777777778,
                            "#fb9f3a"
                          ],
                          [
                            0.8888888888888888,
                            "#fdca26"
                          ],
                          [
                            1,
                            "#f0f921"
                          ]
                        ],
                        "type": "heatmapgl"
                      }
                    ],
                    "histogram": [
                      {
                        "marker": {
                          "pattern": {
                            "fillmode": "overlay",
                            "size": 10,
                            "solidity": 0.2
                          }
                        },
                        "type": "histogram"
                      }
                    ],
                    "histogram2d": [
                      {
                        "colorbar": {
                          "outlinewidth": 0,
                          "ticks": ""
                        },
                        "colorscale": [
                          [
                            0,
                            "#0d0887"
                          ],
                          [
                            0.1111111111111111,
                            "#46039f"
                          ],
                          [
                            0.2222222222222222,
                            "#7201a8"
                          ],
                          [
                            0.3333333333333333,
                            "#9c179e"
                          ],
                          [
                            0.4444444444444444,
                            "#bd3786"
                          ],
                          [
                            0.5555555555555556,
                            "#d8576b"
                          ],
                          [
                            0.6666666666666666,
                            "#ed7953"
                          ],
                          [
                            0.7777777777777778,
                            "#fb9f3a"
                          ],
                          [
                            0.8888888888888888,
                            "#fdca26"
                          ],
                          [
                            1,
                            "#f0f921"
                          ]
                        ],
                        "type": "histogram2d"
                      }
                    ],
                    "histogram2dcontour": [
                      {
                        "colorbar": {
                          "outlinewidth": 0,
                          "ticks": ""
                        },
                        "colorscale": [
                          [
                            0,
                            "#0d0887"
                          ],
                          [
                            0.1111111111111111,
                            "#46039f"
                          ],
                          [
                            0.2222222222222222,
                            "#7201a8"
                          ],
                          [
                            0.3333333333333333,
                            "#9c179e"
                          ],
                          [
                            0.4444444444444444,
                            "#bd3786"
                          ],
                          [
                            0.5555555555555556,
                            "#d8576b"
                          ],
                          [
                            0.6666666666666666,
                            "#ed7953"
                          ],
                          [
                            0.7777777777777778,
                            "#fb9f3a"
                          ],
                          [
                            0.8888888888888888,
                            "#fdca26"
                          ],
                          [
                            1,
                            "#f0f921"
                          ]
                        ],
                        "type": "histogram2dcontour"
                      }
                    ],
                    "mesh3d": [
                      {
                        "colorbar": {
                          "outlinewidth": 0,
                          "ticks": ""
                        },
                        "type": "mesh3d"
                      }
                    ],
                    "parcoords": [
                      {
                        "line": {
                          "colorbar": {
                            "outlinewidth": 0,
                            "ticks": ""
                          }
                        },
                        "type": "parcoords"
                      }
                    ],
                    "pie": [
                      {
                        "automargin": true,
                        "type": "pie"
                      }
                    ],
                    "scatter": [
                      {
                        "fillpattern": {
                          "fillmode": "overlay",
                          "size": 10,
                          "solidity": 0.2
                        },
                        "type": "scatter"
                      }
                    ],
                    "scatter3d": [
                      {
                        "line": {
                          "colorbar": {
                            "outlinewidth": 0,
                            "ticks": ""
                          }
                        },
                        "marker": {
                          "colorbar": {
                            "outlinewidth": 0,
                            "ticks": ""
                          }
                        },
                        "type": "scatter3d"
                      }
                    ],
                    "scattercarpet": [
                      {
                        "marker": {
                          "colorbar": {
                            "outlinewidth": 0,
                            "ticks": ""
                          }
                        },
                        "type": "scattercarpet"
                      }
                    ],
                    "scattergeo": [
                      {
                        "marker": {
                          "colorbar": {
                            "outlinewidth": 0,
                            "ticks": ""
                          }
                        },
                        "type": "scattergeo"
                      }
                    ],
                    "scattergl": [
                      {
                        "marker": {
                          "colorbar": {
                            "outlinewidth": 0,
                            "ticks": ""
                          }
                        },
                        "type": "scattergl"
                      }
                    ],
                    "scattermapbox": [
                      {
                        "marker": {
                          "colorbar": {
                            "outlinewidth": 0,
                            "ticks": ""
                          }
                        },
                        "type": "scattermapbox"
                      }
                    ],
                    "scatterpolar": [
                      {
                        "marker": {
                          "colorbar": {
                            "outlinewidth": 0,
                            "ticks": ""
                          }
                        },
                        "type": "scatterpolar"
                      }
                    ],
                    "scatterpolargl": [
                      {
                        "marker": {
                          "colorbar": {
                            "outlinewidth": 0,
                            "ticks": ""
                          }
                        },
                        "type": "scatterpolargl"
                      }
                    ],
                    "scatterternary": [
                      {
                        "marker": {
                          "colorbar": {
                            "outlinewidth": 0,
                            "ticks": ""
                          }
                        },
                        "type": "scatterternary"
                      }
                    ],
                    "surface": [
                      {
                        "colorbar": {
                          "outlinewidth": 0,
                          "ticks": ""
                        },
                        "colorscale": [
                          [
                            0,
                            "#0d0887"
                          ],
                          [
                            0.1111111111111111,
                            "#46039f"
                          ],
                          [
                            0.2222222222222222,
                            "#7201a8"
                          ],
                          [
                            0.3333333333333333,
                            "#9c179e"
                          ],
                          [
                            0.4444444444444444,
                            "#bd3786"
                          ],
                          [
                            0.5555555555555556,
                            "#d8576b"
                          ],
                          [
                            0.6666666666666666,
                            "#ed7953"
                          ],
                          [
                            0.7777777777777778,
                            "#fb9f3a"
                          ],
                          [
                            0.8888888888888888,
                            "#fdca26"
                          ],
                          [
                            1,
                            "#f0f921"
                          ]
                        ],
                        "type": "surface"
                      }
                    ],
                    "table": [
                      {
                        "cells": {
                          "fill": {
                            "color": "#EBF0F8"
                          },
                          "line": {
                            "color": "white"
                          }
                        },
                        "header": {
                          "fill": {
                            "color": "#C8D4E3"
                          },
                          "line": {
                            "color": "white"
                          }
                        },
                        "type": "table"
                      }
                    ]
                  },
                  "layout": {
                    "annotationdefaults": {
                      "arrowcolor": "#2a3f5f",
                      "arrowhead": 0,
                      "arrowwidth": 1
                    },
                    "autotypenumbers": "strict",
                    "coloraxis": {
                      "colorbar": {
                        "outlinewidth": 0,
                        "ticks": ""
                      }
                    },
                    "colorscale": {
                      "diverging": [
                        [
                          0,
                          "#8e0152"
                        ],
                        [
                          0.1,
                          "#c51b7d"
                        ],
                        [
                          0.2,
                          "#de77ae"
                        ],
                        [
                          0.3,
                          "#f1b6da"
                        ],
                        [
                          0.4,
                          "#fde0ef"
                        ],
                        [
                          0.5,
                          "#f7f7f7"
                        ],
                        [
                          0.6,
                          "#e6f5d0"
                        ],
                        [
                          0.7,
                          "#b8e186"
                        ],
                        [
                          0.8,
                          "#7fbc41"
                        ],
                        [
                          0.9,
                          "#4d9221"
                        ],
                        [
                          1,
                          "#276419"
                        ]
                      ],
                      "sequential": [
                        [
                          0,
                          "#0d0887"
                        ],
                        [
                          0.1111111111111111,
                          "#46039f"
                        ],
                        [
                          0.2222222222222222,
                          "#7201a8"
                        ],
                        [
                          0.3333333333333333,
                          "#9c179e"
                        ],
                        [
                          0.4444444444444444,
                          "#bd3786"
                        ],
                        [
                          0.5555555555555556,
                          "#d8576b"
                        ],
                        [
                          0.6666666666666666,
                          "#ed7953"
                        ],
                        [
                          0.7777777777777778,
                          "#fb9f3a"
                        ],
                        [
                          0.8888888888888888,
                          "#fdca26"
                        ],
                        [
                          1,
                          "#f0f921"
                        ]
                      ],
                      "sequentialminus": [
                        [
                          0,
                          "#0d0887"
                        ],
                        [
                          0.1111111111111111,
                          "#46039f"
                        ],
                        [
                          0.2222222222222222,
                          "#7201a8"
                        ],
                        [
                          0.3333333333333333,
                          "#9c179e"
                        ],
                        [
                          0.4444444444444444,
                          "#bd3786"
                        ],
                        [
                          0.5555555555555556,
                          "#d8576b"
                        ],
                        [
                          0.6666666666666666,
                          "#ed7953"
                        ],
                        [
                          0.7777777777777778,
                          "#fb9f3a"
                        ],
                        [
                          0.8888888888888888,
                          "#fdca26"
                        ],
                        [
                          1,
                          "#f0f921"
                        ]
                      ]
                    },
                    "colorway": [
                      "#636efa",
                      "#EF553B",
                      "#00cc96",
                      "#ab63fa",
                      "#FFA15A",
                      "#19d3f3",
                      "#FF6692",
                      "#B6E880",
                      "#FF97FF",
                      "#FECB52"
                    ],
                    "font": {
                      "color": "#2a3f5f"
                    },
                    "geo": {
                      "bgcolor": "white",
                      "lakecolor": "white",
                      "landcolor": "#E5ECF6",
                      "showlakes": true,
                      "showland": true,
                      "subunitcolor": "white"
                    },
                    "hoverlabel": {
                      "align": "left"
                    },
                    "hovermode": "closest",
                    "mapbox": {
                      "style": "light"
                    },
                    "paper_bgcolor": "white",
                    "plot_bgcolor": "#E5ECF6",
                    "polar": {
                      "angularaxis": {
                        "gridcolor": "white",
                        "linecolor": "white",
                        "ticks": ""
                      },
                      "bgcolor": "#E5ECF6",
                      "radialaxis": {
                        "gridcolor": "white",
                        "linecolor": "white",
                        "ticks": ""
                      }
                    },
                    "scene": {
                      "xaxis": {
                        "backgroundcolor": "#E5ECF6",
                        "gridcolor": "white",
                        "gridwidth": 2,
                        "linecolor": "white",
                        "showbackground": true,
                        "ticks": "",
                        "zerolinecolor": "white"
                      },
                      "yaxis": {
                        "backgroundcolor": "#E5ECF6",
                        "gridcolor": "white",
                        "gridwidth": 2,
                        "linecolor": "white",
                        "showbackground": true,
                        "ticks": "",
                        "zerolinecolor": "white"
                      },
                      "zaxis": {
                        "backgroundcolor": "#E5ECF6",
                        "gridcolor": "white",
                        "gridwidth": 2,
                        "linecolor": "white",
                        "showbackground": true,
                        "ticks": "",
                        "zerolinecolor": "white"
                      }
                    },
                    "shapedefaults": {
                      "line": {
                        "color": "#2a3f5f"
                      }
                    },
                    "ternary": {
                      "aaxis": {
                        "gridcolor": "white",
                        "linecolor": "white",
                        "ticks": ""
                      },
                      "baxis": {
                        "gridcolor": "white",
                        "linecolor": "white",
                        "ticks": ""
                      },
                      "bgcolor": "#E5ECF6",
                      "caxis": {
                        "gridcolor": "white",
                        "linecolor": "white",
                        "ticks": ""
                      }
                    },
                    "title": {
                      "x": 0.05
                    },
                    "xaxis": {
                      "automargin": true,
                      "gridcolor": "white",
                      "linecolor": "white",
                      "ticks": "",
                      "title": {
                        "standoff": 15
                      },
                      "zerolinecolor": "white",
                      "zerolinewidth": 2
                    },
                    "yaxis": {
                      "automargin": true,
                      "gridcolor": "white",
                      "linecolor": "white",
                      "ticks": "",
                      "title": {
                        "standoff": 15
                      },
                      "zerolinecolor": "white",
                      "zerolinewidth": 2
                    }
                  }
                },
                "title": {
                  "text": "Production vs. Brittleness (Colored by Porosity)"
                },
                "xaxis": {
                  "anchor": "y",
                  "domain": [
                    0,
                    1
                  ],
                  "title": {
                    "text": "Brittleness (%)"
                  }
                },
                "yaxis": {
                  "anchor": "x",
                  "domain": [
                    0,
                    1
                  ],
                  "title": {
                    "text": "Production"
                  }
                }
              }
            }
          },
          "metadata": {},
          "output_type": "display_data"
        }
      ],
      "source": [
        "# Plot 4: Production vs. Brittleness scatter plot with color representing Porosity\n",
        "fig4 = px.scatter(data, x='Brittle', y='Prod', color='Por',\n",
        "                  title='Production vs. Brittleness (Colored by Porosity)',\n",
        "                  labels={'Brittle': 'Brittleness (%)', 'Prod': 'Production', 'Por': 'Porosity (%)'})\n",
        "fig4.show()"
      ]
    },
    {
      "cell_type": "markdown",
      "id": "d11cb44f",
      "metadata": {
        "id": "d11cb44f"
      },
      "source": [
        "### Задание 5.1. (2 балла)\n",
        "\n",
        "Постройте корреляционную матрицу факторов, включив в неё целевой признак. \n",
        "\n",
        "Для наглядности визуализируйте полученную матрицу с помощью тепловой карты. \n",
        "\n",
        "**Примечание.** *Для визуализации вы можете использовать любую из знакомых вам библиотек.*\n",
        "\n",
        "На основе построенной корреляционной матрицы ответьте на следующий вопрос:\n",
        "\n",
        "* Какие факторы сильнее всего коррелируют с целевой переменной?\n",
        "\n",
        "Вычислите ранг и определитель полученной матрицы корреляций и приведите развёрнутые ответы на следующие вопросы:\n",
        "* Является ли корреляционная матрица плохо обусловенной (близок ли её опредитель к нулю)?\n",
        "* Что вы можете сказать о наличии коллинераности/мультиколлинеарности в данных? \n",
        "* Применима ли в данном случае модель классической линейной регрессии по методу наименьших квадратов и почему? "
      ]
    },
    {
      "cell_type": "markdown",
      "id": "57OjUl5e2oiL",
      "metadata": {
        "id": "57OjUl5e2oiL"
      },
      "source": [
        "**Критерии оценивания:**\n",
        "- Задание выполнено верно, учтены все условия (**2 балла**): \n",
        "    * приведён код для расчёта корреляционной матрицы;\n",
        "    * приведён код для визуализации корреляционной матрицы в виде тепловой карты;\n",
        "    * рассчитаны ранг и определитель корреляционной матрицы;\n",
        "    * предоставлены обоснованные ответы на все поставленные вопросы. \n",
        "\n",
        "- Задание выполнено верно, но не учтено одно условие (**1 балл**).\n",
        "- Задание выполнено неверно, не учтено несколько условий (**0 баллов**)."
      ]
    },
    {
      "cell_type": "code",
      "execution_count": 81,
      "id": "af00a5a0",
      "metadata": {
        "id": "af00a5a0"
      },
      "outputs": [
        {
          "data": {
            "application/vnd.plotly.v1+json": {
              "config": {
                "plotlyServerURL": "https://plot.ly"
              },
              "data": [
                {
                  "coloraxis": "coloraxis",
                  "hovertemplate": "Variables: %{x}<br>Variables: %{y}<br>Correlation: %{z}<extra></extra>",
                  "name": "0",
                  "type": "heatmap",
                  "x": [
                    "Well",
                    "Por",
                    "Perm",
                    "AI",
                    "Brittle",
                    "TOC",
                    "VR",
                    "Prod"
                  ],
                  "xaxis": "x",
                  "y": [
                    "Well",
                    "Por",
                    "Perm",
                    "AI",
                    "Brittle",
                    "TOC",
                    "VR",
                    "Prod"
                  ],
                  "yaxis": "y",
                  "z": [
                    [
                      1,
                      0.06892650716930901,
                      0.07792780891929287,
                      0.0414826184736394,
                      -0.07925236389007448,
                      0.02262431043795967,
                      -0.007278678268113257,
                      0.02681677681635363
                    ],
                    [
                      0.06892650716930901,
                      1,
                      0.7605459242862604,
                      -0.46154937413830877,
                      -0.21857029663949573,
                      0.711830675811692,
                      0.11185977924568775,
                      0.8619095390498694
                    ],
                    [
                      0.07792780891929287,
                      0.7605459242862604,
                      1,
                      -0.23963581449371357,
                      -0.12401730308963654,
                      0.47174631684108187,
                      0.05102320050943359,
                      0.7274261409379987
                    ],
                    [
                      0.0414826184736394,
                      -0.46154937413830877,
                      -0.23963581449371357,
                      1,
                      0.12759943181044803,
                      -0.5318635967128339,
                      0.49914264873911235,
                      -0.39083476681722235
                    ],
                    [
                      -0.07925236389007448,
                      -0.21857029663949573,
                      -0.12401730308963654,
                      0.12759943181044803,
                      1,
                      -0.2142817704313906,
                      0.31792865708154255,
                      0.23715533470634578
                    ],
                    [
                      0.02262431043795967,
                      0.711830675811692,
                      0.47174631684108187,
                      -0.5318635967128339,
                      -0.2142817704313906,
                      1,
                      0.2994828662620069,
                      0.6544451995719838
                    ],
                    [
                      -0.007278678268113257,
                      0.11185977924568775,
                      0.05102320050943359,
                      0.49914264873911235,
                      0.31792865708154255,
                      0.2994828662620069,
                      1,
                      0.3231815474813122
                    ],
                    [
                      0.02681677681635363,
                      0.8619095390498694,
                      0.7274261409379987,
                      -0.39083476681722235,
                      0.23715533470634578,
                      0.6544451995719838,
                      0.3231815474813122,
                      1
                    ]
                  ]
                }
              ],
              "layout": {
                "coloraxis": {
                  "colorbar": {
                    "title": {
                      "text": "Correlation"
                    }
                  },
                  "colorscale": [
                    [
                      0,
                      "#440154"
                    ],
                    [
                      0.1111111111111111,
                      "#482878"
                    ],
                    [
                      0.2222222222222222,
                      "#3e4989"
                    ],
                    [
                      0.3333333333333333,
                      "#31688e"
                    ],
                    [
                      0.4444444444444444,
                      "#26828e"
                    ],
                    [
                      0.5555555555555556,
                      "#1f9e89"
                    ],
                    [
                      0.6666666666666666,
                      "#35b779"
                    ],
                    [
                      0.7777777777777778,
                      "#6ece58"
                    ],
                    [
                      0.8888888888888888,
                      "#b5de2b"
                    ],
                    [
                      1,
                      "#fde725"
                    ]
                  ]
                },
                "margin": {
                  "t": 60
                },
                "template": {
                  "data": {
                    "bar": [
                      {
                        "error_x": {
                          "color": "#2a3f5f"
                        },
                        "error_y": {
                          "color": "#2a3f5f"
                        },
                        "marker": {
                          "line": {
                            "color": "#E5ECF6",
                            "width": 0.5
                          },
                          "pattern": {
                            "fillmode": "overlay",
                            "size": 10,
                            "solidity": 0.2
                          }
                        },
                        "type": "bar"
                      }
                    ],
                    "barpolar": [
                      {
                        "marker": {
                          "line": {
                            "color": "#E5ECF6",
                            "width": 0.5
                          },
                          "pattern": {
                            "fillmode": "overlay",
                            "size": 10,
                            "solidity": 0.2
                          }
                        },
                        "type": "barpolar"
                      }
                    ],
                    "carpet": [
                      {
                        "aaxis": {
                          "endlinecolor": "#2a3f5f",
                          "gridcolor": "white",
                          "linecolor": "white",
                          "minorgridcolor": "white",
                          "startlinecolor": "#2a3f5f"
                        },
                        "baxis": {
                          "endlinecolor": "#2a3f5f",
                          "gridcolor": "white",
                          "linecolor": "white",
                          "minorgridcolor": "white",
                          "startlinecolor": "#2a3f5f"
                        },
                        "type": "carpet"
                      }
                    ],
                    "choropleth": [
                      {
                        "colorbar": {
                          "outlinewidth": 0,
                          "ticks": ""
                        },
                        "type": "choropleth"
                      }
                    ],
                    "contour": [
                      {
                        "colorbar": {
                          "outlinewidth": 0,
                          "ticks": ""
                        },
                        "colorscale": [
                          [
                            0,
                            "#0d0887"
                          ],
                          [
                            0.1111111111111111,
                            "#46039f"
                          ],
                          [
                            0.2222222222222222,
                            "#7201a8"
                          ],
                          [
                            0.3333333333333333,
                            "#9c179e"
                          ],
                          [
                            0.4444444444444444,
                            "#bd3786"
                          ],
                          [
                            0.5555555555555556,
                            "#d8576b"
                          ],
                          [
                            0.6666666666666666,
                            "#ed7953"
                          ],
                          [
                            0.7777777777777778,
                            "#fb9f3a"
                          ],
                          [
                            0.8888888888888888,
                            "#fdca26"
                          ],
                          [
                            1,
                            "#f0f921"
                          ]
                        ],
                        "type": "contour"
                      }
                    ],
                    "contourcarpet": [
                      {
                        "colorbar": {
                          "outlinewidth": 0,
                          "ticks": ""
                        },
                        "type": "contourcarpet"
                      }
                    ],
                    "heatmap": [
                      {
                        "colorbar": {
                          "outlinewidth": 0,
                          "ticks": ""
                        },
                        "colorscale": [
                          [
                            0,
                            "#0d0887"
                          ],
                          [
                            0.1111111111111111,
                            "#46039f"
                          ],
                          [
                            0.2222222222222222,
                            "#7201a8"
                          ],
                          [
                            0.3333333333333333,
                            "#9c179e"
                          ],
                          [
                            0.4444444444444444,
                            "#bd3786"
                          ],
                          [
                            0.5555555555555556,
                            "#d8576b"
                          ],
                          [
                            0.6666666666666666,
                            "#ed7953"
                          ],
                          [
                            0.7777777777777778,
                            "#fb9f3a"
                          ],
                          [
                            0.8888888888888888,
                            "#fdca26"
                          ],
                          [
                            1,
                            "#f0f921"
                          ]
                        ],
                        "type": "heatmap"
                      }
                    ],
                    "heatmapgl": [
                      {
                        "colorbar": {
                          "outlinewidth": 0,
                          "ticks": ""
                        },
                        "colorscale": [
                          [
                            0,
                            "#0d0887"
                          ],
                          [
                            0.1111111111111111,
                            "#46039f"
                          ],
                          [
                            0.2222222222222222,
                            "#7201a8"
                          ],
                          [
                            0.3333333333333333,
                            "#9c179e"
                          ],
                          [
                            0.4444444444444444,
                            "#bd3786"
                          ],
                          [
                            0.5555555555555556,
                            "#d8576b"
                          ],
                          [
                            0.6666666666666666,
                            "#ed7953"
                          ],
                          [
                            0.7777777777777778,
                            "#fb9f3a"
                          ],
                          [
                            0.8888888888888888,
                            "#fdca26"
                          ],
                          [
                            1,
                            "#f0f921"
                          ]
                        ],
                        "type": "heatmapgl"
                      }
                    ],
                    "histogram": [
                      {
                        "marker": {
                          "pattern": {
                            "fillmode": "overlay",
                            "size": 10,
                            "solidity": 0.2
                          }
                        },
                        "type": "histogram"
                      }
                    ],
                    "histogram2d": [
                      {
                        "colorbar": {
                          "outlinewidth": 0,
                          "ticks": ""
                        },
                        "colorscale": [
                          [
                            0,
                            "#0d0887"
                          ],
                          [
                            0.1111111111111111,
                            "#46039f"
                          ],
                          [
                            0.2222222222222222,
                            "#7201a8"
                          ],
                          [
                            0.3333333333333333,
                            "#9c179e"
                          ],
                          [
                            0.4444444444444444,
                            "#bd3786"
                          ],
                          [
                            0.5555555555555556,
                            "#d8576b"
                          ],
                          [
                            0.6666666666666666,
                            "#ed7953"
                          ],
                          [
                            0.7777777777777778,
                            "#fb9f3a"
                          ],
                          [
                            0.8888888888888888,
                            "#fdca26"
                          ],
                          [
                            1,
                            "#f0f921"
                          ]
                        ],
                        "type": "histogram2d"
                      }
                    ],
                    "histogram2dcontour": [
                      {
                        "colorbar": {
                          "outlinewidth": 0,
                          "ticks": ""
                        },
                        "colorscale": [
                          [
                            0,
                            "#0d0887"
                          ],
                          [
                            0.1111111111111111,
                            "#46039f"
                          ],
                          [
                            0.2222222222222222,
                            "#7201a8"
                          ],
                          [
                            0.3333333333333333,
                            "#9c179e"
                          ],
                          [
                            0.4444444444444444,
                            "#bd3786"
                          ],
                          [
                            0.5555555555555556,
                            "#d8576b"
                          ],
                          [
                            0.6666666666666666,
                            "#ed7953"
                          ],
                          [
                            0.7777777777777778,
                            "#fb9f3a"
                          ],
                          [
                            0.8888888888888888,
                            "#fdca26"
                          ],
                          [
                            1,
                            "#f0f921"
                          ]
                        ],
                        "type": "histogram2dcontour"
                      }
                    ],
                    "mesh3d": [
                      {
                        "colorbar": {
                          "outlinewidth": 0,
                          "ticks": ""
                        },
                        "type": "mesh3d"
                      }
                    ],
                    "parcoords": [
                      {
                        "line": {
                          "colorbar": {
                            "outlinewidth": 0,
                            "ticks": ""
                          }
                        },
                        "type": "parcoords"
                      }
                    ],
                    "pie": [
                      {
                        "automargin": true,
                        "type": "pie"
                      }
                    ],
                    "scatter": [
                      {
                        "fillpattern": {
                          "fillmode": "overlay",
                          "size": 10,
                          "solidity": 0.2
                        },
                        "type": "scatter"
                      }
                    ],
                    "scatter3d": [
                      {
                        "line": {
                          "colorbar": {
                            "outlinewidth": 0,
                            "ticks": ""
                          }
                        },
                        "marker": {
                          "colorbar": {
                            "outlinewidth": 0,
                            "ticks": ""
                          }
                        },
                        "type": "scatter3d"
                      }
                    ],
                    "scattercarpet": [
                      {
                        "marker": {
                          "colorbar": {
                            "outlinewidth": 0,
                            "ticks": ""
                          }
                        },
                        "type": "scattercarpet"
                      }
                    ],
                    "scattergeo": [
                      {
                        "marker": {
                          "colorbar": {
                            "outlinewidth": 0,
                            "ticks": ""
                          }
                        },
                        "type": "scattergeo"
                      }
                    ],
                    "scattergl": [
                      {
                        "marker": {
                          "colorbar": {
                            "outlinewidth": 0,
                            "ticks": ""
                          }
                        },
                        "type": "scattergl"
                      }
                    ],
                    "scattermapbox": [
                      {
                        "marker": {
                          "colorbar": {
                            "outlinewidth": 0,
                            "ticks": ""
                          }
                        },
                        "type": "scattermapbox"
                      }
                    ],
                    "scatterpolar": [
                      {
                        "marker": {
                          "colorbar": {
                            "outlinewidth": 0,
                            "ticks": ""
                          }
                        },
                        "type": "scatterpolar"
                      }
                    ],
                    "scatterpolargl": [
                      {
                        "marker": {
                          "colorbar": {
                            "outlinewidth": 0,
                            "ticks": ""
                          }
                        },
                        "type": "scatterpolargl"
                      }
                    ],
                    "scatterternary": [
                      {
                        "marker": {
                          "colorbar": {
                            "outlinewidth": 0,
                            "ticks": ""
                          }
                        },
                        "type": "scatterternary"
                      }
                    ],
                    "surface": [
                      {
                        "colorbar": {
                          "outlinewidth": 0,
                          "ticks": ""
                        },
                        "colorscale": [
                          [
                            0,
                            "#0d0887"
                          ],
                          [
                            0.1111111111111111,
                            "#46039f"
                          ],
                          [
                            0.2222222222222222,
                            "#7201a8"
                          ],
                          [
                            0.3333333333333333,
                            "#9c179e"
                          ],
                          [
                            0.4444444444444444,
                            "#bd3786"
                          ],
                          [
                            0.5555555555555556,
                            "#d8576b"
                          ],
                          [
                            0.6666666666666666,
                            "#ed7953"
                          ],
                          [
                            0.7777777777777778,
                            "#fb9f3a"
                          ],
                          [
                            0.8888888888888888,
                            "#fdca26"
                          ],
                          [
                            1,
                            "#f0f921"
                          ]
                        ],
                        "type": "surface"
                      }
                    ],
                    "table": [
                      {
                        "cells": {
                          "fill": {
                            "color": "#EBF0F8"
                          },
                          "line": {
                            "color": "white"
                          }
                        },
                        "header": {
                          "fill": {
                            "color": "#C8D4E3"
                          },
                          "line": {
                            "color": "white"
                          }
                        },
                        "type": "table"
                      }
                    ]
                  },
                  "layout": {
                    "annotationdefaults": {
                      "arrowcolor": "#2a3f5f",
                      "arrowhead": 0,
                      "arrowwidth": 1
                    },
                    "autotypenumbers": "strict",
                    "coloraxis": {
                      "colorbar": {
                        "outlinewidth": 0,
                        "ticks": ""
                      }
                    },
                    "colorscale": {
                      "diverging": [
                        [
                          0,
                          "#8e0152"
                        ],
                        [
                          0.1,
                          "#c51b7d"
                        ],
                        [
                          0.2,
                          "#de77ae"
                        ],
                        [
                          0.3,
                          "#f1b6da"
                        ],
                        [
                          0.4,
                          "#fde0ef"
                        ],
                        [
                          0.5,
                          "#f7f7f7"
                        ],
                        [
                          0.6,
                          "#e6f5d0"
                        ],
                        [
                          0.7,
                          "#b8e186"
                        ],
                        [
                          0.8,
                          "#7fbc41"
                        ],
                        [
                          0.9,
                          "#4d9221"
                        ],
                        [
                          1,
                          "#276419"
                        ]
                      ],
                      "sequential": [
                        [
                          0,
                          "#0d0887"
                        ],
                        [
                          0.1111111111111111,
                          "#46039f"
                        ],
                        [
                          0.2222222222222222,
                          "#7201a8"
                        ],
                        [
                          0.3333333333333333,
                          "#9c179e"
                        ],
                        [
                          0.4444444444444444,
                          "#bd3786"
                        ],
                        [
                          0.5555555555555556,
                          "#d8576b"
                        ],
                        [
                          0.6666666666666666,
                          "#ed7953"
                        ],
                        [
                          0.7777777777777778,
                          "#fb9f3a"
                        ],
                        [
                          0.8888888888888888,
                          "#fdca26"
                        ],
                        [
                          1,
                          "#f0f921"
                        ]
                      ],
                      "sequentialminus": [
                        [
                          0,
                          "#0d0887"
                        ],
                        [
                          0.1111111111111111,
                          "#46039f"
                        ],
                        [
                          0.2222222222222222,
                          "#7201a8"
                        ],
                        [
                          0.3333333333333333,
                          "#9c179e"
                        ],
                        [
                          0.4444444444444444,
                          "#bd3786"
                        ],
                        [
                          0.5555555555555556,
                          "#d8576b"
                        ],
                        [
                          0.6666666666666666,
                          "#ed7953"
                        ],
                        [
                          0.7777777777777778,
                          "#fb9f3a"
                        ],
                        [
                          0.8888888888888888,
                          "#fdca26"
                        ],
                        [
                          1,
                          "#f0f921"
                        ]
                      ]
                    },
                    "colorway": [
                      "#636efa",
                      "#EF553B",
                      "#00cc96",
                      "#ab63fa",
                      "#FFA15A",
                      "#19d3f3",
                      "#FF6692",
                      "#B6E880",
                      "#FF97FF",
                      "#FECB52"
                    ],
                    "font": {
                      "color": "#2a3f5f"
                    },
                    "geo": {
                      "bgcolor": "white",
                      "lakecolor": "white",
                      "landcolor": "#E5ECF6",
                      "showlakes": true,
                      "showland": true,
                      "subunitcolor": "white"
                    },
                    "hoverlabel": {
                      "align": "left"
                    },
                    "hovermode": "closest",
                    "mapbox": {
                      "style": "light"
                    },
                    "paper_bgcolor": "white",
                    "plot_bgcolor": "#E5ECF6",
                    "polar": {
                      "angularaxis": {
                        "gridcolor": "white",
                        "linecolor": "white",
                        "ticks": ""
                      },
                      "bgcolor": "#E5ECF6",
                      "radialaxis": {
                        "gridcolor": "white",
                        "linecolor": "white",
                        "ticks": ""
                      }
                    },
                    "scene": {
                      "xaxis": {
                        "backgroundcolor": "#E5ECF6",
                        "gridcolor": "white",
                        "gridwidth": 2,
                        "linecolor": "white",
                        "showbackground": true,
                        "ticks": "",
                        "zerolinecolor": "white"
                      },
                      "yaxis": {
                        "backgroundcolor": "#E5ECF6",
                        "gridcolor": "white",
                        "gridwidth": 2,
                        "linecolor": "white",
                        "showbackground": true,
                        "ticks": "",
                        "zerolinecolor": "white"
                      },
                      "zaxis": {
                        "backgroundcolor": "#E5ECF6",
                        "gridcolor": "white",
                        "gridwidth": 2,
                        "linecolor": "white",
                        "showbackground": true,
                        "ticks": "",
                        "zerolinecolor": "white"
                      }
                    },
                    "shapedefaults": {
                      "line": {
                        "color": "#2a3f5f"
                      }
                    },
                    "ternary": {
                      "aaxis": {
                        "gridcolor": "white",
                        "linecolor": "white",
                        "ticks": ""
                      },
                      "baxis": {
                        "gridcolor": "white",
                        "linecolor": "white",
                        "ticks": ""
                      },
                      "bgcolor": "#E5ECF6",
                      "caxis": {
                        "gridcolor": "white",
                        "linecolor": "white",
                        "ticks": ""
                      }
                    },
                    "title": {
                      "x": 0.05
                    },
                    "xaxis": {
                      "automargin": true,
                      "gridcolor": "white",
                      "linecolor": "white",
                      "ticks": "",
                      "title": {
                        "standoff": 15
                      },
                      "zerolinecolor": "white",
                      "zerolinewidth": 2
                    },
                    "yaxis": {
                      "automargin": true,
                      "gridcolor": "white",
                      "linecolor": "white",
                      "ticks": "",
                      "title": {
                        "standoff": 15
                      },
                      "zerolinecolor": "white",
                      "zerolinewidth": 2
                    }
                  }
                },
                "title": {
                  "text": "Correlation Matrix Heat Map"
                },
                "xaxis": {
                  "anchor": "y",
                  "domain": [
                    0,
                    1
                  ],
                  "title": {
                    "text": "Variables"
                  }
                },
                "yaxis": {
                  "anchor": "x",
                  "autorange": "reversed",
                  "domain": [
                    0,
                    1
                  ],
                  "title": {
                    "text": "Variables"
                  }
                }
              }
            }
          },
          "metadata": {},
          "output_type": "display_data"
        }
      ],
      "source": [
        "# Calculate correlation matrix including all columns\n",
        "corr_matrix = data.corr()\n",
        "\n",
        "# Create heat map using Plotly Express with 'Viridis' color scale\n",
        "fig = px.imshow(\n",
        "    corr_matrix,\n",
        "    aspect=\"auto\",\n",
        "    color_continuous_scale='Viridis',\n",
        "    labels=dict(x=\"Variables\", y=\"Variables\", color=\"Correlation\")\n",
        ")\n",
        "\n",
        "fig.update_layout(title='Correlation Matrix Heat Map')\n",
        "fig.show()"
      ]
    },
    {
      "cell_type": "code",
      "execution_count": 82,
      "id": "63b78155",
      "metadata": {},
      "outputs": [
        {
          "data": {
            "text/html": [
              "<div>\n",
              "<style scoped>\n",
              "    .dataframe tbody tr th:only-of-type {\n",
              "        vertical-align: middle;\n",
              "    }\n",
              "\n",
              "    .dataframe tbody tr th {\n",
              "        vertical-align: top;\n",
              "    }\n",
              "\n",
              "    .dataframe thead th {\n",
              "        text-align: right;\n",
              "    }\n",
              "</style>\n",
              "<table border=\"1\" class=\"dataframe\">\n",
              "  <thead>\n",
              "    <tr style=\"text-align: right;\">\n",
              "      <th></th>\n",
              "      <th>Well</th>\n",
              "      <th>Por</th>\n",
              "      <th>Perm</th>\n",
              "      <th>AI</th>\n",
              "      <th>Brittle</th>\n",
              "      <th>TOC</th>\n",
              "      <th>VR</th>\n",
              "      <th>Prod</th>\n",
              "    </tr>\n",
              "  </thead>\n",
              "  <tbody>\n",
              "    <tr>\n",
              "      <th>Well</th>\n",
              "      <td>1.000000</td>\n",
              "      <td>0.068927</td>\n",
              "      <td>0.077928</td>\n",
              "      <td>0.041483</td>\n",
              "      <td>-0.079252</td>\n",
              "      <td>0.022624</td>\n",
              "      <td>-0.007279</td>\n",
              "      <td>0.026817</td>\n",
              "    </tr>\n",
              "    <tr>\n",
              "      <th>Por</th>\n",
              "      <td>0.068927</td>\n",
              "      <td>1.000000</td>\n",
              "      <td>0.760546</td>\n",
              "      <td>-0.461549</td>\n",
              "      <td>-0.218570</td>\n",
              "      <td>0.711831</td>\n",
              "      <td>0.111860</td>\n",
              "      <td>0.861910</td>\n",
              "    </tr>\n",
              "    <tr>\n",
              "      <th>Perm</th>\n",
              "      <td>0.077928</td>\n",
              "      <td>0.760546</td>\n",
              "      <td>1.000000</td>\n",
              "      <td>-0.239636</td>\n",
              "      <td>-0.124017</td>\n",
              "      <td>0.471746</td>\n",
              "      <td>0.051023</td>\n",
              "      <td>0.727426</td>\n",
              "    </tr>\n",
              "    <tr>\n",
              "      <th>AI</th>\n",
              "      <td>0.041483</td>\n",
              "      <td>-0.461549</td>\n",
              "      <td>-0.239636</td>\n",
              "      <td>1.000000</td>\n",
              "      <td>0.127599</td>\n",
              "      <td>-0.531864</td>\n",
              "      <td>0.499143</td>\n",
              "      <td>-0.390835</td>\n",
              "    </tr>\n",
              "    <tr>\n",
              "      <th>Brittle</th>\n",
              "      <td>-0.079252</td>\n",
              "      <td>-0.218570</td>\n",
              "      <td>-0.124017</td>\n",
              "      <td>0.127599</td>\n",
              "      <td>1.000000</td>\n",
              "      <td>-0.214282</td>\n",
              "      <td>0.317929</td>\n",
              "      <td>0.237155</td>\n",
              "    </tr>\n",
              "    <tr>\n",
              "      <th>TOC</th>\n",
              "      <td>0.022624</td>\n",
              "      <td>0.711831</td>\n",
              "      <td>0.471746</td>\n",
              "      <td>-0.531864</td>\n",
              "      <td>-0.214282</td>\n",
              "      <td>1.000000</td>\n",
              "      <td>0.299483</td>\n",
              "      <td>0.654445</td>\n",
              "    </tr>\n",
              "    <tr>\n",
              "      <th>VR</th>\n",
              "      <td>-0.007279</td>\n",
              "      <td>0.111860</td>\n",
              "      <td>0.051023</td>\n",
              "      <td>0.499143</td>\n",
              "      <td>0.317929</td>\n",
              "      <td>0.299483</td>\n",
              "      <td>1.000000</td>\n",
              "      <td>0.323182</td>\n",
              "    </tr>\n",
              "    <tr>\n",
              "      <th>Prod</th>\n",
              "      <td>0.026817</td>\n",
              "      <td>0.861910</td>\n",
              "      <td>0.727426</td>\n",
              "      <td>-0.390835</td>\n",
              "      <td>0.237155</td>\n",
              "      <td>0.654445</td>\n",
              "      <td>0.323182</td>\n",
              "      <td>1.000000</td>\n",
              "    </tr>\n",
              "  </tbody>\n",
              "</table>\n",
              "</div>"
            ],
            "text/plain": [
              "             Well       Por      Perm        AI   Brittle       TOC        VR  \\\n",
              "Well     1.000000  0.068927  0.077928  0.041483 -0.079252  0.022624 -0.007279   \n",
              "Por      0.068927  1.000000  0.760546 -0.461549 -0.218570  0.711831  0.111860   \n",
              "Perm     0.077928  0.760546  1.000000 -0.239636 -0.124017  0.471746  0.051023   \n",
              "AI       0.041483 -0.461549 -0.239636  1.000000  0.127599 -0.531864  0.499143   \n",
              "Brittle -0.079252 -0.218570 -0.124017  0.127599  1.000000 -0.214282  0.317929   \n",
              "TOC      0.022624  0.711831  0.471746 -0.531864 -0.214282  1.000000  0.299483   \n",
              "VR      -0.007279  0.111860  0.051023  0.499143  0.317929  0.299483  1.000000   \n",
              "Prod     0.026817  0.861910  0.727426 -0.390835  0.237155  0.654445  0.323182   \n",
              "\n",
              "             Prod  \n",
              "Well     0.026817  \n",
              "Por      0.861910  \n",
              "Perm     0.727426  \n",
              "AI      -0.390835  \n",
              "Brittle  0.237155  \n",
              "TOC      0.654445  \n",
              "VR       0.323182  \n",
              "Prod     1.000000  "
            ]
          },
          "execution_count": 82,
          "metadata": {},
          "output_type": "execute_result"
        }
      ],
      "source": [
        "corr_matrix"
      ]
    },
    {
      "cell_type": "code",
      "execution_count": 83,
      "id": "eefe86ae",
      "metadata": {},
      "outputs": [
        {
          "name": "stdout",
          "output_type": "stream",
          "text": [
            "Strongest correlations with target (Prod):\n",
            "Por     0.861910\n",
            "Perm    0.727426\n",
            "Name: Prod, dtype: float64\n",
            "\n",
            "Rank of the correlation matrix: 8\n",
            "Determinant of the correlation matrix: 0.0007299388072652018\n"
          ]
        }
      ],
      "source": [
        "# Determine factors that have the highest correlation with the target variable ('Prod')\n",
        "target_corr = corr_matrix['Prod'].drop('Prod')\n",
        "strongest_corr_factors = target_corr.abs().sort_values(ascending=False).head(2)\n",
        "\n",
        "# Calculate the rank and determinant of the correlation matrix\n",
        "matrix_rank = np.linalg.matrix_rank(corr_matrix)\n",
        "matrix_determinant = np.linalg.det(corr_matrix)\n",
        "\n",
        "print(\"Strongest correlations with target (Prod):\")\n",
        "print(strongest_corr_factors)\n",
        "print(\"\\nRank of the correlation matrix:\", matrix_rank)\n",
        "print(\"Determinant of the correlation matrix:\", matrix_determinant)"
      ]
    },
    {
      "cell_type": "code",
      "execution_count": 84,
      "id": "ca00f49a",
      "metadata": {},
      "outputs": [
        {
          "name": "stdout",
          "output_type": "stream",
          "text": [
            "\n",
            "Variance Inflation Factor (VIF) for each feature:\n",
            "   Feature       VIF\n",
            "0      Por  4.329838\n",
            "1     Perm  2.862487\n",
            "2       AI  7.660318\n",
            "3  Brittle  2.165476\n",
            "4      TOC  7.365773\n",
            "5       VR  7.057671\n",
            "No multicollinearity found\n"
          ]
        }
      ],
      "source": [
        "# Check for multicollinearity using Variance Inflation Factor (VIF)\n",
        "features = data.drop(columns=['Well', 'Prod']).select_dtypes(exclude=['object'])\n",
        "vif_data = pd.DataFrame()\n",
        "vif_data['Feature'] = features.columns\n",
        "vif_data['VIF'] = [sm.OLS(features[col], sm.add_constant(features.drop(columns=[col]))).fit().rsquared for col in features.columns]\n",
        "vif_data['VIF'] = 1 / (1 - vif_data['VIF'])\n",
        "\n",
        "print(\"\\nVariance Inflation Factor (VIF) for each feature:\")\n",
        "print(vif_data)\n",
        "\n",
        "# Identify features with high VIF values\n",
        "high_vif_features = vif_data[vif_data['VIF'] > 10]\n",
        "\n",
        "if high_vif_features.count().sum() > 0:\n",
        "    print(\"\\nFeatures with high multicollinearity (VIF > 5):\")\n",
        "    print(high_vif_features)\n",
        "else:\n",
        "    print('No multicollinearity found')"
      ]
    },
    {
      "cell_type": "markdown",
      "id": "9a56013d",
      "metadata": {
        "id": "9a56013d"
      },
      "source": [
        "Анализ корреляционной матрицы\n",
        "\n",
        "Факторы, сильнее всего коррелирующие с целевой переменной (Prod):\n",
        "- Por (Пористость): Корреляция = 0.8619\n",
        "- Perm (Проницаемость): Корреляция = 0.7274\n",
        "\n",
        "Ранг и определитель корреляционной матрицы:\n",
        "- Ранг матрицы: 8\n",
        "\n",
        "Определитель матрицы: 0.00075"
      ]
    },
    {
      "cell_type": "markdown",
      "id": "95b3c0f9",
      "metadata": {},
      "source": [
        "Ответы на вопросы:\n",
        "\n",
        "- Является ли корреляционная матрица плохо обусловленной?\n",
        "Определитель матрицы корреляций близок к нулю (0.00075), что указывает на то, что матрица плохо обусловлена. Это может свидетельствовать о наличии мультиколлинеарности в данных.\n",
        "\n",
        "- Наличие коллинеарности/мультиколлинеарности:\n",
        "Поскольку определитель очень мал, существует вероятность мультиколлинеарности среди факторов, что означает, что некоторые переменные линейно зависимы друг от друга.\n",
        "\n",
        "- Применимость модели классической линейной регрессии по методу наименьших квадратов:\n",
        "В этом случае применение классической линейной регрессии по методу наименьших квадратов может быть проблематичным из-за мультиколлинеарности. Мультиколлинеарность приводит к нестабильности коэффициентов модели, увеличивая их дисперсию, что делает результаты регрессии менее интерпретируемыми и надёжными. "
      ]
    },
    {
      "cell_type": "markdown",
      "id": "72cdc566",
      "metadata": {},
      "source": [
        "Porosity, Permeability, TOC, and Productivity are all strongly correlated.\n",
        "Regularization Methods: Techniques like Ridge Regression or Lasso can penalize large coefficients and reduce multicollinearity effects."
      ]
    },
    {
      "cell_type": "markdown",
      "id": "43fd91c4",
      "metadata": {
        "id": "43fd91c4"
      },
      "source": [
        "### Задание 5.2. (2 балла)\n",
        "\n",
        "Создайте матрицу наблюдений `X` и вектор правильных ответов `y`. В качестве факторов для матрицы наблюдений возьмите все имеющиеся в данных признаки. \n",
        "\n",
        "Постройте модель линейной регрессии по методу наименьших квадратов. Для этого воспользуйтесь матричной формулой МНК и инструментарием библиотеки numpy. \n",
        "\n",
        "Выведите на экран полученные оценки коэффициентов модели, округлённые до целого.\n",
        "\n",
        "Приведите подробные выводы по полученным результатам, ответив на следующие вопросы:\n",
        "* Есть ли в ваших данных признаки, которые, согласно модели, можно назвать неинформативными, то есть они не оказывают влияния на целевую переменную или оказывают шумовое влияние?\n",
        "* Приведите интерпретацию нескольких (двух или трёх) коэффициентов полученной модели линейной регрессии.\n"
      ]
    },
    {
      "cell_type": "markdown",
      "id": "QtNtTUzI4Cpq",
      "metadata": {
        "id": "QtNtTUzI4Cpq"
      },
      "source": [
        "**Критерии оценивания:**\n",
        "- Задание выполнено верно, учтены все условия (**2 балла**): \n",
        "    * приведён код для нахождения параметров модели линейной регрессии с помощью матричной формулы МНК;\n",
        "    * на основе полученных параметров даны верные ответы на поставленные вопросы;\n",
        "    * приведена корректная интерпретация нескольких коэффициентов полученной модели линейной регрессии.\n",
        "\n",
        "- Задание выполнено верно, но не учтено одно из условий (**1 балл**).\n",
        "- Задание выполнено неверно, не учтено несколько условий (**0 баллов**)."
      ]
    },
    {
      "cell_type": "code",
      "execution_count": 93,
      "id": "0fc3d4fd",
      "metadata": {},
      "outputs": [
        {
          "name": "stdout",
          "output_type": "stream",
          "text": [
            "(200, 8) (200,)\n"
          ]
        }
      ],
      "source": [
        "n_samples = data.shape[0]\n",
        "\n",
        "# Create an intercept term (column of ones)\n",
        "intercept = np.ones((n_samples, 1))\n",
        "\n",
        "# Drop the target variable 'Prod' and get the predictor variables\n",
        "X = data.drop('Prod', axis=1).values\n",
        "\n",
        "# Stack the intercept and predictor variables horizontally\n",
        "A = np.hstack((intercept, X))\n",
        "\n",
        "# Get the target variable as a numpy array\n",
        "y = data['Prod'].values\n",
        "\n",
        "# Print the shapes of A and y\n",
        "print(A.shape, y.shape)"
      ]
    },
    {
      "cell_type": "code",
      "execution_count": 94,
      "id": "7891ba0d",
      "metadata": {},
      "outputs": [
        {
          "name": "stdout",
          "output_type": "stream",
          "text": [
            "OLS Coefficients: [-1.23230803e+03  5.07003631e-02  2.30179140e+02  1.16239006e+02\n",
            " -3.65202301e+02  2.49943700e+01 -7.84009294e+01  7.85259815e+02]\n"
          ]
        }
      ],
      "source": [
        "# Compute OLS coefficients\n",
        "beta_hat = np.linalg.inv(A.T @ A) @ A.T @ y\n",
        "\n",
        "# Print the coefficients\n",
        "print(\"OLS Coefficients:\", beta_hat)"
      ]
    },
    {
      "cell_type": "markdown",
      "id": "bab9ee21",
      "metadata": {
        "id": "bab9ee21"
      },
      "source": [
        "> *Ваши выводы здесь*"
      ]
    },
    {
      "cell_type": "markdown",
      "id": "4a05a4ac",
      "metadata": {
        "id": "4a05a4ac"
      },
      "source": [
        "### Задание 5.3. (1 балл)\n",
        "\n",
        "Теперь потренируемся строить предсказание для наблюдений целевой переменной. \n",
        "\n",
        "**а)** Постройте прогноз выработки газа для скважины со следующими параметрами:\n",
        "\n",
        "```python\n",
        "{\n",
        "    'Well': 106.0,\n",
        "    'Por': 15.32,\n",
        "    'Perm': 3.71,\n",
        "    'AI': 3.29,\n",
        "    'Brittle': 55.99,\n",
        "    'TOC': 1.35,\n",
        "    'VR': 2.42\n",
        " }\n",
        "```\n",
        "\n",
        "Рассчитайте абсолютную ошибку построенного вами прогноза для предложенной скважины (в миллионах кубических футов в день), если известно, что на этой скважине производится `4748.315024` миллионов кубических футов газа в день. \n",
        "\n",
        "**б)** Постройте прогноз выработки газа для всех скважин из обучающего набора данных. Выберите метрику, по которой вы будете оценивать качество регрессионных моделей и сравнивать их между собой (можно использовать несколько метрик, но не более двух).\n",
        "\n",
        "Рассчитайте значение выбранной метрики для вашей модели. Приведите интерпретацию полученного результата. "
      ]
    },
    {
      "cell_type": "markdown",
      "id": "qUDcep5Q5GWU",
      "metadata": {
        "id": "qUDcep5Q5GWU"
      },
      "source": [
        "**Критерии оценивания:**\n",
        "- Задание выполнено верно, учтены все условия (**1 балл**): \n",
        "    * приведён код для построения прогноза выработки газа на указанной скважине и рассчитана абсолютная ошибка прогноза для этой скважины;\n",
        "    * выбрана корректная для поставленной задачи метрика (или метрики) оценки качества модели и приведён код для расчёта этой метрики на всём обучающем наборе данных;\n",
        "    * приведена корректная интерпретация полученного результата.\n",
        "\n",
        "- Задание выполнено верно, но не учтено одно из условий, или задание выполнено неверно (**0 баллов**)."
      ]
    },
    {
      "cell_type": "code",
      "execution_count": 95,
      "id": "8e7390bb",
      "metadata": {},
      "outputs": [],
      "source": [
        "dict_for_pred = {\n",
        "    'Well': 106.0,\n",
        "    'Por': 15.32,\n",
        "    'Perm': 3.71,\n",
        "    'AI': 3.29,\n",
        "    'Brittle': 55.99,\n",
        "    'TOC': 1.35,\n",
        "    'VR': 2.42}"
      ]
    },
    {
      "cell_type": "code",
      "execution_count": 98,
      "id": "e4291db0",
      "metadata": {
        "id": "e4291db0"
      },
      "outputs": [
        {
          "name": "stdout",
          "output_type": "stream",
          "text": [
            "Prediction: 4723.06405370719\n"
          ]
        }
      ],
      "source": [
        "# Ensure that the features are in the same order as in your training data\n",
        "features = data.drop('Prod', axis=1).columns\n",
        "\n",
        "# Extract the feature values from the dictionary in the correct order\n",
        "x_new = [dict_for_pred[feature] for feature in features]\n",
        "\n",
        "# Add the intercept term (1) at the beginning\n",
        "new = np.array([1] + x_new)\n",
        "\n",
        "# Assuming beta_hat is a NumPy array of coefficients including the intercept term\n",
        "# Compute the prediction\n",
        "prediction = new @ beta_hat\n",
        "\n",
        "print('Prediction:', prediction)"
      ]
    },
    {
      "cell_type": "markdown",
      "id": "c9bee4bc",
      "metadata": {
        "id": "c9bee4bc"
      },
      "source": [
        "> *Ваши выводы здесь*"
      ]
    },
    {
      "cell_type": "markdown",
      "id": "0c25c3aa",
      "metadata": {
        "id": "0c25c3aa"
      },
      "source": [
        "### Задание 5.4. (1 балл)\n",
        "\n",
        "Настало время анализа построенной модели. Посмотрите на коэффициенты и сравните их знаки со значениями выборочных корреляций между целевым признаком и факторами, которые вы нашли ранее.\n",
        "\n",
        "Дайте развёрнутые ответы на следующие вопросы:\n",
        "\n",
        "* Есть ли в вашей модели фактор, при котором коэффициент в модели линейной регрессии противоречит соответствующему коэффициенту корреляции? Например, корреляция говорит, что зависимость между фактором и целевой переменной прямая, а модель говорит обратное. Если таких факторов несколько, укажите их все.\n",
        "* Как вы считаете, с чем связано полученное противоречие результатов?"
      ]
    },
    {
      "cell_type": "markdown",
      "id": "ngJ3UdYb6Ll6",
      "metadata": {
        "id": "ngJ3UdYb6Ll6"
      },
      "source": [
        "**Критерии оценивания:**\n",
        "\n",
        "- Задание выполнено верно, даны корректные развёрнутые ответы на все поставленные в задании вопросы (**1 балл**). \n",
        "\n",
        "- Задание выполнено неверно, даны некорректные ответы на один или несколько поставленных в задании вопросов (**0 баллов**)."
      ]
    },
    {
      "cell_type": "code",
      "execution_count": 87,
      "id": "v-zIxRPY9wK7",
      "metadata": {
        "id": "v-zIxRPY9wK7"
      },
      "outputs": [],
      "source": [
        "# Ваш код здесь"
      ]
    },
    {
      "cell_type": "markdown",
      "id": "qeowwIp99yBf",
      "metadata": {
        "id": "qeowwIp99yBf"
      },
      "source": [
        "> *Ваши выводы здесь*"
      ]
    },
    {
      "cell_type": "markdown",
      "id": "9cea9195",
      "metadata": {
        "id": "9cea9195"
      },
      "source": [
        "### Задание 5.5. (2 балла)\n",
        "\n",
        "* Исключите из данных сильно коррелированные между собой факторы. Под сильной корреляцией в данной задаче будем понимать значения выше `0.7`.\n",
        "\n",
        "Выбирая, какой из коррелированных факторов оставить, руководствуйтесь коэффициентом корреляции с целевой переменной: оставляйте тот фактор, который больше всего коррелирует с целевой переменной (объёмом добычи газа).\n",
        "\n",
        "* Также исключите из данных факторы, для которых корреляция с целевой переменной меньше `0.05`.\n",
        "\n",
        "Постройте модель линейной регрессии на обновлённых после удаления факторов данных по методу наименьших квадратов. Для этого используйте матричную формулу и библиотеку numpy. Выведите значение полученных коэффициентов, округлённых до целого.\n",
        "\n",
        "Сделайте прогноз для всего обучающего набора данных и рассчитайте выбранную вами ранее метрику (или метрики). \n",
        "\n",
        "Дайте подробные ответы на следующие вопросы:\n",
        "\n",
        "* Приведите интерпретацию нескольких полученных коэффициентов (двух или трёх). Сравните их значения с полученными ранее.\n",
        "* Приведите интерпретацию полученных значений метрик. Сравните их значения с полученными ранее. \n",
        "* Удалось ли вам побороть противоречие коэффициентов линейной регрессии и коэффициентов корреляции?"
      ]
    },
    {
      "cell_type": "markdown",
      "id": "vlUYVjJP6oXN",
      "metadata": {
        "id": "vlUYVjJP6oXN"
      },
      "source": [
        "**Критерии оценивания:**\n",
        "- Задание выполнено верно, учтены все условия (**2 балла**): \n",
        "    * отобраны верные факторы;\n",
        "    * на основе отобранных факторов построена модель линейной регрессии с помощью матричной формулы МНК и найдены параметры модели, соответствующие каждому из факторов;\n",
        "    * построен прогноз для всего обучающего набора данных и рассчитано значение метрики (метрика должна быть выбрана корректно);\n",
        "    * даны ответы на все поставленные в задании вопросы.\n",
        "\n",
        "- Задание выполнено верно, но не учтено одно из условий (**1 балл**).\n",
        "- Задание выполнено верно, не учтено несколько из условий (**0 баллов**)."
      ]
    },
    {
      "cell_type": "code",
      "execution_count": 88,
      "id": "5d5ZJ0lX_UHe",
      "metadata": {
        "id": "5d5ZJ0lX_UHe"
      },
      "outputs": [],
      "source": [
        "# Ваш код здесь"
      ]
    },
    {
      "cell_type": "markdown",
      "id": "KxbYvMDo_WLe",
      "metadata": {
        "id": "KxbYvMDo_WLe"
      },
      "source": [
        "> *Ваши выводы здесь*"
      ]
    },
    {
      "cell_type": "markdown",
      "id": "7d50db12",
      "metadata": {
        "id": "7d50db12"
      },
      "source": [
        "### Задание 5.6. (1 балл)\n",
        "\n",
        "Наконец, давайте построим модель линейной регрессии из библиотеки `scikit-learn (sklearn)` и сравним результаты её работы с теми, что нам удалось получить вручную. \n",
        "\n",
        "Постройте модель линейной регрессии на обновлённых после удаления факторов данных по методу наименьших квадратов. Для этого воспользуйтесь классом `LinearRegression` из библиотеки `sklearn`. Выведите значения полученных коэффициентов, округлённые до целого.\n",
        "\n",
        "Сделайте прогноз для всего обучающего набора данных и рассчитайте значение выбранной вами метрики (или метрик).\n",
        "\n",
        "Сравните результаты библиотечной реализации с тем, что вы получили ранее. "
      ]
    },
    {
      "cell_type": "markdown",
      "id": "emu5D3w278JP",
      "metadata": {
        "id": "emu5D3w278JP"
      },
      "source": [
        "**Критерии оценивания:**\n",
        "\n",
        "- Задание выполнено верно, учтены все условия (**1 балл**): \n",
        "    * на основе отобранных факторов построена модель линейной регрессии из библиотеки sklearn и найдены параметры модели, соответствующие каждому из факторов;\n",
        "    * построен прогноз для всего обучающего набора данных и рассчитано значение метрики (метрика должна быть выбрана корректно);\n",
        "    * приведён вывод о соответствии результатов, полученных вручную и с помощью библиотеки.\n",
        "- Задание выполнено неверно, не учтено одно или несколько условий (**0 баллов**)."
      ]
    },
    {
      "cell_type": "code",
      "execution_count": 89,
      "id": "Gpdpfq59AKGu",
      "metadata": {
        "id": "Gpdpfq59AKGu"
      },
      "outputs": [],
      "source": [
        "# Ваш код здесь"
      ]
    },
    {
      "cell_type": "markdown",
      "id": "WT9cdHAbAMG7",
      "metadata": {
        "id": "WT9cdHAbAMG7"
      },
      "source": [
        "> *Ваши выводы здесь*"
      ]
    },
    {
      "cell_type": "markdown",
      "id": "5346338e",
      "metadata": {
        "id": "5346338e"
      },
      "source": [
        "## Практика: полиномиальная регрессия и регуляризация"
      ]
    },
    {
      "cell_type": "markdown",
      "id": "aad9e3a6",
      "metadata": {
        "id": "aad9e3a6"
      },
      "source": [
        "Мы продолжаем работать над задачей от владельца компании «Газ-Таз-Ваз-Нефть» Василия.\n",
        "\n",
        "Ранее мы построили модель линейной регрессии, которая прогнозирует выработку газа на скважине. Для этого мы с помощью матрицы корреляций и рассуждений отобрали некоррелированные, значимые для предсказания признаки. **Далее мы будем использовать именно их (см. задание 5.5).**\n",
        "\n",
        "Мы хотим улучшить результат — уменьшить ошибку прогноза. Для этого мы воспользуемся моделью полиномиальной регрессии третьей степени. Однако теперь мы знаем, что полиномиальным моделям очень легко переобучиться под исходную выборку. Так как данных у нас не так много (всего 200 скважин), то для контроля качества модели мы будем использовать кросс-валидацию. \n",
        "\n",
        "Приступим! Выполните задания 8.1–8.5:\n"
      ]
    },
    {
      "cell_type": "code",
      "execution_count": 90,
      "id": "18506d1b",
      "metadata": {
        "id": "18506d1b"
      },
      "outputs": [
        {
          "ename": "ModuleNotFoundError",
          "evalue": "No module named 'sklearn'",
          "output_type": "error",
          "traceback": [
            "\u001b[0;31m---------------------------------------------------------------------------\u001b[0m",
            "\u001b[0;31mModuleNotFoundError\u001b[0m                       Traceback (most recent call last)",
            "Cell \u001b[0;32mIn[90], line 1\u001b[0m\n\u001b[0;32m----> 1\u001b[0m \u001b[38;5;28;01mfrom\u001b[39;00m \u001b[38;5;21;01msklearn\u001b[39;00m\u001b[38;5;21;01m.\u001b[39;00m\u001b[38;5;21;01mpreprocessing\u001b[39;00m \u001b[38;5;28;01mimport\u001b[39;00m PolynomialFeatures, StandardScaler\n\u001b[1;32m      2\u001b[0m \u001b[38;5;28;01mfrom\u001b[39;00m \u001b[38;5;21;01msklearn\u001b[39;00m\u001b[38;5;21;01m.\u001b[39;00m\u001b[38;5;21;01mlinear_model\u001b[39;00m \u001b[38;5;28;01mimport\u001b[39;00m LinearRegression, Lasso, Ridge, ElasticNet\n\u001b[1;32m      3\u001b[0m \u001b[38;5;28;01mfrom\u001b[39;00m \u001b[38;5;21;01msklearn\u001b[39;00m\u001b[38;5;21;01m.\u001b[39;00m\u001b[38;5;21;01mmodel_selection\u001b[39;00m \u001b[38;5;28;01mimport\u001b[39;00m GridSearchCV\n",
            "\u001b[0;31mModuleNotFoundError\u001b[0m: No module named 'sklearn'"
          ]
        }
      ],
      "source": [
        "from sklearn.preprocessing import PolynomialFeatures, StandardScaler\n",
        "from sklearn.linear_model import LinearRegression, Lasso, Ridge, ElasticNet\n",
        "from sklearn.model_selection import GridSearchCV\n",
        "from sklearn.model_selection import cross_validate"
      ]
    },
    {
      "cell_type": "markdown",
      "id": "bfbfea8d",
      "metadata": {
        "id": "bfbfea8d"
      },
      "source": [
        "### Задание 8.1. (1 балл)\n",
        "\n",
        "Стандаризируйте признаки с помощью `StandartScaler` из библиотеки `sklearn`. \n",
        "\n",
        "Затем сгенерируйте полиномиальные признаки третьего порядка на факторах, которые вы выбрали для обучения моделей. Для этого воспользуйтесь генератором полиномов `PolynomialFeatures` из библиотеки `sklearn`. Параметр `include_bias` установите в значение `False`.\n",
        "\n",
        "Выведите на экран, сколько факторов у вас получилось после генерации полиномиальных признаков.\n",
        "\n",
        "**Важно:** стандартизацию необходимо произвести до генерации полиномиальных факторов!\n",
        "\n",
        "Обучите модель линейной регрессии из библиотеки `sklearn` (`LinearRegression`) на полученных полиномиальных факторах.\n",
        "\n",
        "Используя кросс-валидацию оцените среднее значение выбранной вами метрики (или метрик) на тренировочных и валидационных фолдах.\n",
        "\n",
        "Проинтерпретируйте полученные результаты."
      ]
    },
    {
      "cell_type": "markdown",
      "id": "Y8oAhQkr8gV-",
      "metadata": {
        "id": "Y8oAhQkr8gV-"
      },
      "source": [
        "**Критерии оценивания:**\n",
        "\n",
        "- Задание выполнено верно, учтены все условия (**1 балл**): \n",
        "    * на основе отобранных факторов сгенерированы полиномиальные признаки третьего порядка;\n",
        "    * построена модель полиномиальной регрессии (линейной регрессии на полиномиальных признаках);\n",
        "    * с помощью кросс-валидации оценено среднее значение выбранной студентом метрики (или метрик) на тренировочных и валидационных фолдах (метрика должна быть выбрана корректно).\n",
        "- Задание выполнено неверно, не учтено одно или несколько из условий (**0 баллов**)."
      ]
    },
    {
      "cell_type": "code",
      "execution_count": null,
      "id": "-ln3bx8NFNRw",
      "metadata": {
        "id": "-ln3bx8NFNRw"
      },
      "outputs": [],
      "source": [
        "# Ваш код здесь"
      ]
    },
    {
      "cell_type": "markdown",
      "id": "9DkuuLLtFPPy",
      "metadata": {
        "id": "9DkuuLLtFPPy"
      },
      "source": [
        "> *Ваши выводы здесь*"
      ]
    },
    {
      "cell_type": "markdown",
      "id": "63d06013",
      "metadata": {
        "id": "63d06013"
      },
      "source": [
        "### Задание 8.2. (2 балла)\n",
        "\n",
        "Теперь попробуем воспользоваться линейной регрессией с регуляризацией. Для начала возьмём $L_1$-регуляризацию.\n",
        "\n",
        "Обучите модель `Lasso` из библиотеки `sklearn` на полученных полиномиальных факторах, предварительно стандартизировав факторы. \n",
        "\n",
        "Коэффициент регуляризации (`alpha`) подберите самостоятельно с помощью любого известного вам метода подбора гиперпаметров.\n",
        "\n",
        "Используя кросс-валидацию, оцените среднее значение выбранной вами метрики (или метрик) на тренировочных и валидационных фолдах.\n",
        "\n",
        "Проинтерпретируйте полученные результаты."
      ]
    },
    {
      "cell_type": "markdown",
      "id": "z24YUfuA9rUq",
      "metadata": {
        "id": "z24YUfuA9rUq"
      },
      "source": [
        "**Критерии оценивания:**\n",
        "\n",
        "- Задание выполнено верно, учтены все условия (**2 балла**): \n",
        "    * правильно построена модель полиномиальной регрессии (линейной регрессии на полиномиальных признаках) с регуляризацией (Lasso), учтены условия необходимости масштабирования факторов для построения модели;\n",
        "    * приведён код для подбора параметра регуляризации (вручную или с помощью библиотечных инструментов);\n",
        "    * с помощью кросс-валидации оценено среднее значение выбранной студентом метрики (или метрик) на тренировочных и валидационных фолдах (метрика должна быть выбрана корректно).\n",
        "\n",
        "- Задание выполнено верно, но не учтено одно из условий (**1 балл**).\n",
        "- Задание выполнено неверно, не учтено несколько условий (**0 баллов**)."
      ]
    },
    {
      "cell_type": "code",
      "execution_count": null,
      "id": "IJ5b5G8qFz-r",
      "metadata": {
        "id": "IJ5b5G8qFz-r"
      },
      "outputs": [],
      "source": [
        "# Ваш код здесь"
      ]
    },
    {
      "cell_type": "markdown",
      "id": "Se0OGR8UF2Td",
      "metadata": {
        "id": "Se0OGR8UF2Td"
      },
      "source": [
        "> *Ваши выводы здесь*"
      ]
    },
    {
      "cell_type": "markdown",
      "id": "2975ae60",
      "metadata": {
        "id": "2975ae60"
      },
      "source": [
        "### Задание 8.3. (2 балла)\n",
        "\n",
        "Проделаем то же самое с $L_2$-регуляризацией.\n",
        "\n",
        "Обучите модель `Ridge` из библиотеки `sklearn` на полученных полиномиальных факторах, предварительно стандартизировав факторы. \n",
        "\n",
        "Коэффициент регуляризации (`alpha`) подберите самостоятельно с помощью любого известного вам метода подбора гиперпаметров.\n",
        "\n",
        "Используя кросс-валидацию оцените среднее значение выбранной вами метрики (или метрик) на тренировочных и валидационных фолдах.\n",
        "\n",
        "Проинтерпретируйте полученные результаты."
      ]
    },
    {
      "cell_type": "code",
      "execution_count": null,
      "id": "UfPGyNsjGGS8",
      "metadata": {
        "id": "UfPGyNsjGGS8"
      },
      "outputs": [],
      "source": [
        "# Ваш код здесь"
      ]
    },
    {
      "cell_type": "markdown",
      "id": "dQBd7ny_GIi1",
      "metadata": {
        "id": "dQBd7ny_GIi1"
      },
      "source": [
        "> *Ваши выводы здесь*"
      ]
    },
    {
      "cell_type": "markdown",
      "id": "86pXnWE7-5ch",
      "metadata": {
        "id": "86pXnWE7-5ch"
      },
      "source": [
        "**Критерии оценивания:**\n",
        "\n",
        "- Задание выполнено верно, учтены все условия (**2 балла**): \n",
        "    * правильно построена модель полиномиальной регрессии (линейной регрессии на полиномиальных признаках) с регуляризацией (Ridge), учтены условия необходимости масштабирования факторов для построения модели;\n",
        "    * приведён код для подбора параметра регуляризации (вручную или с помощью библиотечных инструментов);\n",
        "    * с помощью кросс-валидации оценено среднее значение выбранной студентом метрики (или метрик) на тренировочных и валидационных фолдах (метрика должна быть выбрана корректно).\n",
        "\n",
        "- Задание выполнено верно, но не учтено одно из условий (**1 балл**).\n",
        "- Задание выполнено неверно, не учтено несколько условий (**0 баллов**)."
      ]
    },
    {
      "cell_type": "markdown",
      "id": "7ad85b78",
      "metadata": {
        "id": "7ad85b78"
      },
      "source": [
        "### Задание 8.4. (2 балла)\n",
        "\n",
        "Наконец, настало время комбинировать $L_1$ и $L_2$ -регуляризации.\n",
        "\n",
        "Обучите модель `ElasticNet` из библиотеки `sklearn` на полученных полиномиальных факторах, предварительно стандартизировав факторы. \n",
        "\n",
        "Коэффициенты регуляризации (`alpha` и `l1-ratio`) подберите самостоятельно с помощью любого известного вам метода подбора гиперпаметров.\n",
        "\n",
        "Используя кросс-валидацию, оцените среднее значение метрики MAPE на тренировочных и валидационных фолдах.\n",
        "\n",
        "Проинтерпретируйте полученные результаты."
      ]
    },
    {
      "cell_type": "markdown",
      "id": "sy8ESceQ-__u",
      "metadata": {
        "id": "sy8ESceQ-__u"
      },
      "source": [
        "**Критерии оценивания:**\n",
        "\n",
        "- Задание выполнено верно, учтены все условия (**2 балла**): \n",
        "    * правильно построена модель полиномиальной регрессии (линейной регрессии на полиномиальных признаках) с регуляризацией (ElasticNet), учтены условия необходимости масштабирования факторов для построения модели;\n",
        "    * приведён код для подбора параметра регуляризации (вручную или с помощью библиотечных инструментов);\n",
        "    * с помощью кросс-валидации оценено среднее значение выбранной студентом метрики (или метрик) на тренировочных и валидационных фолдах (метрика должна быть выбрана корректно).\n",
        "\n",
        "- Задание выполнено верно, но не учтено одно из условий (**1 балл**).\n",
        "- Задание выполнено неверно, не учтено несколько условий (**0 баллов**)."
      ]
    },
    {
      "cell_type": "code",
      "execution_count": null,
      "id": "-Yi3P20hQnLS",
      "metadata": {
        "id": "-Yi3P20hQnLS"
      },
      "outputs": [],
      "source": [
        "# Ваш код здесь"
      ]
    },
    {
      "cell_type": "markdown",
      "id": "er2lAiE9QpAb",
      "metadata": {
        "id": "er2lAiE9QpAb"
      },
      "source": [
        "> *Ваши выводы здесь*"
      ]
    },
    {
      "cell_type": "markdown",
      "id": "91c6e1d1",
      "metadata": {
        "id": "91c6e1d1"
      },
      "source": [
        "### Задание 8.5. (1 балл)\n",
        "\n",
        "Завершением вашей работы будет сводная таблица результатов, которую вы представите на презентации заказчику Василию.\n",
        "\n",
        "Составьте таблицу (DataFrame) со следующими столбцами (имена столбцов выберите самостоятельно):\n",
        "* Наименование модели.\n",
        "* Гиперпараметры (коэффициенты регуляризации, если таковые имеются), если нет — оставьте ячейку пустой.\n",
        "* Использовались ли полиномиальные признаки при построении модели (Да/Нет или True/False).\n",
        "* Значение выбранной метрики на тренировочных фолдах при кросс-валидации модели.\n",
        "* Значение выбранной метрики на валидационных фолдах при кросс-валидации модели.\n",
        "\n",
        "Сделайте финальный вывод по проделанной работе. Какая линейная модель из тех, что мы рассмотрели, показала наилучший результат с точки зрения качества на валидационных фолдах, а также с точки зрения переобученности?"
      ]
    },
    {
      "cell_type": "markdown",
      "id": "OsFRaKkF_nLq",
      "metadata": {
        "id": "OsFRaKkF_nLq"
      },
      "source": [
        "**Критерии оценивания:**\n",
        "\n",
        "- Задание выполнено верно, учтены все условия (**1 балл**): \n",
        "    * верно составлена сводная таблица итоговых результатов построенных ранее моделей с указанными в задании столбцами;\n",
        "    * приведены итоговые выводы по проделанной работе, указано, какая из рассмотренных моделей показала наилучший результат.\n",
        "\n",
        "- Задание выполнено неверно, не учтено одно или несколько условий (**0 баллов**)."
      ]
    },
    {
      "cell_type": "code",
      "execution_count": null,
      "id": "wRiys8lKQuqW",
      "metadata": {
        "id": "wRiys8lKQuqW"
      },
      "outputs": [],
      "source": [
        "# Ваш код здесь"
      ]
    },
    {
      "cell_type": "markdown",
      "id": "UP7_LSoEQsrA",
      "metadata": {
        "id": "UP7_LSoEQsrA"
      },
      "source": [
        "> *Ваши выводы здесь*"
      ]
    },
    {
      "cell_type": "code",
      "execution_count": null,
      "id": "752d4445-6a85-4cfb-b520-7b7b0f9a5b20",
      "metadata": {
        "id": "752d4445-6a85-4cfb-b520-7b7b0f9a5b20"
      },
      "outputs": [],
      "source": []
    }
  ],
  "metadata": {
    "colab": {
      "provenance": []
    },
    "kernelspec": {
      "display_name": "Python 3",
      "language": "python",
      "name": "python3"
    },
    "language_info": {
      "codemirror_mode": {
        "name": "ipython",
        "version": 3
      },
      "file_extension": ".py",
      "mimetype": "text/x-python",
      "name": "python",
      "nbconvert_exporter": "python",
      "pygments_lexer": "ipython3",
      "version": "3.12.6"
    }
  },
  "nbformat": 4,
  "nbformat_minor": 5
}
