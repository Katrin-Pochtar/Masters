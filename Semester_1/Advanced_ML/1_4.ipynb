{
 "cells": [
  {
   "cell_type": "code",
   "execution_count": 11,
   "metadata": {},
   "outputs": [],
   "source": [
    "import pandas as pd"
   ]
  },
  {
   "cell_type": "code",
   "execution_count": 12,
   "metadata": {},
   "outputs": [],
   "source": [
    "student_gpa = pd.read_csv('student_gpa.csv', sep=';')"
   ]
  },
  {
   "cell_type": "code",
   "execution_count": 13,
   "metadata": {},
   "outputs": [
    {
     "data": {
      "text/html": [
       "<div>\n",
       "<style scoped>\n",
       "    .dataframe tbody tr th:only-of-type {\n",
       "        vertical-align: middle;\n",
       "    }\n",
       "\n",
       "    .dataframe tbody tr th {\n",
       "        vertical-align: top;\n",
       "    }\n",
       "\n",
       "    .dataframe thead th {\n",
       "        text-align: right;\n",
       "    }\n",
       "</style>\n",
       "<table border=\"1\" class=\"dataframe\">\n",
       "  <thead>\n",
       "    <tr style=\"text-align: right;\">\n",
       "      <th></th>\n",
       "      <th>student</th>\n",
       "      <th>age</th>\n",
       "      <th>GPA</th>\n",
       "      <th>field</th>\n",
       "    </tr>\n",
       "  </thead>\n",
       "  <tbody>\n",
       "    <tr>\n",
       "      <th>0</th>\n",
       "      <td>James Smith</td>\n",
       "      <td>22</td>\n",
       "      <td>3.8</td>\n",
       "      <td>Computer Science</td>\n",
       "    </tr>\n",
       "    <tr>\n",
       "      <th>1</th>\n",
       "      <td>Mary Johnson</td>\n",
       "      <td>20</td>\n",
       "      <td>3.5</td>\n",
       "      <td>Psychology</td>\n",
       "    </tr>\n",
       "    <tr>\n",
       "      <th>2</th>\n",
       "      <td>Robert Williams</td>\n",
       "      <td>24</td>\n",
       "      <td>3.2</td>\n",
       "      <td>Biology</td>\n",
       "    </tr>\n",
       "    <tr>\n",
       "      <th>3</th>\n",
       "      <td>Patricia Brown</td>\n",
       "      <td>21</td>\n",
       "      <td>3.9</td>\n",
       "      <td>Engineering</td>\n",
       "    </tr>\n",
       "    <tr>\n",
       "      <th>4</th>\n",
       "      <td>John Jones</td>\n",
       "      <td>23</td>\n",
       "      <td>3.6</td>\n",
       "      <td>Mathematics</td>\n",
       "    </tr>\n",
       "  </tbody>\n",
       "</table>\n",
       "</div>"
      ],
      "text/plain": [
       "           student  age  GPA             field\n",
       "0      James Smith   22  3.8  Computer Science\n",
       "1     Mary Johnson   20  3.5        Psychology\n",
       "2  Robert Williams   24  3.2           Biology\n",
       "3   Patricia Brown   21  3.9       Engineering\n",
       "4       John Jones   23  3.6       Mathematics"
      ]
     },
     "execution_count": 13,
     "metadata": {},
     "output_type": "execute_result"
    }
   ],
   "source": [
    "student_gpa.head()"
   ]
  },
  {
   "cell_type": "code",
   "execution_count": 14,
   "metadata": {},
   "outputs": [],
   "source": [
    "erasmus = pd.read_csv('erasmus.csv', sep = ',')"
   ]
  },
  {
   "cell_type": "code",
   "execution_count": 15,
   "metadata": {},
   "outputs": [
    {
     "data": {
      "text/html": [
       "<div>\n",
       "<style scoped>\n",
       "    .dataframe tbody tr th:only-of-type {\n",
       "        vertical-align: middle;\n",
       "    }\n",
       "\n",
       "    .dataframe tbody tr th {\n",
       "        vertical-align: top;\n",
       "    }\n",
       "\n",
       "    .dataframe thead th {\n",
       "        text-align: right;\n",
       "    }\n",
       "</style>\n",
       "<table border=\"1\" class=\"dataframe\">\n",
       "  <thead>\n",
       "    <tr style=\"text-align: right;\">\n",
       "      <th></th>\n",
       "      <th>student</th>\n",
       "      <th>age</th>\n",
       "      <th>home country</th>\n",
       "      <th>exchange country</th>\n",
       "    </tr>\n",
       "  </thead>\n",
       "  <tbody>\n",
       "    <tr>\n",
       "      <th>0</th>\n",
       "      <td>James Smith</td>\n",
       "      <td>22</td>\n",
       "      <td>USA</td>\n",
       "      <td>France</td>\n",
       "    </tr>\n",
       "    <tr>\n",
       "      <th>1</th>\n",
       "      <td>Mary Johnson</td>\n",
       "      <td>20</td>\n",
       "      <td>UK</td>\n",
       "      <td>Germany</td>\n",
       "    </tr>\n",
       "    <tr>\n",
       "      <th>2</th>\n",
       "      <td>Robert Williams</td>\n",
       "      <td>24</td>\n",
       "      <td>Canada</td>\n",
       "      <td>Spain</td>\n",
       "    </tr>\n",
       "    <tr>\n",
       "      <th>3</th>\n",
       "      <td>Patricia Brown</td>\n",
       "      <td>21</td>\n",
       "      <td>Australia</td>\n",
       "      <td>Italy</td>\n",
       "    </tr>\n",
       "    <tr>\n",
       "      <th>4</th>\n",
       "      <td>John Jones</td>\n",
       "      <td>23</td>\n",
       "      <td>Ireland</td>\n",
       "      <td>Netherlands</td>\n",
       "    </tr>\n",
       "    <tr>\n",
       "      <th>...</th>\n",
       "      <td>...</td>\n",
       "      <td>...</td>\n",
       "      <td>...</td>\n",
       "      <td>...</td>\n",
       "    </tr>\n",
       "    <tr>\n",
       "      <th>117</th>\n",
       "      <td>Mason Walker</td>\n",
       "      <td>21</td>\n",
       "      <td>Chile</td>\n",
       "      <td>Portugal</td>\n",
       "    </tr>\n",
       "    <tr>\n",
       "      <th>118</th>\n",
       "      <td>Sophia Young</td>\n",
       "      <td>24</td>\n",
       "      <td>Peru</td>\n",
       "      <td>Poland</td>\n",
       "    </tr>\n",
       "    <tr>\n",
       "      <th>119</th>\n",
       "      <td>Logan Hall</td>\n",
       "      <td>26</td>\n",
       "      <td>Colombia</td>\n",
       "      <td>Czech Republic</td>\n",
       "    </tr>\n",
       "    <tr>\n",
       "      <th>120</th>\n",
       "      <td>Ava Allen</td>\n",
       "      <td>22</td>\n",
       "      <td>Venezuela</td>\n",
       "      <td>Hungary</td>\n",
       "    </tr>\n",
       "    <tr>\n",
       "      <th>121</th>\n",
       "      <td>Lucas Wright</td>\n",
       "      <td>25</td>\n",
       "      <td>Ecuador</td>\n",
       "      <td>Greece</td>\n",
       "    </tr>\n",
       "  </tbody>\n",
       "</table>\n",
       "<p>122 rows × 4 columns</p>\n",
       "</div>"
      ],
      "text/plain": [
       "             student  age home country exchange country\n",
       "0        James Smith   22          USA           France\n",
       "1       Mary Johnson   20           UK          Germany\n",
       "2    Robert Williams   24       Canada            Spain\n",
       "3     Patricia Brown   21    Australia            Italy\n",
       "4         John Jones   23      Ireland      Netherlands\n",
       "..               ...  ...          ...              ...\n",
       "117     Mason Walker   21        Chile         Portugal\n",
       "118     Sophia Young   24         Peru           Poland\n",
       "119       Logan Hall   26     Colombia   Czech Republic\n",
       "120        Ava Allen   22    Venezuela          Hungary\n",
       "121     Lucas Wright   25      Ecuador           Greece\n",
       "\n",
       "[122 rows x 4 columns]"
      ]
     },
     "execution_count": 15,
     "metadata": {},
     "output_type": "execute_result"
    }
   ],
   "source": [
    "erasmus"
   ]
  },
  {
   "cell_type": "code",
   "execution_count": 16,
   "metadata": {},
   "outputs": [],
   "source": [
    "gpa_erasmus = pd.merge(student_gpa, erasmus, on = ['student', 'age'])"
   ]
  },
  {
   "cell_type": "code",
   "execution_count": 18,
   "metadata": {},
   "outputs": [
    {
     "data": {
      "text/html": [
       "<div>\n",
       "<style scoped>\n",
       "    .dataframe tbody tr th:only-of-type {\n",
       "        vertical-align: middle;\n",
       "    }\n",
       "\n",
       "    .dataframe tbody tr th {\n",
       "        vertical-align: top;\n",
       "    }\n",
       "\n",
       "    .dataframe thead th {\n",
       "        text-align: right;\n",
       "    }\n",
       "</style>\n",
       "<table border=\"1\" class=\"dataframe\">\n",
       "  <thead>\n",
       "    <tr style=\"text-align: right;\">\n",
       "      <th></th>\n",
       "      <th>student</th>\n",
       "      <th>age</th>\n",
       "      <th>GPA</th>\n",
       "      <th>field</th>\n",
       "      <th>home country</th>\n",
       "      <th>exchange country</th>\n",
       "    </tr>\n",
       "  </thead>\n",
       "  <tbody>\n",
       "    <tr>\n",
       "      <th>0</th>\n",
       "      <td>James Smith</td>\n",
       "      <td>22</td>\n",
       "      <td>3.8</td>\n",
       "      <td>Computer Science</td>\n",
       "      <td>USA</td>\n",
       "      <td>France</td>\n",
       "    </tr>\n",
       "    <tr>\n",
       "      <th>1</th>\n",
       "      <td>Mary Johnson</td>\n",
       "      <td>20</td>\n",
       "      <td>3.5</td>\n",
       "      <td>Psychology</td>\n",
       "      <td>UK</td>\n",
       "      <td>Germany</td>\n",
       "    </tr>\n",
       "    <tr>\n",
       "      <th>2</th>\n",
       "      <td>Robert Williams</td>\n",
       "      <td>24</td>\n",
       "      <td>3.2</td>\n",
       "      <td>Biology</td>\n",
       "      <td>Canada</td>\n",
       "      <td>Spain</td>\n",
       "    </tr>\n",
       "    <tr>\n",
       "      <th>3</th>\n",
       "      <td>Patricia Brown</td>\n",
       "      <td>21</td>\n",
       "      <td>3.9</td>\n",
       "      <td>Engineering</td>\n",
       "      <td>Australia</td>\n",
       "      <td>Italy</td>\n",
       "    </tr>\n",
       "    <tr>\n",
       "      <th>4</th>\n",
       "      <td>John Jones</td>\n",
       "      <td>23</td>\n",
       "      <td>3.6</td>\n",
       "      <td>Mathematics</td>\n",
       "      <td>Ireland</td>\n",
       "      <td>Netherlands</td>\n",
       "    </tr>\n",
       "  </tbody>\n",
       "</table>\n",
       "</div>"
      ],
      "text/plain": [
       "           student  age  GPA             field home country exchange country\n",
       "0      James Smith   22  3.8  Computer Science          USA           France\n",
       "1     Mary Johnson   20  3.5        Psychology           UK          Germany\n",
       "2  Robert Williams   24  3.2           Biology       Canada            Spain\n",
       "3   Patricia Brown   21  3.9       Engineering    Australia            Italy\n",
       "4       John Jones   23  3.6       Mathematics      Ireland      Netherlands"
      ]
     },
     "execution_count": 18,
     "metadata": {},
     "output_type": "execute_result"
    }
   ],
   "source": [
    "gpa_erasmus.head()"
   ]
  },
  {
   "cell_type": "code",
   "execution_count": 24,
   "metadata": {},
   "outputs": [
    {
     "data": {
      "text/plain": [
       "np.float64(3.0)"
      ]
     },
     "execution_count": 24,
     "metadata": {},
     "output_type": "execute_result"
    }
   ],
   "source": [
    "interval = gpa_erasmus['age'].quantile(0.75) - gpa_erasmus['age'].quantile(0.25)\n",
    "interval"
   ]
  },
  {
   "cell_type": "code",
   "execution_count": 22,
   "metadata": {},
   "outputs": [
    {
     "name": "stdout",
     "output_type": "stream",
     "text": [
      "Lower Quartile of GPA:  3.5\n",
      "Upper Quartile of GPA:  3.8\n",
      "Interquartile Range of total  0.2999999999999998\n"
     ]
    }
   ],
   "source": [
    "print('Lower Quartile of GPA: ', gpa_erasmus['GPA'].quantile(0.25))\n",
    "print('Upper Quartile of GPA: ', gpa_erasmus['GPA'].quantile(0.75))\n",
    "print('Interquartile Range of total ', gpa_erasmus['GPA'].quantile(0.75) - gpa_erasmus['GPA'].quantile(0.25)) "
   ]
  },
  {
   "cell_type": "code",
   "execution_count": 23,
   "metadata": {},
   "outputs": [
    {
     "name": "stdout",
     "output_type": "stream",
     "text": [
      "count    115.000000\n",
      "mean       3.623478\n",
      "std        0.220975\n",
      "min        3.000000\n",
      "25%        3.500000\n",
      "50%        3.600000\n",
      "75%        3.800000\n",
      "max        4.000000\n",
      "Name: GPA, dtype: float64\n"
     ]
    }
   ],
   "source": [
    "stats = gpa_erasmus['GPA'].describe()\n",
    "print(stats)"
   ]
  }
 ],
 "metadata": {
  "kernelspec": {
   "display_name": "Python 3",
   "language": "python",
   "name": "python3"
  },
  "language_info": {
   "codemirror_mode": {
    "name": "ipython",
    "version": 3
   },
   "file_extension": ".py",
   "mimetype": "text/x-python",
   "name": "python",
   "nbconvert_exporter": "python",
   "pygments_lexer": "ipython3",
   "version": "3.12.6"
  }
 },
 "nbformat": 4,
 "nbformat_minor": 2
}
