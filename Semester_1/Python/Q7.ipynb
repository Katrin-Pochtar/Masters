{
 "cells": [
  {
   "cell_type": "code",
   "execution_count": 1,
   "metadata": {},
   "outputs": [],
   "source": [
    "import re\n",
    "import random"
   ]
  },
  {
   "cell_type": "code",
   "execution_count": 2,
   "metadata": {},
   "outputs": [],
   "source": [
    "def erase_text_randomly(text: str, percent: float = 30.0) -> str:\n",
    "    \"\"\"\n",
    "    'Стирает' случайные слова в тексте, заменяя их на '...'\n",
    "    примерно на указанное процентное соотношение (percent%).\n",
    "    Возвращает изменённую строку.\n",
    "    \"\"\"\n",
    "\n",
    "    # Уберём лишние переносы строк, если хотите\n",
    "    # text = text.replace('\\n', ' ')\n",
    "\n",
    "    # Посчитаем общее число символов\n",
    "    total_chars = len(text)\n",
    "    if total_chars == 0:\n",
    "        return text  # пустой текст \"затирать\" не нужно\n",
    "\n",
    "    # Сколько символов хотим удалить\n",
    "    chars_to_remove = int(total_chars * (percent / 100.0))\n",
    "    if chars_to_remove <= 0:\n",
    "        return text  # если процент очень мал или текст слишком короткий\n",
    "\n",
    "    # Разобьём текст на 'токены': слова, пробелы и знаки препинания\n",
    "    # Чтобы при обратной склейке вернуть исходную структуру, используем split с захватом разделителей\n",
    "    tokens = re.split(r'(\\s+|\\W+)', text)\n",
    "    # Пример: \"Сегодня солнечный день!\" ->\n",
    "    # [\"Сегодня\", \" \", \"солнечный\", \" \", \"день\", \"!\", \"\"]\n",
    "\n",
    "    # Выделим индексы \"слов\" — туда, где re.match(r'\\w+', token) (буквы/цифры)\n",
    "    word_indices = []\n",
    "    for i, token in enumerate(tokens):\n",
    "        if re.match(r'^\\w+$', token, flags=re.UNICODE):\n",
    "            word_indices.append(i)\n",
    "\n",
    "    # Перемешаем индексы слов (случайный порядок)\n",
    "    random.shuffle(word_indices)\n",
    "\n",
    "    # Накопим, сколько символов уже \"стёрли\"\n",
    "    removed_count = 0\n",
    "\n",
    "    # Бежим по случайным словам, пока не достигнем нужного \"количества стёртых символов\"\n",
    "    for idx in word_indices:\n",
    "        word_len = len(tokens[idx])\n",
    "        # Если стираем это слово, заменим на '...'\n",
    "        tokens[idx] = '...'\n",
    "        removed_count += word_len  # считаем, что \"стёрли\" столько-то символов\n",
    "\n",
    "        if removed_count >= chars_to_remove:\n",
    "            break\n",
    "\n",
    "    # Склеиваем обратно\n",
    "    new_text = \"\".join(tokens)\n",
    "    return new_text\n"
   ]
  },
  {
   "cell_type": "code",
   "execution_count": 3,
   "metadata": {},
   "outputs": [
    {
     "name": "stdout",
     "output_type": "stream",
     "text": [
      "Исходный текст:\n",
      "Сегодня солнечный день, и я собираюсь гулять в парке с моими друзьями.\n",
      "\n",
      "Результат (~30% удалено):\n",
      "... солнечный ..., и я собираюсь ... ... парке ... ... друзьями.\n"
     ]
    }
   ],
   "source": [
    "if __name__ == \"__main__\":\n",
    "    # Пример входного текста\n",
    "    original_text = (\n",
    "        \"Сегодня солнечный день, и я собираюсь гулять в парке с моими друзьями.\"\n",
    "    )\n",
    "    print(\"Исходный текст:\")\n",
    "    print(original_text)\n",
    "\n",
    "    # Удаляем ~30% случайным образом\n",
    "    result = erase_text_randomly(original_text, percent=30.0)\n",
    "\n",
    "    print(\"\\nРезультат (~30% удалено):\")\n",
    "    print(result)"
   ]
  }
 ],
 "metadata": {
  "kernelspec": {
   "display_name": "Python 3",
   "language": "python",
   "name": "python3"
  },
  "language_info": {
   "codemirror_mode": {
    "name": "ipython",
    "version": 3
   },
   "file_extension": ".py",
   "mimetype": "text/x-python",
   "name": "python",
   "nbconvert_exporter": "python",
   "pygments_lexer": "ipython3",
   "version": "3.12.6"
  }
 },
 "nbformat": 4,
 "nbformat_minor": 2
}
