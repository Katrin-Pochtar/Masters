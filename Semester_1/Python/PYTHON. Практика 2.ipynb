{
 "cells": [
  {
   "cell_type": "markdown",
   "metadata": {
    "id": "nyoJAXbM9Zzc"
   },
   "source": [
    "1. Используя библиотеку numpy, решите систему линейных уравнений:\n",
    "\n",
    "2x+y−z=8,\n",
    "\n",
    "−3x−y+2z=−11,\n",
    "\n",
    "−2x+y+2z=−3"
   ]
  },
  {
   "cell_type": "code",
   "execution_count": 3,
   "metadata": {
    "id": "tHTJGZ6q9z8i"
   },
   "outputs": [],
   "source": [
    "import numpy as np\n",
    "\n",
    "# ваш код\n",
    "# a = np.array([2,1,-1],[-3,-1,2],[-2,1,2])\n",
    "# b = \n",
    "\n",
    "# solution = # ваш код\n",
    "# print(\"Решение системы уравнений:\", solution)"
   ]
  },
  {
   "cell_type": "markdown",
   "metadata": {
    "id": "hUXGNs1PGDE3"
   },
   "source": [
    "2. Решите квадратное уравнение(найдите его корни): $2x^2+4x−6=0$.\n",
    "Используйте для этой задачи библиотеку math.\n",
    "\n",
    "Для отработки материала, решение должно быть представлено через нахождение дискриминанта по формуле: $$x = {-b \\pm \\sqrt{b^2-4ac} \\over 2a}$$"
   ]
  },
  {
   "cell_type": "code",
   "execution_count": 4,
   "metadata": {
    "id": "E-R263sqGgsS"
   },
   "outputs": [
    {
     "ename": "SyntaxError",
     "evalue": "invalid syntax (998636370.py, line 7)",
     "output_type": "error",
     "traceback": [
      "\u001b[0;36m  Cell \u001b[0;32mIn[4], line 7\u001b[0;36m\u001b[0m\n\u001b[0;31m    discriminant = # ваш код\u001b[0m\n\u001b[0m                   ^\u001b[0m\n\u001b[0;31mSyntaxError\u001b[0m\u001b[0;31m:\u001b[0m invalid syntax\n"
     ]
    }
   ],
   "source": [
    "import math\n",
    "\n",
    "# Коэффициенты квадратного уравнения\n",
    "# ваш код\n",
    "\n",
    "# Вычисление дискриминанта\n",
    "discriminant = # ваш код\n",
    "\n",
    "# Вычисление корней уравнения\n",
    "if discriminant >= 0:\n",
    "    # ваш код\n",
    "    print(\"Корни уравнения:\", x1, x2)\n",
    "else:\n",
    "    print(\"Корни не являются вещественными числами\")"
   ]
  },
  {
   "cell_type": "markdown",
   "metadata": {
    "id": "xoUlmlbxIe7j"
   },
   "source": [
    "3. Вычислите синус угла $𝜋\\over3$ с использованием первых четырех членов ряда Тейлора.\n",
    "Серия Тейлора для синуса: $$x = x - {x^3\\over3!} + {x^5\\over5!} - {x^7\\over7!} + ...$$\n",
    "Использойте библиотеку math"
   ]
  },
  {
   "cell_type": "code",
   "execution_count": 2,
   "metadata": {
    "id": "P1-6eqh4JnDD"
   },
   "outputs": [
    {
     "name": "stdout",
     "output_type": "stream",
     "text": [
      "Приближенное значение синуса методом Тейлора: 0.76\n"
     ]
    }
   ],
   "source": [
    "import math\n",
    "\n",
    "# Угол в радианах\n",
    "x = math.pi / 3\n",
    "\n",
    "# Вычисление синуса методом ряда Тейлора\n",
    "sin_approximation = math.sin(x - x**3/math.factorial(3) + x**5/math.factorial(5) - x**7/math.factorial(7))\n",
    "\n",
    "print(\"Приближенное значение синуса методом Тейлора:\", round(sin_approximation, 2))"
   ]
  },
  {
   "cell_type": "markdown",
   "metadata": {
    "id": "8nJ3CdQjJ2TF"
   },
   "source": [
    "4. Найдите площадь треугольника, если его стороны $a = 7, b = 8$, а угол между ними $С=45^o$\n",
    "Подсказка: нужно найти площадь треугольника через синус угла по формуле:\n",
    "$$A= {1\\over2}absin(C)$$"
   ]
  },
  {
   "cell_type": "code",
   "execution_count": 6,
   "metadata": {
    "id": "DF_vmOpFLb1D"
   },
   "outputs": [
    {
     "name": "stdout",
     "output_type": "stream",
     "text": [
      "Площадь треугольника: 19.8\n"
     ]
    }
   ],
   "source": [
    "import math\n",
    "\n",
    "# Стороны треугольника и угол в градусах\n",
    "a = 7\n",
    "b = 8\n",
    "C = 45\n",
    "\n",
    "# Конвертация угла в радианы\n",
    "C = math.radians(C)\n",
    "\n",
    "# Площадь\n",
    "area = 0.5 * a * b * math.sin(C)\n",
    "print(\"Площадь треугольника:\", round(area,2))"
   ]
  },
  {
   "cell_type": "markdown",
   "metadata": {
    "id": "QgNgmqyuMJr4"
   },
   "source": [
    "5. В прямоугольном треугольнике угол между гипотенузой и прилежащим катетом равен 30 градусов. Найдите длину противолежащего катета, если длина прилежащего катета равна 10.\n",
    "\n",
    "Используйите библиотеку math. Формула: $$tan(θ) = {a\\over b},$$\n",
    "\n",
    "где:\n",
    "- $θ$ — угол между прилежащим катетом и гипотенузой,\n",
    "- $a$ — противолежащий катет,\n",
    "- $b$ — прилежащий катет.\n"
   ]
  },
  {
   "cell_type": "code",
   "execution_count": null,
   "metadata": {
    "id": "nxAwWMtgM-s4"
   },
   "outputs": [],
   "source": [
    "import math\n",
    "\n",
    "angle_degrees = 30\n",
    "b = 10\n",
    "\n",
    "# Конвертация угла в радианы\n",
    "angle_radians = # ваш код\n",
    "\n",
    "# Вычисление противолежащего катета\n",
    "a = # ваш код\n",
    "print(\"Длина противолежащего катета:\", round(a,2))"
   ]
  },
  {
   "cell_type": "markdown",
   "metadata": {
    "id": "hTbDuX5wN-kQ"
   },
   "source": [
    "6. Даны два вектора $A = [1, 2, 3]$ и $B = [4, 5, 6]$. Найдите их скалярное произведение."
   ]
  },
  {
   "cell_type": "code",
   "execution_count": null,
   "metadata": {
    "id": "HKPotGfuOXtr"
   },
   "outputs": [],
   "source": [
    "import numpy as np\n",
    "\n",
    "# Векторы A и B\n",
    "A = # ваш код\n",
    "B = # ваш код\n",
    "\n",
    "# Скалярное произведение\n",
    "dot_product = # ваш код\n",
    "print(\"Скалярное произведение A и B:\", dot_product)"
   ]
  },
  {
   "cell_type": "markdown",
   "metadata": {
    "id": "A5o6Aunn-aRV"
   },
   "source": [
    "7. Создайте случайную матрицу размером 5x5 и вычислите ее обратную матрицу и определитель с использованием библиотеки numpy."
   ]
  },
  {
   "cell_type": "code",
   "execution_count": null,
   "metadata": {
    "id": "iAXRpqhx-ce8"
   },
   "outputs": [],
   "source": [
    "import numpy as np\n",
    "\n",
    "# ваш код\n",
    "\n",
    "determinant = # ваш код\n",
    "inverse = # ваш код\n",
    "\n",
    "print(f\"Определитель матрицы: {determinant}\")\n",
    "print(\"Обратная матрица:\")\n",
    "print(inverse)"
   ]
  },
  {
   "cell_type": "markdown",
   "metadata": {
    "id": "6BPb8iw_QRR_"
   },
   "source": [
    "8. Даны две матрицы:\n",
    "$A = \\begin{bmatrix} 1 & 2 & 3 \\\\ 4 & 5 & 6 \\\\ 7 & 8 & 9 \\end{bmatrix}$ и $B = \\begin{bmatrix} 9 & 8 & 7 \\\\ 6 & 5 & 4 \\\\ 3 & 2 & 1 \\end{bmatrix}$\n",
    "\n",
    "Найдите их сумму.\n",
    "\n"
   ]
  },
  {
   "cell_type": "code",
   "execution_count": null,
   "metadata": {
    "id": "wLPV0TSYRt91"
   },
   "outputs": [],
   "source": [
    "import numpy as np\n",
    "\n",
    "# Матрицы A и B\n",
    "A = # ваш код\n",
    "B = # ваш код\n",
    "\n",
    "# Сложение матриц\n",
    "С = #ваш код\n",
    "print(\"Сумма матриц A и B:\\n\", C)"
   ]
  },
  {
   "cell_type": "markdown",
   "metadata": {
    "id": "V2AdftoQSXJF"
   },
   "source": [
    "9. Найдите ранг матрицы $B = \\begin{bmatrix} 3 & 5 & 7 \\\\ 2 & 4 & 6 \\\\ 1 & 2 & 3 \\end{bmatrix}$\n"
   ]
  },
  {
   "cell_type": "code",
   "execution_count": 14,
   "metadata": {
    "id": "fgl4UyFrSocl"
   },
   "outputs": [
    {
     "name": "stdout",
     "output_type": "stream",
     "text": [
      "Ранг матрицы B: 2\n"
     ]
    }
   ],
   "source": [
    "import numpy as np\n",
    "\n",
    "# Матрица B\n",
    "B = np.array([[3,5,7],[2,4,6],[1,2,3]])\n",
    "\n",
    "# Вычисление ранга матрицы\n",
    "rank_B = np.linalg.matrix_rank(B)\n",
    "print(\"Ранг матрицы B:\", rank_B)"
   ]
  },
  {
   "cell_type": "markdown",
   "metadata": {
    "id": "eTkAez21TFJH"
   },
   "source": [
    "10. Даны два вектора  $A=[1,2,3]$  и  $B=[4,5,6]$. Найдите угол между ними в градусах."
   ]
  },
  {
   "cell_type": "code",
   "execution_count": 8,
   "metadata": {
    "id": "G6n9KxApTYMe"
   },
   "outputs": [
    {
     "name": "stdout",
     "output_type": "stream",
     "text": [
      "Угол между векторами в градусах: 12.93\n"
     ]
    }
   ],
   "source": [
    "import numpy as np\n",
    "\n",
    "# Векторы A и B\n",
    "A = np.array([1, 2, 3])\n",
    "B = np.array([4, 5, 6])\n",
    "\n",
    "# 1. Скалярное произведение\n",
    "dot_product = np.dot(A, B)\n",
    "\n",
    "# 2. Длины векторов\n",
    "norm_A = np.linalg.norm(A)\n",
    "norm_B = np.linalg.norm(B)\n",
    "\n",
    "# 3. Вычисление косинуса угла\n",
    "cos_theta = dot_product / (norm_A * norm_B)\n",
    "\n",
    "# 4. Вычисление угла в радианах\n",
    "theta_radians = np.arccos(cos_theta)\n",
    "\n",
    "# 5. Конвертация угла в градусы\n",
    "theta_degrees = np.degrees(theta_radians)\n",
    "print(\"Угол между векторами в градусах:\", round(theta_degrees, 2))"
   ]
  },
  {
   "cell_type": "markdown",
   "metadata": {
    "id": "ku9oMZetUaEI"
   },
   "source": [
    "# 11, 12 и 13 Задания со звездочкой по сложности!"
   ]
  },
  {
   "cell_type": "markdown",
   "metadata": {
    "id": "jvzSrcqJjdF6"
   },
   "source": [
    "11. Напишите программу, которая вычисляет собственные значения и собственные векторы случайной симметричной матрицы размером 1000x1000. Проверьте, что матрица действительно симметрична, и подтвердите, что все собственные значения являются действительными числами."
   ]
  },
  {
   "cell_type": "code",
   "execution_count": null,
   "metadata": {
    "id": "u-plKlhjlHqU"
   },
   "outputs": [],
   "source": [
    "import numpy as np\n",
    "\n",
    "# 1. Создаем случайную матрицу 1000x1000\n",
    "n = 1000\n",
    "m = 1000\n",
    "A = np.random.random((1000, 1000))\n",
    "\n",
    "# 2. Преобразуем её в симметричную матрицу\n",
    "A_symm = np.add(A, A.T) / 2\n",
    "\n",
    "# 3. Проверяем, что матрица симметрична\n",
    "is_symmetric = np.array_equal(A_symm, A_symm.T)\n",
    "print(f\"Матрица симметрична: {is_symmetric}\")\n",
    "\n",
    "# 4. Вычисляем собственные значения и собственные векторы\n",
    "eigenvalues, eigenvectors = np.linalg.eig(A_symm)\n",
    "\n",
    "# 5. Проверяем, что все собственные значения действительные\n",
    "are_real = np.all(np.isclose(eigenvalues.imag, 0))\n",
    "print(f\"Все собственные значения действительные: {are_real}\")\n",
    "\n",
    "# Выводим результаты\n",
    "print(f\"Первое собственное значение: {eigenvalues[0]}\")\n",
    "print(f\"Первый собственный вектор: {eigenvectors[:, 0]}\")"
   ]
  },
  {
   "cell_type": "markdown",
   "metadata": {
    "id": "zqYWU49J_138"
   },
   "source": [
    "12. Расчет расстояния между двумя точками на сфере (формула гаверсинуса) Задача: Напишите функцию, которая вычисляет расстояние между двумя точками на поверхности Земли, заданными их широтой и долготой, используя формулу гаверсинуса.\n",
    "\n",
    "Радиус Земли примите за 6371 км\n",
    "\n",
    "Используйте:\n",
    "\n",
    "`math.radians(), math.sin(), math.cos(), math.sqrt(), math.atan2()`\n",
    "\n",
    "Формула Гаверсинуса выглядит так:\n",
    "$$d = 2r \\cdot \\arcsin\\left( \\sqrt{ \\sin^2\\left( \\dfrac{\\Delta\\phi}{2} \\right) + \\cos(\\phi_1) \\cdot \\cos(\\phi_2) \\cdot \\sin^2\\left( \\dfrac{\\Delta\\lambda}{2} \\right) } \\right)$$\n",
    "**Где:**\n",
    "\n",
    "- $ r $ — радиус Земли.\n",
    "\n",
    "- $\\phi_1, \\phi_2$ — широты первой и второй точки в радианах.\n",
    "\n",
    "- $\\lambda_1, \\lambda_2$ — долготы первой и второй точки в радианах.\n",
    "\n",
    "- $\\Delta\\phi = \\phi_2 - \\phi_1$ — разница широт.\n",
    "\n",
    "- $\\Delta\\lambda = \\lambda_2 - \\lambda_1$ — разница долгот."
   ]
  },
  {
   "cell_type": "code",
   "execution_count": null,
   "metadata": {
    "id": "GdSRPIZf_53I"
   },
   "outputs": [],
   "source": [
    "import math\n",
    "\n",
    "def haversine(lat1, lon1, lat2, lon2):\n",
    "    R = 6371\n",
    "\n",
    "    lat1, lon1, lat2, lon2 = # ваш код\n",
    "\n",
    "    return distance\n",
    "\n",
    "# Координаты Москвы\n",
    "lat1 = 55.7558\n",
    "lon1 = 37.6173\n",
    "\n",
    "# Координаты Нью-Йорка\n",
    "lat2 = 40.7128\n",
    "lon2 = -74.0060\n",
    "print(haversine(lat1, lon1, lat2, lon2))"
   ]
  },
  {
   "cell_type": "markdown",
   "metadata": {
    "id": "BLYG4m__YVCo"
   },
   "source": [
    "13. Для матрицы\n",
    "$A = \\begin{bmatrix} 6 & 2 \\\\ 2 & 3  \\\\  \\end{bmatrix}$ найдите наибольшее собственное значение методом степенной итерации.\n",
    "\n",
    "## Вспомогательный материал для решения задачи\n",
    "\n",
    "### Метод степенной итерации\n",
    "\n",
    "Метод степенной итерации используется для нахождения наибольшего по модулю собственного значения и соответствующего собственного вектора матрицы.\n",
    "\n",
    "Основная идея метода заключается в том, что при многократном умножении случайного вектора на матрицу $ A $, доминирующее (наибольшее по модулю) собственное значение постепенно проявляется, так как собственные компоненты, соответствующие меньшим собственным значениям, затухают.\n",
    "\n",
    "#### Формулировка метода степенной итерации:\n",
    "\n",
    "1. Пусть $ A $ — квадратная матрица размера $ n \\times n $.\n",
    "2. Начните с произвольного ненулевого вектора $ b_0 $ (как правило, его компоненты можно задать случайно).\n",
    "3. Повторяйте следующие шаги до достижения сходимости:\n",
    "\n",
    "$$\n",
    "b_{k+1} = \\frac{A b_k}{||A b_k||}\n",
    "$$\n",
    "\n",
    "где:\n",
    "- $ b_k $ — вектор на $ k $-ой итерации.\n",
    "- $ ||A b_k|| $ — норма вектора, чаще всего используется евклидова норма.\n",
    "\n",
    "4. После нескольких итераций вектор $ b_k $ будет приближаться к собственному вектору, соответствующему наибольшему по модулю собственному значению матрицы $ A $.\n",
    "\n",
    "5. Найдите приближение к собственному значению с использованием вектора $ b_k $:\n",
    "\n",
    "$$\n",
    "\\lambda_k = \\frac{b_k^T A b_k}{b_k^T b_k}\n",
    "$$\n",
    "\n",
    "где:\n",
    "- $ \\lambda_k $ — приближение наибольшего собственного значения на $ k $-ой итерации.\n",
    "- $ b_k^T $ — транспонированный вектор $ b_k $.\n",
    "\n",
    "Этот метод работает хорошо для симметричных матриц и матриц с разными по величине собственными значениями."
   ]
  },
  {
   "cell_type": "code",
   "execution_count": null,
   "metadata": {
    "id": "gIn4O8IAZh9j"
   },
   "outputs": [],
   "source": [
    "import numpy as np\n",
    "\n",
    "# Матрица A\n",
    "A = # ваш код\n",
    "\n",
    "# Начальное приближение вектора\n",
    "b = np.array([1, 1], dtype=float) # пояснение: если не преобразовать тип данных в float, то будет ошибка:\n",
    "                                  # UFuncTypeError: Cannot cast ufunc 'divide' output from dtype('float64') to dtype('int32') with casting rule 'same_kind'\n",
    "tol = 1e-6\n",
    "max_iter = 100\n",
    "\n",
    "# Метод степенной итерации\n",
    "for _ in range(max_iter):\n",
    "    b_next = # ваш код\n",
    "\n",
    "    if # ваш код:\n",
    "        break\n",
    "    b = b_next\n",
    "\n",
    "# Собственное значение\n",
    "largest_eigenvalue = # ваш код\n",
    "print(\"Наибольшее собственное значение:\", round(largest_eigenvalue,2))"
   ]
  },
  {
   "cell_type": "markdown",
   "metadata": {
    "id": "VReVxl8EWACt"
   },
   "source": [
    "14. Найдите радиус описанной окружности треугольника с длинами сторон $a = 3$, $b = 4$, $c = 5$.\n",
    "\n",
    "Радиус описанной окружности треугольника $R$ можно найти по формуле:\n",
    "$R = \\frac{abc}{4A}$\n",
    "где $a$, $b$, $c$ — длины сторон треугольника, а $A$ — его площадь."
   ]
  },
  {
   "cell_type": "code",
   "execution_count": null,
   "metadata": {
    "id": "q41UFsfbWAbT"
   },
   "outputs": [],
   "source": [
    "import math\n",
    "\n",
    "# Длины сторон треугольника\n",
    "a, b, c = 3, 4, 5\n",
    "\n",
    "#ваш код\n",
    "R = # ваш код\n",
    "print(\"Радиус описанной окружности:\", R)"
   ]
  },
  {
   "cell_type": "markdown",
   "metadata": {
    "id": "X_Z6Jrf-Xe9C"
   },
   "source": [
    "15. Найдите длину кривой $\\mathbf{r}(t) = (t^2, t^3, t)$ на интервале $[0, 1]$.\n",
    "\n",
    "Длина кривой $\\mathbf{r}(t) = (x(t), y(t), z(t))$ вычисляется по формуле:\n",
    "$$ L = \\int_a^b \\sqrt{\\left(\\frac{dx}{dt}\\right)^2 + \\left(\\frac{dy}{dt}\\right)^2 + \\left(\\frac{dz}{dt}\\right)^2} dt $$"
   ]
  },
  {
   "cell_type": "code",
   "execution_count": 16,
   "metadata": {
    "id": "j4U9QJNVXfT8"
   },
   "outputs": [
    {
     "name": "stdout",
     "output_type": "stream",
     "text": [
      "Длина кривой: 1.86\n"
     ]
    }
   ],
   "source": [
    "import numpy as np\n",
    "import math\n",
    "\n",
    "# Производные компонентов кривой\n",
    "def dxdt(t):\n",
    "    return 2*t\n",
    "\n",
    "def dydt(t):\n",
    "    return 3*t**2\n",
    "\n",
    "def dzdt(t):\n",
    "    return 1\n",
    "\n",
    "# Определяем функцию под интегралом\n",
    "def integrand(t):\n",
    "    return np.sqrt(dxdt(t)**2 + dydt(t)**2 + dzdt(t)**2)\n",
    "\n",
    "def trapezoidal_rule(a, b, n):\n",
    "    x = np.linspace(a, b, n+1)\n",
    "    y = integrand(x)\n",
    "    dt = (b - a) / n\n",
    "    return dt * (np.sum(y) - 0.5 * (y[0] + y[-1]))\n",
    "\n",
    "# Метод прямоугольников (/численого интегрирования)\n",
    "a, b = 0, 1\n",
    "n = 1000\n",
    "\n",
    "length = trapezoidal_rule(a, b, n)\n",
    "# Вычисление длины кривой\n",
    "# ваш код\n",
    "print(\"Длина кривой:\", round(length, 2))"
   ]
  },
  {
   "cell_type": "markdown",
   "metadata": {
    "id": "ZytCEmBgeaXD"
   },
   "source": [
    "16. Найдите минимальное значение функции $f(x) = (x - 2)^2$ на отрезке $[0, 5]$ методом золотого сечения.\n",
    "\n",
    "#### Формула метода золотого сечения:\n",
    "\n",
    "Метод золотого сечения используется для минимизации унимодальной функции на заданном интервале. Этот метод позволяет последовательно сужать область поиска минимума до заданной точности.\n",
    "\n",
    "Число золотого сечения $\\varphi$ (phi) вычисляется по следующей формуле:\n",
    "$\\varphi = \\frac{1 + \\sqrt{5}}{2} \\approx 1.618$\n",
    "\n",
    "Процесс сужения интервала:\n",
    "- Пусть начальный интервал поиска $[a, b]$.\n",
    "- Определяются две новые точки внутри интервала:\n",
    "  - $c = b - \\frac{b - a}{\\varphi}$\n",
    "  - $d = a + \\frac{b - a}{\\varphi}$\n",
    "\n",
    "- Вычисляются значения функции $f(c)$ и $f(d)$. Далее возможны два варианта:\n",
    "  1. Если $f(c) < f(d)$, то новый интервал поиска: $[a, d]$.\n",
    "  2. Если $f(c) \\geq f(d)$, то новый интервал поиска: $[c, b]$.\n",
    "\n",
    "Процесс продолжается до тех пор, пока длина интервала не станет меньше заданной точности $\\epsilon$.\n",
    "\n",
    "#### Пояснение:\n",
    "Метод золотого сечения эффективно находит минимум функции за меньшее количество шагов по сравнению с методом перебора или равномерного деления интервала, так как использует пропорциональные отношения, характерные для числа золотого сечения."
   ]
  },
  {
   "cell_type": "code",
   "execution_count": 20,
   "metadata": {
    "id": "YhzGVGC8ea1e"
   },
   "outputs": [
    {
     "name": "stdout",
     "output_type": "stream",
     "text": [
      "Минимальное значение функции: 1.5214922752069158e-14 при x = 2.000000123348785\n"
     ]
    }
   ],
   "source": [
    "import math\n",
    "\n",
    "# Функция для минимизации\n",
    "def f(x):\n",
    "    return (x - 2)**2\n",
    "\n",
    "# Параметры метода золотого сечения\n",
    "a, b = 0, 5\n",
    "phi = (1 + math.sqrt(5)) / 2\n",
    "tol = 1e-6\n",
    "\n",
    "# Метод золотого сечения\n",
    "while abs(a-b) >= tol:\n",
    "    c = b - (b - a) / phi\n",
    "    d = a + (b - a) / phi\n",
    "    if f(c) < f(d):\n",
    "        b = d\n",
    "    else:\n",
    "        a = c\n",
    "\n",
    "\n",
    "# Минимальное значение функции\n",
    "min_x = (a+b)/2\n",
    "min_value = f(min_x)\n",
    "print(\"Минимальное значение функции:\", min_value, \"при x =\", min_x)"
   ]
  },
  {
   "cell_type": "markdown",
   "metadata": {
    "id": "ZWEovSCHgLks"
   },
   "source": [
    "17. Найдите угол между плоскостями $2x + 3y + 4z = 5$ и $x - 2y + z = 0$.\n",
    "\n",
    "Угол между двумя векторами определяется по формуле:\n",
    "\n",
    "$$\n",
    "\\cos(\\theta) = \\frac{\\mathbf{n_1} \\cdot \\mathbf{n_2}}{|\\mathbf{n_1}| |\\mathbf{n_2}|},\n",
    "$$\n",
    "\n",
    "где:\n",
    "- $\\mathbf{n_1} \\cdot \\mathbf{n_2}$ — скалярное произведение нормальных векторов,\n",
    "- $|\\mathbf{n_1}|$ и $|\\mathbf{n_2}|$ — длины нормальных векторов (их нормы)."
   ]
  },
  {
   "cell_type": "code",
   "execution_count": null,
   "metadata": {
    "id": "4-gpgBkCgMKr"
   },
   "outputs": [],
   "source": [
    "import numpy as np\n",
    "import math\n",
    "\n",
    "# Коэффициенты нормальных векторов\n",
    "n1 = # ваш код\n",
    "n2 = # ваш код\n",
    "\n",
    "# Скалярное произведение и длины векторов\n",
    "# ваш код\n",
    "\n",
    "# Вычисление угла\n",
    "cos_theta = # ваш код\n",
    "theta = # ваш код\n",
    "\n",
    "print(\"Угол между плоскостями:\", theta, \"градусов\")"
   ]
  },
  {
   "cell_type": "markdown",
   "metadata": {
    "id": "a4gPXquwgeRk"
   },
   "source": [
    "18. Найдите объем параллелепипеда, если его образуют векторы $\\mathbf{a} = (11, 2, 3)$, $\\mathbf{b} = (4, 5, 6)$ и $\\mathbf{c} = (7, 8, 9)$.\n",
    "\n",
    "Объем параллелепипеда, образованного тремя векторами $\\mathbf{a}$, $\\mathbf{b}$ и $\\mathbf{c}$, вычисляется как абсолютное значение смешанного произведения: $$V=∣a⋅(b×c)∣$$\n",
    "\n",
    "P.S. ошибки в векторах нет, в векторе а действительно стоит `11`, а не `1`"
   ]
  },
  {
   "cell_type": "code",
   "execution_count": null,
   "metadata": {
    "id": "6IadrjmMhZ0K"
   },
   "outputs": [],
   "source": [
    "import numpy as np\n",
    "\n",
    "# Векторы\n",
    "# ваш код\n",
    "\n",
    "# Смешанное произведение\n",
    "volume = # ваш код\n",
    "print(\"Объем параллелепипеда:\", volume)"
   ]
  },
  {
   "cell_type": "markdown",
   "metadata": {
    "id": "t7weHAMpiJtA"
   },
   "source": [
    "19. Найдите координаты центра описанной окружности треугольника с вершинами $A(1, 2)$, $B(3, 4)$, $C(5, 1)$.\n",
    "\n",
    "#### Формула для вычисления центра описанной окружности:\n",
    "\n",
    "Центр описанной окружности для треугольника с вершинами $A(x_1, y_1)$, $B(x_2, y_2)$ и $C(x_3, y_3)$ можно найти с использованием пересечения серединных перпендикуляров к сторонам треугольника.\n",
    "\n",
    "Для вычисления координат центра окружности $(x_o, y_o)$ используются следующие уравнения:\n",
    "\n",
    "$$\n",
    "x_o = \\frac{ (x_1^2 + y_1^2)(y_2 - y_3) + (x_2^2 + y_2^2)(y_3 - y_1) + (x_3^2 + y_3^2)(y_1 - y_2) }{ 2 \\cdot \\Delta }\n",
    "$$\n",
    "$$\n",
    "y_o = \\frac{ (x_1^2 + y_1^2)(x_3 - x_2) + (x_2^2 + y_2^2)(x_1 - x_3) + (x_3^2 + y_3^2)(x_2 - x_1) }{ 2 \\cdot \\Delta }\n",
    "$$\n",
    "\n",
    "где $\\Delta$ — определитель, равный удвоенной площади треугольника, вычисляемый как:\n",
    "\n",
    "$\n",
    "\\Delta = \\left| x_1(y_2 - y_3) + x_2(y_3 - y_1) + x_3(y_1 - y_2) \\right|\n",
    "$\n",
    "\n",
    "#### Пояснение:\n",
    "\n",
    "Координаты центра окружности определяются через пересечение серединных перпендикуляров к сторонам треугольника. Формулы учитывают координаты вершин треугольника и позволяют найти центр окружности."
   ]
  },
  {
   "cell_type": "code",
   "execution_count": null,
   "metadata": {
    "id": "01OCMPbMiZPn"
   },
   "outputs": [],
   "source": [
    "import numpy as np\n",
    "\n",
    "# Координаты вершин треугольника\n",
    "# ваш код\n",
    "\n",
    "# Вычисление площади треугольника через определитель\n",
    "def triangle_area(A, B, C):\n",
    "    return # ваш код\n",
    "\n",
    "# Определитель площади треугольника\n",
    "Delta = triangle_area(A, B, C)\n",
    "\n",
    "# Вычисление координат центра описанной окружности\n",
    "x_o = # ваш код\n",
    "y_o = # ваш код\n",
    "\n",
    "print(\"Координаты центра описанной окружности:\", (x_o, y_o))"
   ]
  },
  {
   "cell_type": "markdown",
   "metadata": {
    "id": "wFgRoCK8isAN"
   },
   "source": [
    "20. Найдите площадь многоугольника с вершинами $P_1(1, 2)$, $P_2(4, 5)$, $P_3(7, 2)$, $P_4(4, 0)$.\n",
    "\n",
    "Площадь многоугольника с вершинами $(x_1, y_1), (x_2, y_2), \\dots, (x_n, y_n)$ вычисляется по формуле:\n",
    "\n",
    "$$\n",
    "A = \\frac{1}{2} \\left| \\sum_{i=1}^{n-1} (x_i y_{i+1} - x_{i+1} y_i) + (x_n y_1 - x_1 y_n) \\right|\n",
    "$$\n",
    "\n",
    "где $(x_1, y_1), (x_2, y_2), \\dots, (x_n, y_n)$ — координаты вершин многоугольника, расположенных в порядке обхода."
   ]
  },
  {
   "cell_type": "code",
   "execution_count": null,
   "metadata": {
    "id": "2_ihbq5-kWhy"
   },
   "outputs": [],
   "source": [
    "import numpy as np\n",
    "\n",
    "# Координаты вершин многоугольника\n",
    "vertices = # ваш код\n",
    "\n",
    "# Вычисление площади\n",
    "n = len(vertices)\n",
    "area = 0\n",
    "# ваш код\n",
    "\n",
    "area = abs(area) / 2\n",
    "print(\"Площадь многоугольника:\", area)"
   ]
  }
 ],
 "metadata": {
  "colab": {
   "provenance": []
  },
  "kernelspec": {
   "display_name": "Python 3 (ipykernel)",
   "language": "python",
   "name": "python3"
  },
  "language_info": {
   "codemirror_mode": {
    "name": "ipython",
    "version": 3
   },
   "file_extension": ".py",
   "mimetype": "text/x-python",
   "name": "python",
   "nbconvert_exporter": "python",
   "pygments_lexer": "ipython3",
   "version": "3.12.4"
  }
 },
 "nbformat": 4,
 "nbformat_minor": 4
}
