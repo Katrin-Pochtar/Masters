{
 "cells": [
  {
   "cell_type": "code",
   "execution_count": 1,
   "metadata": {},
   "outputs": [],
   "source": [
    "def are_brackets_balanced(s: str) -> bool:\n",
    "    # Соответствие закрывающих и открывающих скобок\n",
    "    bracket_pairs = {\n",
    "        ')': '(',\n",
    "        ']': '[',\n",
    "        '}': '{'\n",
    "    }\n",
    "\n",
    "    stack = []\n",
    "    for ch in s:\n",
    "        # Проверяем, не является ли символ открывающей скобкой\n",
    "        if ch in '([{':\n",
    "            stack.append(ch)\n",
    "        # Если это закрывающая скобка\n",
    "        elif ch in ')]}':\n",
    "            # Если стек пуст или верхняя скобка не та, которую ожидаем\n",
    "            if not stack or stack[-1] != bracket_pairs[ch]:\n",
    "                return False\n",
    "            stack.pop()\n",
    "\n",
    "    # Если после обхода всей строки стек не пуст, значит не все скобки закрыты\n",
    "    return len(stack) == 0"
   ]
  },
  {
   "cell_type": "code",
   "execution_count": 2,
   "metadata": {},
   "outputs": [],
   "source": [
    "# Примеры\n",
    "test_strings = [\n",
    "    \"([]{})\",     # True\n",
    "    \"([]{}]\",     # False\n",
    "    \"(({{[]}}))\", # True\n",
    "    \"{[)]\",       # False\n",
    "    \"{([])}\",     # True\n",
    "    \"((()\",       # False\n",
    "    \"{}\",         # True\n",
    "    \"{[()}]\",     # False\n",
    "]"
   ]
  },
  {
   "cell_type": "code",
   "execution_count": 3,
   "metadata": {},
   "outputs": [
    {
     "name": "stdout",
     "output_type": "stream",
     "text": [
      "'([]{})' -> True\n",
      "'([]{}]' -> False\n",
      "'(({{[]}}))' -> True\n",
      "'{[)]' -> False\n",
      "'{([])}' -> True\n",
      "'((()' -> False\n",
      "'{}' -> True\n",
      "'{[()}]' -> False\n"
     ]
    }
   ],
   "source": [
    "for s in test_strings:\n",
    "    print(f\"{s!r} -> {are_brackets_balanced(s)}\")"
   ]
  }
 ],
 "metadata": {
  "kernelspec": {
   "display_name": "Python 3",
   "language": "python",
   "name": "python3"
  },
  "language_info": {
   "codemirror_mode": {
    "name": "ipython",
    "version": 3
   },
   "file_extension": ".py",
   "mimetype": "text/x-python",
   "name": "python",
   "nbconvert_exporter": "python",
   "pygments_lexer": "ipython3",
   "version": "3.12.6"
  }
 },
 "nbformat": 4,
 "nbformat_minor": 2
}
