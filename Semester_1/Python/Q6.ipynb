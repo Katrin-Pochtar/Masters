{
 "cells": [
  {
   "cell_type": "code",
   "execution_count": 1,
   "metadata": {},
   "outputs": [],
   "source": [
    "def is_palindrome(s: str) -> bool:\n",
    "    \"\"\"Проверяет, является ли строка палиндромом.\"\"\"\n",
    "    return s == s[::-1]\n",
    "\n",
    "\n",
    "def check_palindrome_range(s: str, left: int, right: int) -> bool:\n",
    "    \"\"\"\n",
    "    Проверяет, является ли подстрока s[left:right+1] палиндромом.\n",
    "    Например, если left=1 и right=4, проверяем s[1:5].\n",
    "    \"\"\"\n",
    "    return s[left:right+1] == s[left:right+1][::-1]\n",
    "\n",
    "\n",
    "def palindrome_status(s: str) -> str:\n",
    "    \"\"\"\n",
    "    Возвращает один из трех результатов для строки s:\n",
    "    - \"Palindrome\", если это палиндром.\n",
    "    - \"Almost palindrome\", если достаточно удалить одну букву, чтобы стало палиндромом.\n",
    "    - \"Not palindrome\", если не подходит под первые два случая.\n",
    "    \"\"\"\n",
    "    # 1. Сразу проверим, не является ли строка палиндромом\n",
    "    if is_palindrome(s):\n",
    "        return \"Palindrome\"\n",
    "\n",
    "    # 2. Проверяем возможность «почти палиндрома» (удаление ровно одной буквы)\n",
    "    left, right = 0, len(s) - 1\n",
    "    while left < right:\n",
    "        if s[left] == s[right]:\n",
    "            left += 1\n",
    "            right -= 1\n",
    "        else:\n",
    "            # Попробуем \"пропустить\" символ слева\n",
    "            skip_left = check_palindrome_range(s, left+1, right)\n",
    "            # Попробуем \"пропустить\" символ справа\n",
    "            skip_right = check_palindrome_range(s, left, right-1)\n",
    "            \n",
    "            if skip_left or skip_right:\n",
    "                return \"Almost palindrome\"\n",
    "            else:\n",
    "                return \"Not palindrome\"\n",
    "    \n",
    "    # Если цикл завершился без возврата, значит мы где-то внутри смогли\n",
    "    # всё \"состыковать\". Формально это означает палиндром, \n",
    "    # но мы уже знаем, что \"сразу\" палиндромом строка не была,\n",
    "    # значит это «почти палиндром».\n",
    "    return \"Almost palindrome\"\n"
   ]
  },
  {
   "cell_type": "code",
   "execution_count": 2,
   "metadata": {},
   "outputs": [
    {
     "name": "stdout",
     "output_type": "stream",
     "text": [
      "'abba' -> Palindrome\n",
      "'abca' -> Almost palindrome\n",
      "'abc' -> Not palindrome\n",
      "'a' -> Palindrome\n",
      "'radkar' -> Almost palindrome\n",
      "'abxba' -> Palindrome\n",
      "'abxbay' -> Almost palindrome\n"
     ]
    }
   ],
   "source": [
    "# Тестируем\n",
    "if __name__ == \"__main__\":\n",
    "    test_strings = [\n",
    "        \"abba\",        # палиндром\n",
    "        \"abca\",        # можно удалить 'c' => палиндром \"aba\"\n",
    "        \"abc\",         # не палиндром, удаление одной буквы не спасает\n",
    "        \"a\",           # строка из 1 символа — палиндром\n",
    "        \"radkar\",      # можно удалить 'd' => \"ra kar\" => \"rak ar\"? Нужно проверить\n",
    "                       #     \"radkar\" -> удалим 'd' => \"rakar\" -> это палиндром\n",
    "        \"abxba\",       # палиндром сразу\n",
    "        \"abxbay\"       # можно удалить 'y'? Тогда \"abxba\" — палиндром => Almost\n",
    "    ]\n",
    "\n",
    "    for t in test_strings:\n",
    "        print(f\"'{t}' -> {palindrome_status(t)}\")"
   ]
  }
 ],
 "metadata": {
  "kernelspec": {
   "display_name": "Python 3",
   "language": "python",
   "name": "python3"
  },
  "language_info": {
   "codemirror_mode": {
    "name": "ipython",
    "version": 3
   },
   "file_extension": ".py",
   "mimetype": "text/x-python",
   "name": "python",
   "nbconvert_exporter": "python",
   "pygments_lexer": "ipython3",
   "version": "3.12.6"
  }
 },
 "nbformat": 4,
 "nbformat_minor": 2
}
