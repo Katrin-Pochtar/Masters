{
 "cells": [
  {
   "cell_type": "code",
   "execution_count": 4,
   "metadata": {},
   "outputs": [],
   "source": [
    "def reverse_words_in_blocks(filename, block_size=2):\n",
    "    # Шаг 1. Считываем все строки из файла в список\n",
    "    with open(filename, 'r', encoding='utf-8') as f:\n",
    "        lines = [line.strip() for line in f if line.strip()]\n",
    "\n",
    "    # Шаг 2. Идём по списку предложений блоками\n",
    "    for i in range(0, len(lines), block_size):\n",
    "        block = lines[i:i+block_size]\n",
    "\n",
    "        # Шаг 3. В каждом предложении меняем порядок слов на обратный\n",
    "        for sentence in block:\n",
    "            words = sentence.split()\n",
    "            reversed_sentence = ' '.join(reversed(words))\n",
    "            print(reversed_sentence)"
   ]
  },
  {
   "cell_type": "code",
   "execution_count": 5,
   "metadata": {},
   "outputs": [
    {
     "name": "stdout",
     "output_type": "stream",
     "text": [
      "дела как Привет\n",
      "дождь идет улице На\n",
      "программирование люблю Я\n"
     ]
    }
   ],
   "source": [
    "reverse_words_in_blocks('input.txt', block_size=2)"
   ]
  },
  {
   "cell_type": "code",
   "execution_count": 7,
   "metadata": {},
   "outputs": [
    {
     "name": "stdout",
     "output_type": "stream",
     "text": [
      "'aaabbc' -> 'a3b2c'\n",
      "'abcd' -> 'abcd'\n",
      "'aaaa' -> 'a4'\n",
      "'abca' -> 'abca'\n",
      "'' -> ''\n",
      "'aabbaa' -> 'a2b2a2'\n",
      "'abcdddddd' -> 'abcd6'\n"
     ]
    }
   ],
   "source": [
    "def compress_string(s: str) -> str:\n",
    "    # Если строка пустая, сразу возвращаем её\n",
    "    if not s:\n",
    "        return s\n",
    "    \n",
    "    compressed_parts = []\n",
    "    current_char = s[0]\n",
    "    count = 1\n",
    "    \n",
    "    # Собираем серии подряд идущих одинаковых символов\n",
    "    for i in range(1, len(s)):\n",
    "        if s[i] == current_char:\n",
    "            count += 1\n",
    "        else:\n",
    "            # Добавляем в сжатую строку накопленный символ\n",
    "            if count == 1:\n",
    "                compressed_parts.append(current_char)\n",
    "            else:\n",
    "                compressed_parts.append(current_char + str(count))\n",
    "            \n",
    "            # Обнуляем счётчик\n",
    "            current_char = s[i]\n",
    "            count = 1\n",
    "    \n",
    "    # Не забываем про самую последнюю серию\n",
    "    if count == 1:\n",
    "        compressed_parts.append(current_char)\n",
    "    else:\n",
    "        compressed_parts.append(current_char + str(count))\n",
    "    \n",
    "    # Формируем итоговую сжатую строку\n",
    "    compressed_str = \"\".join(compressed_parts)\n",
    "    \n",
    "    # Сравниваем длины\n",
    "    if len(compressed_str) <= len(s):\n",
    "        return compressed_str\n",
    "    else:\n",
    "        return s\n",
    "\n",
    "\n",
    "# Тесты\n",
    "tests = [\"aaabbc\", \"abcd\", \"aaaa\", \"abca\", \"\", \"aabbaa\", \"abcdddddd\"]\n",
    "\n",
    "for t in tests:\n",
    "    print(f\"'{t}' -> '{compress_string(t)}'\")\n"
   ]
  }
 ],
 "metadata": {
  "kernelspec": {
   "display_name": "Python 3",
   "language": "python",
   "name": "python3"
  },
  "language_info": {
   "codemirror_mode": {
    "name": "ipython",
    "version": 3
   },
   "file_extension": ".py",
   "mimetype": "text/x-python",
   "name": "python",
   "nbconvert_exporter": "python",
   "pygments_lexer": "ipython3",
   "version": "3.12.6"
  }
 },
 "nbformat": 4,
 "nbformat_minor": 2
}
