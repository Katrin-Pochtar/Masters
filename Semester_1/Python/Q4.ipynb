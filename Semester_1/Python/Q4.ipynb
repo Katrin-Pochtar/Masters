{
 "cells": [
  {
   "cell_type": "code",
   "execution_count": 1,
   "metadata": {},
   "outputs": [],
   "source": [
    "import random\n",
    "import string"
   ]
  },
  {
   "cell_type": "code",
   "execution_count": 2,
   "metadata": {},
   "outputs": [],
   "source": [
    "def generate_password(length: int) -> str:\n",
    "    \"\"\"\n",
    "    Генерирует пароль заданной длины, который содержит:\n",
    "    - хотя бы 1 букву верхнего регистра\n",
    "    - хотя бы 1 букву нижнего регистра\n",
    "    - хотя бы 1 цифру\n",
    "    - хотя бы 1 специальный символ\n",
    "    \"\"\"\n",
    "    # Проверка на минимальную длину\n",
    "    # Чтобы удовлетворить всем категориям, нужно минимум 4 символа\n",
    "    if length < 4:\n",
    "        raise ValueError(\"Длина пароля должна быть не менее 4 символов.\")\n",
    "\n",
    "    # Наборы символов\n",
    "    uppercase = string.ascii_uppercase   # ABC...Z\n",
    "    lowercase = string.ascii_lowercase   # abc...z\n",
    "    digits    = string.digits            # 0123456789\n",
    "    symbols   = string.punctuation       # !@#$%^&*() и т.д.\n",
    "    \n",
    "    # Гарантированно кладём по 1 символу каждой категории\n",
    "    # (таким образом гарантируем, что они будут в пароле)\n",
    "    password_chars = [\n",
    "        random.choice(uppercase),\n",
    "        random.choice(lowercase),\n",
    "        random.choice(digits),\n",
    "        random.choice(symbols)\n",
    "    ]\n",
    "    \n",
    "    # Оставшиеся символы (если length > 4) берём из общего набора\n",
    "    all_chars = uppercase + lowercase + digits + symbols\n",
    "    remaining_length = length - 4\n",
    "    \n",
    "    # Генерируем оставшиеся символы\n",
    "    password_chars += [random.choice(all_chars) for _ in range(remaining_length)]\n",
    "    \n",
    "    # Перемешиваем полученный список символов\n",
    "    random.shuffle(password_chars)\n",
    "    \n",
    "    # Превращаем список символов в строку\n",
    "    return \"\".join(password_chars)"
   ]
  },
  {
   "cell_type": "code",
   "execution_count": 3,
   "metadata": {},
   "outputs": [
    {
     "name": "stdout",
     "output_type": "stream",
     "text": [
      "Сгенерированный пароль длиной 8: )\\sQu{3f\n",
      "Сгенерированный пароль длиной 12: j*jk@>7Em-.Y\n",
      "Сгенерированный пароль длиной 16: c&C0},TEw?\"k6l\"u\n"
     ]
    }
   ],
   "source": [
    "# Пример использования\n",
    "if __name__ == \"__main__\":\n",
    "    # Сгенерируем несколько паролей разной длины\n",
    "    for length in [8, 12, 16]:\n",
    "        pwd = generate_password(length)\n",
    "        print(f\"Сгенерированный пароль длиной {length}: {pwd}\")"
   ]
  }
 ],
 "metadata": {
  "kernelspec": {
   "display_name": "Python 3",
   "language": "python",
   "name": "python3"
  },
  "language_info": {
   "codemirror_mode": {
    "name": "ipython",
    "version": 3
   },
   "file_extension": ".py",
   "mimetype": "text/x-python",
   "name": "python",
   "nbconvert_exporter": "python",
   "pygments_lexer": "ipython3",
   "version": "3.12.6"
  }
 },
 "nbformat": 4,
 "nbformat_minor": 2
}
