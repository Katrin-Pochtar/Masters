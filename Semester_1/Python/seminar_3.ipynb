{
  "nbformat": 4,
  "nbformat_minor": 0,
  "metadata": {
    "colab": {
      "provenance": []
    },
    "kernelspec": {
      "name": "python3",
      "display_name": "Python 3"
    },
    "language_info": {
      "name": "python"
    }
  },
  "cells": [
    {
      "cell_type": "markdown",
      "source": [
        "На этом практическом занятии мы будем работать с датасетом Titanic\n",
        "\n",
        "Информация о столбцах:\n",
        "\n",
        "- **PassengerId**: уникальный id пассажира\n",
        "- **Pclass**: класс каюты, в которой ехал пассажир (1, 2 или 3)\n",
        "- **Name**: имя пассажира\n",
        "- **Sex**: пол пассажира\n",
        "- **Age**: возраст пассажира\n",
        "- **SibSp**: общее количество братьев, сестер и супругов пассажира, которые также ехали на Титанике\n",
        "- **Parch**: общее количество родителей и детей пассажира, которые также ехали на Титанике\n",
        "- **Ticket**: номер билета пассажира\n",
        "- **Fare**: стоимость билета пассажира\n",
        "- **Cabin**: номер каюты пассажира\n",
        "- **Embarked**: в каком порту пассажир сел на Титаник:\n",
        "  - **S**: Southhampton\n",
        "  - **C**: Cherbourg\n",
        "  - **Q**: Queenstown"
      ],
      "metadata": {
        "id": "P3ZUoZvMDKpk"
      }
    },
    {
      "cell_type": "markdown",
      "source": [
        "# Задания с использованием библиотеки Pandas"
      ],
      "metadata": {
        "id": "EGJ5gvy8KE2W"
      }
    },
    {
      "cell_type": "markdown",
      "source": [
        "1. Загрузите датасет Titanic и выведите первые и последние 10 строк. Проверьте типы данных для каждой колонки, есть ли пропущенные значения, и определите размер датасета.\n",
        "\n",
        "Подсказка: DataFrame считывается, как обычный *.csv файл. В скобках нужно будет указать переменную url вместо 'название_файла.csv'\n",
        "\n",
        "Каждое действие можно делать отдельно в новой ячейки в jupyter notebook"
      ],
      "metadata": {
        "id": "eb17znUoBUee"
      }
    },
    {
      "cell_type": "code",
      "execution_count": 3,
      "metadata": {
        "id": "RhtW4NnfBGNo"
      },
      "outputs": [],
      "source": [
        "import pandas as pd\n",
        "\n",
        "# Прямая ссылка на csv файл\n",
        "url = \"https://raw.githubusercontent.com/datasciencedojo/datasets/master/titanic.csv\"\n",
        "\n",
        "# Загрузка датасета\n",
        "# ваш код"
      ]
    },
    {
      "cell_type": "code",
      "source": [
        "# ваш код"
      ],
      "metadata": {
        "id": "w_cGIpihCnr6"
      },
      "execution_count": null,
      "outputs": []
    },
    {
      "cell_type": "code",
      "source": [
        "# ваш код"
      ],
      "metadata": {
        "id": "5OkMEIqXCnxo"
      },
      "execution_count": null,
      "outputs": []
    },
    {
      "cell_type": "code",
      "source": [
        "# ваш код"
      ],
      "metadata": {
        "id": "sXzLv22ICn7G"
      },
      "execution_count": null,
      "outputs": []
    },
    {
      "cell_type": "code",
      "source": [
        "# ваш код"
      ],
      "metadata": {
        "id": "NIiagX3BCoBA"
      },
      "execution_count": null,
      "outputs": []
    },
    {
      "cell_type": "markdown",
      "source": [
        "2. Найдите количество пропущенных значений в колонке 'Age'. Заполните пропуски в 'Age' средним возрастом и убедитесь, что пропущенных данных больше нет."
      ],
      "metadata": {
        "id": "C7g1JTTBCKKW"
      }
    },
    {
      "cell_type": "code",
      "source": [
        "# ваш код"
      ],
      "metadata": {
        "id": "9eW-Ig0XC8tF"
      },
      "execution_count": null,
      "outputs": []
    },
    {
      "cell_type": "markdown",
      "source": [
        "3. Создайте новую колонку 'FamilySize', которая вычисляет количество членов семьи пассажира (складывая колонки 'SibSp' и 'Parch'). Выведите первых 10 строк с новой колонкой."
      ],
      "metadata": {
        "id": "afO61qUjDd97"
      }
    },
    {
      "cell_type": "code",
      "source": [
        "# ваш код"
      ],
      "metadata": {
        "id": "WN3mSvPpDgya"
      },
      "execution_count": null,
      "outputs": []
    },
    {
      "cell_type": "markdown",
      "source": [
        "4. Посчитайте минимальный, максимальный возраст пассажиров, а также минимальную и максимальную цену билета (Fare) для каждой группы пассажиров по полу ('Sex') и классу ('Pclass')."
      ],
      "metadata": {
        "id": "9hIWfmTgD67T"
      }
    },
    {
      "cell_type": "code",
      "source": [
        "# ваш код"
      ],
      "metadata": {
        "id": "_9BqUMtzEUO0"
      },
      "execution_count": null,
      "outputs": []
    },
    {
      "cell_type": "markdown",
      "source": [
        "5. Выведите всех пассажиров, чей возраст больше 50 лет и кто путешествовал в первом классе."
      ],
      "metadata": {
        "id": "pJjnSgeCEVNl"
      }
    },
    {
      "cell_type": "code",
      "source": [
        "# ваш код"
      ],
      "metadata": {
        "id": "RFK3sxxZEbAJ"
      },
      "execution_count": null,
      "outputs": []
    },
    {
      "cell_type": "markdown",
      "source": [
        "6. Вычислите процент выживших пассажиров в зависимости от пола ('Sex') и класса ('Pclass') до 2ух знаков после запятой. Выведите результат в виде таблицы."
      ],
      "metadata": {
        "id": "VRvfjTyaEbJd"
      }
    },
    {
      "cell_type": "code",
      "source": [
        "# ваш код"
      ],
      "metadata": {
        "id": "vHHxCl3qIHZ2"
      },
      "execution_count": null,
      "outputs": []
    },
    {
      "cell_type": "markdown",
      "source": [
        "7. Удалите колонку 'Cabin', так как она содержит слишком много пропущенных значений. Убедитесь, что колонка удалена.\n"
      ],
      "metadata": {
        "id": "v8gfZAI8IG0Q"
      }
    },
    {
      "cell_type": "code",
      "source": [
        "# ваш код"
      ],
      "metadata": {
        "id": "609DdNGIIqpS"
      },
      "execution_count": null,
      "outputs": []
    },
    {
      "cell_type": "markdown",
      "source": [
        "8. Отсортируйте данные по возрасту пассажиров в порядке убывания и выведите первые 10 строк отсортированного датасета."
      ],
      "metadata": {
        "id": "9JbtTfSZIq4X"
      }
    },
    {
      "cell_type": "code",
      "source": [
        "# ваш код"
      ],
      "metadata": {
        "id": "L9qh8zbuI5ml"
      },
      "execution_count": null,
      "outputs": []
    },
    {
      "cell_type": "markdown",
      "source": [
        "9. Создайте сводную таблицу, которая покажет среднюю стоимость билета (Fare) и возраст (Age) для пассажиров по полу и классу."
      ],
      "metadata": {
        "id": "IwSsMgjoI6lA"
      }
    },
    {
      "cell_type": "code",
      "source": [
        "# ваш код"
      ],
      "metadata": {
        "id": "HchGJpJ_JBVK"
      },
      "execution_count": null,
      "outputs": []
    },
    {
      "cell_type": "markdown",
      "source": [
        "10. Преобразуйте колонку 'Name', чтобы извлечь статус (например, 'Mr.', 'Mrs.', 'Miss.') для каждого пассажира и добавьте новую колонку 'Title'. Выведите 5 строк с новой колонкой."
      ],
      "metadata": {
        "id": "Fw6g-34CJBg3"
      }
    },
    {
      "cell_type": "code",
      "source": [
        "# ваш код"
      ],
      "metadata": {
        "id": "j7tzXnS6JB22"
      },
      "execution_count": null,
      "outputs": []
    },
    {
      "cell_type": "markdown",
      "source": [
        "# Задания с использованием библиотеки Matplotlib"
      ],
      "metadata": {
        "id": "6l4ejGCjKIet"
      }
    },
    {
      "cell_type": "markdown",
      "source": [
        "11. Постройте гистограмму распределения возраста пассажиров с 20 интервалами. Выведите название таблицы \"Распределение возраста пассажиров\", а также названия оси X \"Возраст\" и оси Y \"Количество пассажиров\".\n",
        "\n",
        "Подсказка: не забудьте сначала импортировать библиотеку Matplotlib"
      ],
      "metadata": {
        "id": "sGJZEL1NKLpw"
      }
    },
    {
      "cell_type": "code",
      "source": [
        "# ваш код"
      ],
      "metadata": {
        "id": "QkGKBSqYKMzK"
      },
      "execution_count": null,
      "outputs": []
    },
    {
      "cell_type": "markdown",
      "source": [
        "12. Постройте диаграмму рассеяния, чтобы отобразить связь между возрастом пассажира и стоимостью его билета. Придумайте и выведите соответсвтующее название диагарммы, а также подпишите оси!"
      ],
      "metadata": {
        "id": "Z0NPA7iRKM5X"
      }
    },
    {
      "cell_type": "code",
      "source": [
        "# ваш код"
      ],
      "metadata": {
        "id": "MbSroRA7KM_C"
      },
      "execution_count": null,
      "outputs": []
    },
    {
      "cell_type": "markdown",
      "source": [
        "13. Постройте столбчатую диаграмму, отображающую количество выживших и погибших пассажиров в зависимости от пола. Придумайте и выведите соответсвтующее название диагарммы, а также подпишите оси!"
      ],
      "metadata": {
        "id": "wnKf9v8fKNFG"
      }
    },
    {
      "cell_type": "code",
      "source": [
        "# ваш код"
      ],
      "metadata": {
        "id": "8OxDY8UuKNKW"
      },
      "execution_count": null,
      "outputs": []
    },
    {
      "cell_type": "markdown",
      "source": [
        "14. Постройте круговую диаграмму, которая отобразит процент выживших и погибших пассажиров. Сделайте необходимые подписи, дайте название диаграмме и выведите их. Доля погибших пассажиров должна быть - **красной**, а выживших - **зеленой**. Также выведите проценты внутри долей!"
      ],
      "metadata": {
        "id": "r947kN5LLZ4F"
      }
    },
    {
      "cell_type": "code",
      "source": [
        "# ваш код"
      ],
      "metadata": {
        "id": "ELN36CNvLbDC"
      },
      "execution_count": null,
      "outputs": []
    },
    {
      "cell_type": "markdown",
      "source": [
        "15. Постройте диаграмму boxplot для распределения стоимости билетов с разбивкой по классам пассажиров. Уберите автоматический заголовок и выведите свой заголовок с подписанными осями."
      ],
      "metadata": {
        "id": "7qFfZq8sLbQQ"
      }
    },
    {
      "cell_type": "code",
      "source": [
        "# ваш код"
      ],
      "metadata": {
        "id": "JU_PclBGLbXb"
      },
      "execution_count": null,
      "outputs": []
    },
    {
      "cell_type": "markdown",
      "source": [
        "16. Постройте линейный график, отображающий количество пассажиров в зависимости от их возраста (сгруппированного по 5 лет). Дайте подходящее название графику, подпишите оси!"
      ],
      "metadata": {
        "id": "TvqmEpjjMVsZ"
      }
    },
    {
      "cell_type": "code",
      "source": [
        "# ваш код"
      ],
      "metadata": {
        "id": "geJdJKPRMV3I"
      },
      "execution_count": null,
      "outputs": []
    },
    {
      "cell_type": "markdown",
      "source": [
        "17. Постройте гистограмму, отображающую распределение количества членов семьи у пассажиров. Придумайте и выведите соответсвтующее название диагарммы, а также подпишите оси!"
      ],
      "metadata": {
        "id": "vxTTTq3XMWCL"
      }
    },
    {
      "cell_type": "code",
      "source": [
        "# ваш код"
      ],
      "metadata": {
        "id": "370e72k_MWJO"
      },
      "execution_count": null,
      "outputs": []
    },
    {
      "cell_type": "markdown",
      "source": [
        "18. Постройте многослойную столбчатую диаграмму, отображающую выживаемость пассажиров по классам с разбивкой по полу. Придумайте и выведите соответсвтующее название диагарммы, а также подпишите оси!"
      ],
      "metadata": {
        "id": "pZrahOkxMWzO"
      }
    },
    {
      "cell_type": "code",
      "source": [
        "# ваш код"
      ],
      "metadata": {
        "id": "zZG1AqLHMW53"
      },
      "execution_count": null,
      "outputs": []
    },
    {
      "cell_type": "markdown",
      "source": [
        "19. Постройте столбчатую диаграмму, отображающую средний возраст выживших и погибших пассажиров. Придумайте и выведите соответсвтующее название диагарммы, а также подпишите оси!"
      ],
      "metadata": {
        "id": "rxQLlv-kMXEF"
      }
    },
    {
      "cell_type": "code",
      "source": [
        "# ваш код"
      ],
      "metadata": {
        "id": "Yd98hE2NMXIq"
      },
      "execution_count": null,
      "outputs": []
    },
    {
      "cell_type": "markdown",
      "source": [
        "20. Постройте столбчатую диаграмму, отображающую количество пассажиров, отправившихся из каждого порта (колонка 'Embarked'). Отобразите порты 'C' (Cherbourg) - желтый цвет, 'Q' (Queenstown) - зеленый цвет, и 'S' (Southampton) - синий цвет. Придумайте и выведите соответсвтующее название диагарммы, а также подпишите оси!"
      ],
      "metadata": {
        "id": "iCkGXIC0MXRT"
      }
    },
    {
      "cell_type": "code",
      "source": [
        "# ваш код"
      ],
      "metadata": {
        "id": "FWDOHcO5MXWF"
      },
      "execution_count": null,
      "outputs": []
    },
    {
      "cell_type": "markdown",
      "source": [
        "# Задания с использованием библиотеки Seaborn"
      ],
      "metadata": {
        "id": "je5FmxUMN131"
      }
    },
    {
      "cell_type": "markdown",
      "source": [
        "21. Постройте тепловую карту (heatmap) для отображения корреляции между **числовыми** признаками датасета. Дайте и выведите название этой матрицы!"
      ],
      "metadata": {
        "id": "pNW1TXgXN2Za"
      }
    },
    {
      "cell_type": "code",
      "source": [
        "# ваш код"
      ],
      "metadata": {
        "id": "TO_fjrqkN3V8"
      },
      "execution_count": null,
      "outputs": []
    },
    {
      "cell_type": "markdown",
      "source": [
        "22. Постройте jointplot, отображающий диаграмму рассеяния возраста и стоимости билета с плотностями распределения по осям. Подпишите оси!"
      ],
      "metadata": {
        "id": "np9kZhgZN3jE"
      }
    },
    {
      "cell_type": "code",
      "source": [
        "# ваш код"
      ],
      "metadata": {
        "id": "dgvf6aP8N3sB"
      },
      "execution_count": null,
      "outputs": []
    },
    {
      "cell_type": "markdown",
      "source": [
        "23. Постройте swarmplot, чтобы отобразить возраст пассажиров в зависимости от класса. Придумайте и выведите соответсвтующее название диагарммы, а также подпишите оси!"
      ],
      "metadata": {
        "id": "jM_JSLqIN33W"
      }
    },
    {
      "cell_type": "code",
      "source": [
        "# ваш код"
      ],
      "metadata": {
        "id": "E778ztOIN38G"
      },
      "execution_count": null,
      "outputs": []
    },
    {
      "cell_type": "markdown",
      "source": [
        "24. Постройте сетку графиков с помощью FacetGrid для отображения распределения стоимости билета с разбивкой по полу и порту отправления. Придумайте и выведите соответсвтующее название диагарммы, а также подпишите оси!"
      ],
      "metadata": {
        "id": "IyEBsGlqN4EE"
      }
    },
    {
      "cell_type": "code",
      "source": [
        "# ваш код"
      ],
      "metadata": {
        "id": "o7Edl-t7N4IO"
      },
      "execution_count": null,
      "outputs": []
    },
    {
      "cell_type": "markdown",
      "source": [
        "25. Постройте barplot, который отобразит медианную стоимость билетов с разбивкой по полу и порту отправления. В библиотеке Seaborn можно использовать numpy.median, чтобы задать функцию для estimator. Не забудьте импортировать numpy! Придумайте и выведите соответсвтующее название диагарммы, а также подпишите оси!"
      ],
      "metadata": {
        "id": "GD00j6tFN51k"
      }
    },
    {
      "cell_type": "code",
      "source": [
        "# ваш код"
      ],
      "metadata": {
        "id": "ipXt_I16N6JN"
      },
      "execution_count": null,
      "outputs": []
    },
    {
      "cell_type": "markdown",
      "source": [
        "26. Постройте pointplot, чтобы показать, как изменяется вероятность выживания в зависимости от пола и класса. Придумайте и выведите соответсвтующее название диагарммы, а также подпишите оси!"
      ],
      "metadata": {
        "id": "rXp-4GCzN6u7"
      }
    },
    {
      "cell_type": "code",
      "source": [
        "# ваш код"
      ],
      "metadata": {
        "id": "0PP18yiNN6z8"
      },
      "execution_count": null,
      "outputs": []
    },
    {
      "cell_type": "markdown",
      "source": [
        "27. Постройте pairplot для числовых признаков (например, возраста, стоимости билета, количества членов семьи) с разделением по полу."
      ],
      "metadata": {
        "id": "ECFUaaYbN7D8"
      }
    },
    {
      "cell_type": "code",
      "source": [
        "# ваш код"
      ],
      "metadata": {
        "id": "lxUAoRh3N7H9"
      },
      "execution_count": null,
      "outputs": []
    },
    {
      "cell_type": "markdown",
      "source": [
        "28. Постройте heatmap, который покажет частоту пересечений возраста и количества членов семьи (колонка SibSp). Дайте соответствующее название вашей heatmap"
      ],
      "metadata": {
        "id": "kbrxVC3QN7V0"
      }
    },
    {
      "cell_type": "code",
      "source": [
        "# ваш код"
      ],
      "metadata": {
        "id": "hIN6hqOUN7hx"
      },
      "execution_count": null,
      "outputs": []
    },
    {
      "cell_type": "markdown",
      "source": [
        "29. Постройте boxenplot, чтобы показать детализированное распределение стоимости билетов по полу и классу. Придумайте и выведите соответсвтующее название диагарммы, а также подпишите оси!"
      ],
      "metadata": {
        "id": "o_p7DiomN7y_"
      }
    },
    {
      "cell_type": "code",
      "source": [
        "# ваш код"
      ],
      "metadata": {
        "id": "Xhm6AhaoN791"
      },
      "execution_count": null,
      "outputs": []
    },
    {
      "cell_type": "markdown",
      "source": [
        "30. Постройте stripplot, чтобы визуализировать распределение возраста пассажиров по классам, а также добавьте разбивку по полу. Придумайте и выведите соответсвтующее название диагарммы, а также подпишите оси!"
      ],
      "metadata": {
        "id": "lyv-vNJIN8N7"
      }
    },
    {
      "cell_type": "code",
      "source": [
        "# ваш код"
      ],
      "metadata": {
        "id": "ZUvU9KP2N8fN"
      },
      "execution_count": null,
      "outputs": []
    }
  ]
}